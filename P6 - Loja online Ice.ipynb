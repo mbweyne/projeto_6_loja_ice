{
  "cells": [
    {
      "cell_type": "markdown",
      "metadata": {
        "id": "-v8YjuXIUdhN"
      },
      "source": [
        "<div class=\"alert alert-block alert-success\">\n",
        "<b> Comentário do revisor: </b> <a class=\"tocSkip\"></a>\n",
        "\n",
        "Tudo certo agora. Desejo sucesso na jornada. Parabéns pelo empenho.\n",
        "</div>\n"
      ]
    },
    {
      "cell_type": "markdown",
      "metadata": {
        "id": "Tah9XBJsUdhN"
      },
      "source": [
        "## Popular Games Analysis"
      ]
    },
    {
      "cell_type": "raw",
      "metadata": {
        "id": "AnGi7MjoUdhN"
      },
      "source": [
        "## Lembrete: Colocar aqui um descritio do objetivo da analise/projeto"
      ]
    },
    {
      "cell_type": "markdown",
      "metadata": {
        "id": "Vkh2mLECUdhN"
      },
      "source": [
        "### Biblioteca"
      ]
    },
    {
      "cell_type": "code",
      "execution_count": null,
      "metadata": {
        "id": "CD4G3FyqUdhN"
      },
      "outputs": [],
      "source": [
        "import pandas as pd\n",
        "from scipy import stats as st\n",
        "import numpy as np\n",
        "from matplotlib import pyplot as plt\n",
        "import seaborn as sns"
      ]
    },
    {
      "cell_type": "markdown",
      "metadata": {
        "id": "Kos3IGQvUdhO"
      },
      "source": [
        "### Leitura dos dados"
      ]
    },
    {
      "cell_type": "code",
      "execution_count": null,
      "metadata": {
        "id": "X3iv6ZoLUdhO"
      },
      "outputs": [],
      "source": [
        "df = pd.read_csv('/datasets/games.csv')"
      ]
    },
    {
      "cell_type": "code",
      "execution_count": null,
      "metadata": {
        "id": "nvU_gJ1rUdhO",
        "outputId": "40b50f38-0701-4f08-8086-9f0baf11111f"
      },
      "outputs": [
        {
          "data": {
            "text/html": [
              "<div>\n",
              "<style scoped>\n",
              "    .dataframe tbody tr th:only-of-type {\n",
              "        vertical-align: middle;\n",
              "    }\n",
              "\n",
              "    .dataframe tbody tr th {\n",
              "        vertical-align: top;\n",
              "    }\n",
              "\n",
              "    .dataframe thead th {\n",
              "        text-align: right;\n",
              "    }\n",
              "</style>\n",
              "<table border=\"1\" class=\"dataframe\">\n",
              "  <thead>\n",
              "    <tr style=\"text-align: right;\">\n",
              "      <th></th>\n",
              "      <th>Name</th>\n",
              "      <th>Platform</th>\n",
              "      <th>Year_of_Release</th>\n",
              "      <th>Genre</th>\n",
              "      <th>NA_sales</th>\n",
              "      <th>EU_sales</th>\n",
              "      <th>JP_sales</th>\n",
              "      <th>Other_sales</th>\n",
              "      <th>Critic_Score</th>\n",
              "      <th>User_Score</th>\n",
              "      <th>Rating</th>\n",
              "    </tr>\n",
              "  </thead>\n",
              "  <tbody>\n",
              "    <tr>\n",
              "      <th>0</th>\n",
              "      <td>Wii Sports</td>\n",
              "      <td>Wii</td>\n",
              "      <td>2006.0</td>\n",
              "      <td>Sports</td>\n",
              "      <td>41.36</td>\n",
              "      <td>28.96</td>\n",
              "      <td>3.77</td>\n",
              "      <td>8.45</td>\n",
              "      <td>76.0</td>\n",
              "      <td>8</td>\n",
              "      <td>E</td>\n",
              "    </tr>\n",
              "    <tr>\n",
              "      <th>1</th>\n",
              "      <td>Super Mario Bros.</td>\n",
              "      <td>NES</td>\n",
              "      <td>1985.0</td>\n",
              "      <td>Platform</td>\n",
              "      <td>29.08</td>\n",
              "      <td>3.58</td>\n",
              "      <td>6.81</td>\n",
              "      <td>0.77</td>\n",
              "      <td>NaN</td>\n",
              "      <td>NaN</td>\n",
              "      <td>NaN</td>\n",
              "    </tr>\n",
              "    <tr>\n",
              "      <th>2</th>\n",
              "      <td>Mario Kart Wii</td>\n",
              "      <td>Wii</td>\n",
              "      <td>2008.0</td>\n",
              "      <td>Racing</td>\n",
              "      <td>15.68</td>\n",
              "      <td>12.76</td>\n",
              "      <td>3.79</td>\n",
              "      <td>3.29</td>\n",
              "      <td>82.0</td>\n",
              "      <td>8.3</td>\n",
              "      <td>E</td>\n",
              "    </tr>\n",
              "    <tr>\n",
              "      <th>3</th>\n",
              "      <td>Wii Sports Resort</td>\n",
              "      <td>Wii</td>\n",
              "      <td>2009.0</td>\n",
              "      <td>Sports</td>\n",
              "      <td>15.61</td>\n",
              "      <td>10.93</td>\n",
              "      <td>3.28</td>\n",
              "      <td>2.95</td>\n",
              "      <td>80.0</td>\n",
              "      <td>8</td>\n",
              "      <td>E</td>\n",
              "    </tr>\n",
              "    <tr>\n",
              "      <th>4</th>\n",
              "      <td>Pokemon Red/Pokemon Blue</td>\n",
              "      <td>GB</td>\n",
              "      <td>1996.0</td>\n",
              "      <td>Role-Playing</td>\n",
              "      <td>11.27</td>\n",
              "      <td>8.89</td>\n",
              "      <td>10.22</td>\n",
              "      <td>1.00</td>\n",
              "      <td>NaN</td>\n",
              "      <td>NaN</td>\n",
              "      <td>NaN</td>\n",
              "    </tr>\n",
              "  </tbody>\n",
              "</table>\n",
              "</div>"
            ],
            "text/plain": [
              "                       Name Platform  Year_of_Release         Genre  NA_sales  \\\n",
              "0                Wii Sports      Wii           2006.0        Sports     41.36   \n",
              "1         Super Mario Bros.      NES           1985.0      Platform     29.08   \n",
              "2            Mario Kart Wii      Wii           2008.0        Racing     15.68   \n",
              "3         Wii Sports Resort      Wii           2009.0        Sports     15.61   \n",
              "4  Pokemon Red/Pokemon Blue       GB           1996.0  Role-Playing     11.27   \n",
              "\n",
              "   EU_sales  JP_sales  Other_sales  Critic_Score User_Score Rating  \n",
              "0     28.96      3.77         8.45          76.0          8      E  \n",
              "1      3.58      6.81         0.77           NaN        NaN    NaN  \n",
              "2     12.76      3.79         3.29          82.0        8.3      E  \n",
              "3     10.93      3.28         2.95          80.0          8      E  \n",
              "4      8.89     10.22         1.00           NaN        NaN    NaN  "
            ]
          },
          "execution_count": 3,
          "metadata": {},
          "output_type": "execute_result"
        }
      ],
      "source": [
        "df.head()"
      ]
    },
    {
      "cell_type": "markdown",
      "metadata": {
        "id": "tEvIR4wtUdhP"
      },
      "source": [
        "### Informações gerais sobre a base de dados"
      ]
    },
    {
      "cell_type": "code",
      "execution_count": null,
      "metadata": {
        "id": "zeFeDPXHUdhP",
        "outputId": "57d74542-c3f2-4871-ed2d-b02a20f83b87"
      },
      "outputs": [
        {
          "name": "stdout",
          "output_type": "stream",
          "text": [
            "<class 'pandas.core.frame.DataFrame'>\n",
            "RangeIndex: 16715 entries, 0 to 16714\n",
            "Data columns (total 11 columns):\n",
            " #   Column           Non-Null Count  Dtype  \n",
            "---  ------           --------------  -----  \n",
            " 0   Name             16713 non-null  object \n",
            " 1   Platform         16715 non-null  object \n",
            " 2   Year_of_Release  16446 non-null  float64\n",
            " 3   Genre            16713 non-null  object \n",
            " 4   NA_sales         16715 non-null  float64\n",
            " 5   EU_sales         16715 non-null  float64\n",
            " 6   JP_sales         16715 non-null  float64\n",
            " 7   Other_sales      16715 non-null  float64\n",
            " 8   Critic_Score     8137 non-null   float64\n",
            " 9   User_Score       10014 non-null  object \n",
            " 10  Rating           9949 non-null   object \n",
            "dtypes: float64(6), object(5)\n",
            "memory usage: 1.4+ MB\n"
          ]
        }
      ],
      "source": [
        "df.info()"
      ]
    },
    {
      "cell_type": "markdown",
      "metadata": {
        "id": "JgH2dl2UUdhP"
      },
      "source": [
        "### Prepare os dados"
      ]
    },
    {
      "cell_type": "raw",
      "metadata": {
        "id": "CKWD_LDHUdhP"
      },
      "source": [
        "* Substituir os nomes das colunas (transformar tudo em minúsculos)."
      ]
    },
    {
      "cell_type": "code",
      "execution_count": null,
      "metadata": {
        "id": "JCIaXqMhUdhP"
      },
      "outputs": [],
      "source": [
        "df.columns = df.columns.str.lower()"
      ]
    },
    {
      "cell_type": "code",
      "execution_count": null,
      "metadata": {
        "id": "msePJm7_UdhP",
        "outputId": "0432c34c-3e25-4d50-8dee-dce53c23c6d5"
      },
      "outputs": [
        {
          "data": {
            "text/plain": [
              "Index(['name', 'platform', 'year_of_release', 'genre', 'na_sales', 'eu_sales',\n",
              "       'jp_sales', 'other_sales', 'critic_score', 'user_score', 'rating'],\n",
              "      dtype='object')"
            ]
          },
          "execution_count": 6,
          "metadata": {},
          "output_type": "execute_result"
        }
      ],
      "source": [
        "#  Conferir se todas as colunas estão com letras minusculas\n",
        "df.columns"
      ]
    },
    {
      "cell_type": "code",
      "execution_count": null,
      "metadata": {
        "id": "1lV3OGraUdhP",
        "outputId": "86ad450b-9135-4dbb-b7d0-bdbd91217075"
      },
      "outputs": [
        {
          "name": "stdout",
          "output_type": "stream",
          "text": [
            "<class 'pandas.core.frame.DataFrame'>\n",
            "Int64Index: 16446 entries, 0 to 16714\n",
            "Data columns (total 11 columns):\n",
            " #   Column           Non-Null Count  Dtype  \n",
            "---  ------           --------------  -----  \n",
            " 0   name             16444 non-null  object \n",
            " 1   platform         16446 non-null  object \n",
            " 2   year_of_release  16446 non-null  int64  \n",
            " 3   genre            16444 non-null  object \n",
            " 4   na_sales         16446 non-null  float64\n",
            " 5   eu_sales         16446 non-null  float64\n",
            " 6   jp_sales         16446 non-null  float64\n",
            " 7   other_sales      16446 non-null  float64\n",
            " 8   critic_score     7983 non-null   float64\n",
            " 9   user_score       9839 non-null   object \n",
            " 10  rating           9768 non-null   object \n",
            "dtypes: float64(5), int64(1), object(5)\n",
            "memory usage: 1.5+ MB\n"
          ]
        }
      ],
      "source": [
        "# Alterar o tipo de dados em Year_of_Release, porque essa coluna se refere o Ano de Lançamento, assim sendo tem que estar como Inteiro.\n",
        "\n",
        "df = df.dropna(subset = ['year_of_release'])\n",
        "df['year_of_release'] = df['year_of_release'].astype('int')\n",
        "df.info()"
      ]
    },
    {
      "cell_type": "code",
      "execution_count": null,
      "metadata": {
        "id": "rj_PT4KgUdhP"
      },
      "outputs": [],
      "source": [
        "# Substituir 'tbd' por NaN\n",
        "df['user_score'] = df['user_score'].replace('tbd', np.nan)"
      ]
    },
    {
      "cell_type": "code",
      "execution_count": null,
      "metadata": {
        "id": "OhJoXO2EUdhQ",
        "outputId": "b0149c4f-b281-4a85-d147-85453ed86215"
      },
      "outputs": [
        {
          "name": "stdout",
          "output_type": "stream",
          "text": [
            "<class 'pandas.core.frame.DataFrame'>\n",
            "Int64Index: 16446 entries, 0 to 16714\n",
            "Data columns (total 11 columns):\n",
            " #   Column           Non-Null Count  Dtype  \n",
            "---  ------           --------------  -----  \n",
            " 0   name             16444 non-null  object \n",
            " 1   platform         16446 non-null  object \n",
            " 2   year_of_release  16446 non-null  int64  \n",
            " 3   genre            16444 non-null  object \n",
            " 4   na_sales         16446 non-null  float64\n",
            " 5   eu_sales         16446 non-null  float64\n",
            " 6   jp_sales         16446 non-null  float64\n",
            " 7   other_sales      16446 non-null  float64\n",
            " 8   critic_score     7983 non-null   float64\n",
            " 9   user_score       7463 non-null   float64\n",
            " 10  rating           9768 non-null   object \n",
            "dtypes: float64(6), int64(1), object(4)\n",
            "memory usage: 1.5+ MB\n"
          ]
        }
      ],
      "source": [
        "df['user_score'] = df['user_score'].astype('float64')\n",
        "df.info()"
      ]
    },
    {
      "cell_type": "markdown",
      "metadata": {
        "id": "YzOSZqYqUdhQ"
      },
      "source": [
        "A maioria das bibliotecas de análise de dados, como pandas em Python, possuem funções otimizadas para lidar com NaN. Por exemplo, funções como mean(), sum(), e dropna() lidam automaticamente com NaN, enquanto strings como 'tbd' precisariam de tratamento adicional."
      ]
    },
    {
      "cell_type": "code",
      "execution_count": null,
      "metadata": {
        "id": "EiGgrV6_UdhQ",
        "outputId": "a50db1c3-ec34-46ef-81c7-3580b57945ca"
      },
      "outputs": [
        {
          "name": "stdout",
          "output_type": "stream",
          "text": [
            "['Sports' 'Platform' 'Racing' 'Role-Playing' 'Puzzle' 'Misc' 'Shooter'\n",
            " 'Simulation' 'Action' 'Fighting' 'Adventure' 'Strategy' nan]\n"
          ]
        }
      ],
      "source": [
        "print(df['genre'].unique())"
      ]
    },
    {
      "cell_type": "code",
      "execution_count": null,
      "metadata": {
        "id": "-fmLK7DeUdhQ",
        "outputId": "91434147-683f-42b4-d1b5-4de0079b1d22"
      },
      "outputs": [
        {
          "name": "stdout",
          "output_type": "stream",
          "text": [
            "      name platform  year_of_release genre  na_sales  eu_sales  jp_sales  \\\n",
            "659    NaN      GEN             1993   NaN      1.78      0.53      0.00   \n",
            "14244  NaN      GEN             1993   NaN      0.00      0.00      0.03   \n",
            "\n",
            "       other_sales  critic_score  user_score rating  \n",
            "659           0.08           NaN         NaN    NaN  \n",
            "14244         0.00           NaN         NaN    NaN  \n"
          ]
        }
      ],
      "source": [
        "# Quero ver todas as colunas onde tem o Genre == NaN para saber que posso tratar\n",
        "\n",
        "print(df[df['genre'].isna()])\n"
      ]
    },
    {
      "cell_type": "code",
      "execution_count": null,
      "metadata": {
        "id": "3v9b8-F9UdhQ",
        "outputId": "1b5d10d4-e61e-44a1-e25b-74cf0b54dcf8"
      },
      "outputs": [
        {
          "name": "stdout",
          "output_type": "stream",
          "text": [
            "Empty DataFrame\n",
            "Columns: [name, platform, year_of_release, genre, na_sales, eu_sales, jp_sales, other_sales, critic_score, user_score, rating]\n",
            "Index: []\n"
          ]
        }
      ],
      "source": [
        "# Como os dados onde a coluna 'genre' que estão como NaN são insignificantes, resolvi exclui-los, assim também removi onde o 'name' é NaN\n",
        "\n",
        "df = df.dropna(subset=['genre'])\n",
        "print(df[df['genre'].isna()])"
      ]
    },
    {
      "cell_type": "code",
      "execution_count": null,
      "metadata": {
        "id": "T7DIqUSKUdhQ",
        "outputId": "c8e5df33-c91e-4ec5-b405-9aeb80d33ef3"
      },
      "outputs": [
        {
          "name": "stdout",
          "output_type": "stream",
          "text": [
            "Empty DataFrame\n",
            "Columns: [name, platform, year_of_release, genre, na_sales, eu_sales, jp_sales, other_sales, critic_score, user_score, rating]\n",
            "Index: []\n"
          ]
        }
      ],
      "source": [
        "# Verificar se o name que sejam NaN tenham sido removidos\n",
        "print(df[df['name'].isna()])"
      ]
    },
    {
      "cell_type": "code",
      "execution_count": null,
      "metadata": {
        "id": "pNs7ER4HUdhR",
        "outputId": "6eceb030-2106-4778-fbcf-af5a94224070"
      },
      "outputs": [
        {
          "name": "stdout",
          "output_type": "stream",
          "text": [
            "Empty DataFrame\n",
            "Columns: [name, platform, year_of_release, genre, na_sales, eu_sales, jp_sales, other_sales, critic_score, user_score, rating]\n",
            "Index: []\n"
          ]
        }
      ],
      "source": [
        "print(df[df['platform'].isna()])"
      ]
    },
    {
      "cell_type": "markdown",
      "metadata": {
        "id": "HdUfxAEMUdhR"
      },
      "source": [
        "1. Explique por que você preencheu os valores ausentes da forma que você fez ou por que você decidiu deixá-los em branco.\n",
        "\n",
        "Esta abordagem é baseada na premissa de que, se houver múltiplas entradas para o mesmo jogo na mesma plataforma, o ano de lançamento mais antigo é o mais provável de ser o correto.\n",
        "\n",
        "Se ainda restarem valores ausentes após o primeiro passo, a próxima tentativa é preencher com base no ano mínimo para cada jogo (name), independentemente da plataforma. Isso é útil porque o jogo pode ter sido lançado em várias plataformas em diferentes anos, e ter pelo menos o ano mais antigo do jogo é melhor do que deixar o valor ausente.\n",
        "\n",
        "Apesar de ser menos preciso, quis deixar o campo anos sem nenhum NaN com base no ano mínimo de lançamento para cada plataforma. Este é um último recurso para garantir que nenhum valor NaN permaneça.\n",
        "\n",
        "2. Por que acha que os valores estão ausentes? Dê possíveis razões.\n",
        "\n",
        "Erros Humanos: Quando os dados foram inseridos manualmente, pode ter havido omissões ou erros de digitação.\n",
        "Faltas na Documentação: Informações sobre o ano de lançamento podem não ter sido documentadas corretamente na fonte original dos dados.\n",
        "Problemas Técnicos: Durante a transferência ou integração dos dados entre diferentes sistemas, pode ter havido falhas que resultaram na perda de informações.\n"
      ]
    },
    {
      "cell_type": "code",
      "execution_count": null,
      "metadata": {
        "id": "Arrur5F0UdhR"
      },
      "outputs": [],
      "source": [
        "# Preste atenção à abreviação TBD (a ser determinada). Especifique como pretende lidar com esses casos.\n",
        "# Substituir 'tbd' por NaN\n",
        "df['user_score'] = df['user_score'].replace('tbd', np.nan)"
      ]
    },
    {
      "cell_type": "markdown",
      "metadata": {
        "id": "Lo4z9ggqUdhR"
      },
      "source": [
        "Apenas trocando, com o metodo replace, o tbd por NaN"
      ]
    },
    {
      "cell_type": "code",
      "execution_count": null,
      "metadata": {
        "id": "tNKQerujUdhR",
        "outputId": "2dc5e657-d218-47ba-8f97-84c24faccbdd"
      },
      "outputs": [
        {
          "data": {
            "text/plain": [
              "0"
            ]
          },
          "execution_count": 16,
          "metadata": {},
          "output_type": "execute_result"
        }
      ],
      "source": [
        "df['year_of_release'].isna().sum()"
      ]
    },
    {
      "cell_type": "code",
      "execution_count": null,
      "metadata": {
        "id": "E5HZyUpqUdhR",
        "outputId": "d6b5f746-9136-4cb2-94b9-2a8b2a408eb8"
      },
      "outputs": [
        {
          "name": "stdout",
          "output_type": "stream",
          "text": [
            "name                  0\n",
            "platform              0\n",
            "year_of_release       0\n",
            "genre                 0\n",
            "na_sales              0\n",
            "eu_sales              0\n",
            "jp_sales              0\n",
            "other_sales           0\n",
            "critic_score       8461\n",
            "user_score         8981\n",
            "rating             6676\n",
            "dtype: int64\n"
          ]
        }
      ],
      "source": [
        "# Se necessário, decida como lidar com valores ausentes:\n",
        "\n",
        "missing_values = df.isnull().sum()\n",
        "print(missing_values)"
      ]
    },
    {
      "cell_type": "raw",
      "metadata": {
        "id": "MxLpyTMvUdhS"
      },
      "source": [
        "* Decidi deixar os valores ausentes das colunas critic_score, user_score e rating porque irei analisar primeiro as vendas\n",
        "* Decidi remover os valores ausentes da coluna 'genre', porque os valores de vendas eram irrelevantes, com isso também foi removido os valores ausentes da coluna 'name'"
      ]
    },
    {
      "cell_type": "markdown",
      "metadata": {
        "id": "Fi6F1TZJUdhS"
      },
      "source": [
        "* Conclusão :\n",
        "    * As colunas Name e Genre têm 2 valores faltantes que foram removidos.\n",
        "    * A coluna Critic_Score tem muitos valores faltantes (8137 não-nulos de 16715).\n",
        "    * A coluna Rating também tem 6766 valores faltantes.\n",
        "    * A coluna User_Score contém 6701 valores faltantes\n",
        "    "
      ]
    },
    {
      "cell_type": "markdown",
      "metadata": {
        "id": "-j1YtMb-UdhS"
      },
      "source": [
        "### Remover linhas duplicadas"
      ]
    },
    {
      "cell_type": "code",
      "execution_count": null,
      "metadata": {
        "id": "ISXK6og8UdhS"
      },
      "outputs": [],
      "source": [
        "df_cleaned = df.drop_duplicates()"
      ]
    },
    {
      "cell_type": "code",
      "execution_count": null,
      "metadata": {
        "id": "WiHzYz0tUdhS",
        "outputId": "b5431e94-fbdc-477d-e476-c55a7b44ea11"
      },
      "outputs": [
        {
          "name": "stdout",
          "output_type": "stream",
          "text": [
            "DataFrame sem linhas duplicadas:\n",
            "                                name platform  year_of_release         genre  \\\n",
            "0                         Wii Sports      Wii             2006        Sports   \n",
            "1                  Super Mario Bros.      NES             1985      Platform   \n",
            "2                     Mario Kart Wii      Wii             2008        Racing   \n",
            "3                  Wii Sports Resort      Wii             2009        Sports   \n",
            "4           Pokemon Red/Pokemon Blue       GB             1996  Role-Playing   \n",
            "...                              ...      ...              ...           ...   \n",
            "16710  Samurai Warriors: Sanada Maru      PS3             2016        Action   \n",
            "16711               LMA Manager 2007     X360             2006        Sports   \n",
            "16712        Haitaka no Psychedelica      PSV             2016     Adventure   \n",
            "16713               Spirits & Spells      GBA             2003      Platform   \n",
            "16714            Winning Post 8 2016      PSV             2016    Simulation   \n",
            "\n",
            "       na_sales  eu_sales  jp_sales  other_sales  critic_score  user_score  \\\n",
            "0         41.36     28.96      3.77         8.45          76.0         8.0   \n",
            "1         29.08      3.58      6.81         0.77           NaN         NaN   \n",
            "2         15.68     12.76      3.79         3.29          82.0         8.3   \n",
            "3         15.61     10.93      3.28         2.95          80.0         8.0   \n",
            "4         11.27      8.89     10.22         1.00           NaN         NaN   \n",
            "...         ...       ...       ...          ...           ...         ...   \n",
            "16710      0.00      0.00      0.01         0.00           NaN         NaN   \n",
            "16711      0.00      0.01      0.00         0.00           NaN         NaN   \n",
            "16712      0.00      0.00      0.01         0.00           NaN         NaN   \n",
            "16713      0.01      0.00      0.00         0.00           NaN         NaN   \n",
            "16714      0.00      0.00      0.01         0.00           NaN         NaN   \n",
            "\n",
            "      rating  \n",
            "0          E  \n",
            "1        NaN  \n",
            "2          E  \n",
            "3          E  \n",
            "4        NaN  \n",
            "...      ...  \n",
            "16710    NaN  \n",
            "16711    NaN  \n",
            "16712    NaN  \n",
            "16713    NaN  \n",
            "16714    NaN  \n",
            "\n",
            "[16444 rows x 11 columns]\n"
          ]
        }
      ],
      "source": [
        "# Verificar o DataFrame após a remoção de duplicatas\n",
        "print(\"DataFrame sem linhas duplicadas:\")\n",
        "print(df_cleaned)"
      ]
    },
    {
      "cell_type": "code",
      "execution_count": null,
      "metadata": {
        "id": "h0UlX-vPUdhS",
        "outputId": "0309bde1-d350-4a18-9600-16837f4dffc9"
      },
      "outputs": [
        {
          "name": "stdout",
          "output_type": "stream",
          "text": [
            "<class 'pandas.core.frame.DataFrame'>\n",
            "Int64Index: 16444 entries, 0 to 16714\n",
            "Data columns (total 11 columns):\n",
            " #   Column           Non-Null Count  Dtype  \n",
            "---  ------           --------------  -----  \n",
            " 0   name             16444 non-null  object \n",
            " 1   platform         16444 non-null  object \n",
            " 2   year_of_release  16444 non-null  int64  \n",
            " 3   genre            16444 non-null  object \n",
            " 4   na_sales         16444 non-null  float64\n",
            " 5   eu_sales         16444 non-null  float64\n",
            " 6   jp_sales         16444 non-null  float64\n",
            " 7   other_sales      16444 non-null  float64\n",
            " 8   critic_score     7983 non-null   float64\n",
            " 9   user_score       7463 non-null   float64\n",
            " 10  rating           9768 non-null   object \n",
            "dtypes: float64(6), int64(1), object(4)\n",
            "memory usage: 1.5+ MB\n"
          ]
        }
      ],
      "source": [
        "df.info()"
      ]
    },
    {
      "cell_type": "raw",
      "metadata": {
        "id": "bBIZtahzUdhS"
      },
      "source": [
        "* Conclusão:  Não há linhas duplicadas"
      ]
    },
    {
      "cell_type": "markdown",
      "metadata": {
        "id": "SRib9-yUUdhS"
      },
      "source": [
        "### Calcule o total de vendas (a soma das vendas em todas as regiões) para cada jogo e coloque esses valores em uma coluna separada."
      ]
    },
    {
      "cell_type": "code",
      "execution_count": null,
      "metadata": {
        "id": "AAjRrXTzUdhW",
        "outputId": "548cef6b-ca00-4dbb-ce25-14b80614f2d4"
      },
      "outputs": [
        {
          "data": {
            "text/html": [
              "<div>\n",
              "<style scoped>\n",
              "    .dataframe tbody tr th:only-of-type {\n",
              "        vertical-align: middle;\n",
              "    }\n",
              "\n",
              "    .dataframe tbody tr th {\n",
              "        vertical-align: top;\n",
              "    }\n",
              "\n",
              "    .dataframe thead th {\n",
              "        text-align: right;\n",
              "    }\n",
              "</style>\n",
              "<table border=\"1\" class=\"dataframe\">\n",
              "  <thead>\n",
              "    <tr style=\"text-align: right;\">\n",
              "      <th></th>\n",
              "      <th>name</th>\n",
              "      <th>platform</th>\n",
              "      <th>year_of_release</th>\n",
              "      <th>genre</th>\n",
              "      <th>na_sales</th>\n",
              "      <th>eu_sales</th>\n",
              "      <th>jp_sales</th>\n",
              "      <th>other_sales</th>\n",
              "      <th>critic_score</th>\n",
              "      <th>user_score</th>\n",
              "      <th>rating</th>\n",
              "      <th>total_sales</th>\n",
              "    </tr>\n",
              "  </thead>\n",
              "  <tbody>\n",
              "    <tr>\n",
              "      <th>0</th>\n",
              "      <td>Wii Sports</td>\n",
              "      <td>Wii</td>\n",
              "      <td>2006</td>\n",
              "      <td>Sports</td>\n",
              "      <td>41.36</td>\n",
              "      <td>28.96</td>\n",
              "      <td>3.77</td>\n",
              "      <td>8.45</td>\n",
              "      <td>76.0</td>\n",
              "      <td>8.0</td>\n",
              "      <td>E</td>\n",
              "      <td>82.54</td>\n",
              "    </tr>\n",
              "    <tr>\n",
              "      <th>1</th>\n",
              "      <td>Super Mario Bros.</td>\n",
              "      <td>NES</td>\n",
              "      <td>1985</td>\n",
              "      <td>Platform</td>\n",
              "      <td>29.08</td>\n",
              "      <td>3.58</td>\n",
              "      <td>6.81</td>\n",
              "      <td>0.77</td>\n",
              "      <td>NaN</td>\n",
              "      <td>NaN</td>\n",
              "      <td>NaN</td>\n",
              "      <td>40.24</td>\n",
              "    </tr>\n",
              "    <tr>\n",
              "      <th>2</th>\n",
              "      <td>Mario Kart Wii</td>\n",
              "      <td>Wii</td>\n",
              "      <td>2008</td>\n",
              "      <td>Racing</td>\n",
              "      <td>15.68</td>\n",
              "      <td>12.76</td>\n",
              "      <td>3.79</td>\n",
              "      <td>3.29</td>\n",
              "      <td>82.0</td>\n",
              "      <td>8.3</td>\n",
              "      <td>E</td>\n",
              "      <td>35.52</td>\n",
              "    </tr>\n",
              "    <tr>\n",
              "      <th>3</th>\n",
              "      <td>Wii Sports Resort</td>\n",
              "      <td>Wii</td>\n",
              "      <td>2009</td>\n",
              "      <td>Sports</td>\n",
              "      <td>15.61</td>\n",
              "      <td>10.93</td>\n",
              "      <td>3.28</td>\n",
              "      <td>2.95</td>\n",
              "      <td>80.0</td>\n",
              "      <td>8.0</td>\n",
              "      <td>E</td>\n",
              "      <td>32.77</td>\n",
              "    </tr>\n",
              "    <tr>\n",
              "      <th>4</th>\n",
              "      <td>Pokemon Red/Pokemon Blue</td>\n",
              "      <td>GB</td>\n",
              "      <td>1996</td>\n",
              "      <td>Role-Playing</td>\n",
              "      <td>11.27</td>\n",
              "      <td>8.89</td>\n",
              "      <td>10.22</td>\n",
              "      <td>1.00</td>\n",
              "      <td>NaN</td>\n",
              "      <td>NaN</td>\n",
              "      <td>NaN</td>\n",
              "      <td>31.38</td>\n",
              "    </tr>\n",
              "  </tbody>\n",
              "</table>\n",
              "</div>"
            ],
            "text/plain": [
              "                       name platform  year_of_release         genre  na_sales  \\\n",
              "0                Wii Sports      Wii             2006        Sports     41.36   \n",
              "1         Super Mario Bros.      NES             1985      Platform     29.08   \n",
              "2            Mario Kart Wii      Wii             2008        Racing     15.68   \n",
              "3         Wii Sports Resort      Wii             2009        Sports     15.61   \n",
              "4  Pokemon Red/Pokemon Blue       GB             1996  Role-Playing     11.27   \n",
              "\n",
              "   eu_sales  jp_sales  other_sales  critic_score  user_score rating  \\\n",
              "0     28.96      3.77         8.45          76.0         8.0      E   \n",
              "1      3.58      6.81         0.77           NaN         NaN    NaN   \n",
              "2     12.76      3.79         3.29          82.0         8.3      E   \n",
              "3     10.93      3.28         2.95          80.0         8.0      E   \n",
              "4      8.89     10.22         1.00           NaN         NaN    NaN   \n",
              "\n",
              "   total_sales  \n",
              "0        82.54  \n",
              "1        40.24  \n",
              "2        35.52  \n",
              "3        32.77  \n",
              "4        31.38  "
            ]
          },
          "execution_count": 21,
          "metadata": {},
          "output_type": "execute_result"
        }
      ],
      "source": [
        "# Calcule o total de vendas (a soma das vendas em todas as regiões) para cada jogo e coloque esses valores em uma coluna separada.\n",
        "df['total_sales'] = df['na_sales'] + df['eu_sales'] + df['jp_sales'] + df['other_sales']\n",
        "df.head()"
      ]
    },
    {
      "cell_type": "code",
      "execution_count": null,
      "metadata": {
        "id": "4l4tRuh_UdhW",
        "outputId": "6a97fec0-e1d4-4fa7-f2b6-60404a6a0332"
      },
      "outputs": [
        {
          "name": "stdout",
          "output_type": "stream",
          "text": [
            "                                name platform  year_of_release         genre  \\\n",
            "0                         Wii Sports      Wii             2006        Sports   \n",
            "1                  Super Mario Bros.      NES             1985      Platform   \n",
            "2                     Mario Kart Wii      Wii             2008        Racing   \n",
            "3                  Wii Sports Resort      Wii             2009        Sports   \n",
            "4           Pokemon Red/Pokemon Blue       GB             1996  Role-Playing   \n",
            "...                              ...      ...              ...           ...   \n",
            "16710  Samurai Warriors: Sanada Maru      PS3             2016        Action   \n",
            "16711               LMA Manager 2007     X360             2006        Sports   \n",
            "16712        Haitaka no Psychedelica      PSV             2016     Adventure   \n",
            "16713               Spirits & Spells      GBA             2003      Platform   \n",
            "16714            Winning Post 8 2016      PSV             2016    Simulation   \n",
            "\n",
            "       na_sales  eu_sales  jp_sales  other_sales  critic_score  user_score  \\\n",
            "0         41.36     28.96      3.77         8.45          76.0         8.0   \n",
            "1         29.08      3.58      6.81         0.77           NaN         NaN   \n",
            "2         15.68     12.76      3.79         3.29          82.0         8.3   \n",
            "3         15.61     10.93      3.28         2.95          80.0         8.0   \n",
            "4         11.27      8.89     10.22         1.00           NaN         NaN   \n",
            "...         ...       ...       ...          ...           ...         ...   \n",
            "16710      0.00      0.00      0.01         0.00           NaN         NaN   \n",
            "16711      0.00      0.01      0.00         0.00           NaN         NaN   \n",
            "16712      0.00      0.00      0.01         0.00           NaN         NaN   \n",
            "16713      0.01      0.00      0.00         0.00           NaN         NaN   \n",
            "16714      0.00      0.00      0.01         0.00           NaN         NaN   \n",
            "\n",
            "      rating  total_sales  \n",
            "0          E        82.54  \n",
            "1        NaN        40.24  \n",
            "2          E        35.52  \n",
            "3          E        32.77  \n",
            "4        NaN        31.38  \n",
            "...      ...          ...  \n",
            "16710    NaN         0.01  \n",
            "16711    NaN         0.01  \n",
            "16712    NaN         0.01  \n",
            "16713    NaN         0.01  \n",
            "16714    NaN         0.01  \n",
            "\n",
            "[16444 rows x 12 columns]\n"
          ]
        }
      ],
      "source": [
        "# Coloquei em ordem decrescente de total_sales\n",
        "\n",
        "df.sort_values(by='total_sales', ascending=False)\n",
        "print(df)"
      ]
    },
    {
      "cell_type": "markdown",
      "metadata": {
        "id": "JzycrhULUdhX"
      },
      "source": [
        "## Etapa 3. Analise os dados"
      ]
    },
    {
      "cell_type": "markdown",
      "metadata": {
        "id": "QsO7sqh4UdhX"
      },
      "source": [
        "### Veja quantos jogos foram lançados em anos diferentes"
      ]
    },
    {
      "cell_type": "code",
      "execution_count": null,
      "metadata": {
        "id": "zVDIpS8qUdhX",
        "outputId": "8e9e4c11-7c29-4da1-f6e9-74a0beec0671"
      },
      "outputs": [
        {
          "name": "stdout",
          "output_type": "stream",
          "text": [
            "    year_of_release  numero_de_jogos\n",
            "0              1980                9\n",
            "1              1981               46\n",
            "2              1982               36\n",
            "3              1983               17\n",
            "4              1984               14\n",
            "5              1985               14\n",
            "6              1986               21\n",
            "7              1987               16\n",
            "8              1988               15\n",
            "9              1989               17\n",
            "10             1990               16\n",
            "11             1991               41\n",
            "12             1992               43\n",
            "13             1993               60\n",
            "14             1994              121\n",
            "15             1995              219\n",
            "16             1996              263\n",
            "17             1997              289\n",
            "18             1998              379\n",
            "19             1999              338\n",
            "20             2000              350\n",
            "21             2001              482\n",
            "22             2002              829\n",
            "23             2003              775\n",
            "24             2004              762\n",
            "25             2005              939\n",
            "26             2006             1006\n",
            "27             2007             1197\n",
            "28             2008             1427\n",
            "29             2009             1426\n",
            "30             2010             1255\n",
            "31             2011             1136\n",
            "32             2012              653\n",
            "33             2013              544\n",
            "34             2014              581\n",
            "35             2015              606\n",
            "36             2016              502\n"
          ]
        }
      ],
      "source": [
        "df_new = df.groupby(['year_of_release']).count().reset_index().drop(columns = ['name','genre','na_sales','eu_sales','jp_sales','other_sales','critic_score','user_score','rating','total_sales'])\n",
        "df_new = df_new.rename(columns = {'platform': 'numero_de_jogos'})\n",
        "print(df_new.head(50))"
      ]
    },
    {
      "cell_type": "markdown",
      "metadata": {
        "id": "mYtVhC6wUdhX"
      },
      "source": [
        "\n"
      ]
    },
    {
      "cell_type": "code",
      "execution_count": null,
      "metadata": {
        "id": "ucfnJTHsUdhX",
        "outputId": "bb87d57c-28b3-4f0c-cfe1-7257e14bff5a"
      },
      "outputs": [
        {
          "data": {
            "text/plain": [
              "<AxesSubplot:title={'center':'Número de jogos Lançados por Ano'}, xlabel='Ano de lançamento', ylabel='Quantidade de jogos'>"
            ]
          },
          "execution_count": 24,
          "metadata": {},
          "output_type": "execute_result"
        },
        {
          "data": {
            "image/png": "[encoded data removed]",
            "text/plain": [
              "<Figure size 1000x700 with 1 Axes>"
            ]
          },
          "metadata": {},
          "output_type": "display_data"
        }
      ],
      "source": [
        "df_new.plot(title = 'Número de jogos Lançados por Ano',\n",
        "                        x = 'year_of_release',\n",
        "                        y='numero_de_jogos',\n",
        "                        kind = 'bar',\n",
        "                        xlabel = 'Ano de lançamento',\n",
        "                        ylabel = 'Quantidade de jogos',\n",
        "                        figsize = [10,7]\n",
        "\n",
        "                        )\n"
      ]
    },
    {
      "cell_type": "code",
      "execution_count": null,
      "metadata": {
        "id": "SOeM6sCrUdhX",
        "outputId": "05af8e4c-8b7a-4b7c-9469-905b5589e7ef"
      },
      "outputs": [
        {
          "data": {
            "image/png": "[encoded data removed]",
            "text/plain": [
              "<Figure size 1400x700 with 1 Axes>"
            ]
          },
          "metadata": {},
          "output_type": "display_data"
        }
      ],
      "source": [
        "# Criar boxplot para comparar a distribuição dos lançamentos por década\n",
        "df_new['decade'] = (df_new['year_of_release'] // 10) * 10\n",
        "plt.figure(figsize=(14, 7))\n",
        "sns.boxplot(x='decade', y='numero_de_jogos', data=df_new)\n",
        "plt.title('Distribuição do Número de Jogos Lançados por Década', fontsize=16)\n",
        "plt.xlabel('Década', fontsize=14)\n",
        "plt.ylabel('Número de Jogos', fontsize=14)\n",
        "plt.show()"
      ]
    },
    {
      "cell_type": "markdown",
      "metadata": {
        "id": "-XMOZ1hbUdhY"
      },
      "source": [
        "Os dados de cada período são significativos?\n",
        "São significativos, pois conseguimos observar as tendencia de crescimento ou queda, muito importante para fazer uma boa análise.\n",
        "\n",
        "Analisando o número de jogos lançados de 1980 a 2016, observamos:\n",
        "\n",
        "Crescimento Inicial: Houve um aumento constante nos lançamentos anuais até o início dos anos 2000, impulsionado por avanços tecnológicos e a popularidade crescente dos videogames.\n",
        "Pico de Lançamentos: O número de jogos lançados atingiu seu auge entre 2005 e 2010, especialmente em 2008 e 2009, com mais de 1400 jogos lançados por ano, coincidente com a sétima geração de consoles (Xbox 360, PlayStation 3, Wii).\n",
        "Declínio Pós-2010: Após 2010, houve uma queda significativa nos lançamentos anuais, refletindo a saturação do mercado, transições de console e a mudança para jogos móveis e digitais.\n",
        "Impacto dos Ciclos de Consoles: O número de lançamentos está frequentemente alinhado com a introdução de novas gerações de consoles, indicando que novos hardwares impulsionam o desenvolvimento de jogos."
      ]
    },
    {
      "cell_type": "markdown",
      "metadata": {
        "id": "jcx4P6NaUdhY"
      },
      "source": [
        "#### Veja como as vendas variaram de plataforma para plataforma."
      ]
    },
    {
      "cell_type": "code",
      "execution_count": null,
      "metadata": {
        "id": "pgD89cBIUdhY",
        "outputId": "79826157-5804-4efb-cada-e56b30dd4d59"
      },
      "outputs": [
        {
          "data": {
            "text/html": [
              "<div>\n",
              "<style scoped>\n",
              "    .dataframe tbody tr th:only-of-type {\n",
              "        vertical-align: middle;\n",
              "    }\n",
              "\n",
              "    .dataframe tbody tr th {\n",
              "        vertical-align: top;\n",
              "    }\n",
              "\n",
              "    .dataframe thead th {\n",
              "        text-align: right;\n",
              "    }\n",
              "</style>\n",
              "<table border=\"1\" class=\"dataframe\">\n",
              "  <thead>\n",
              "    <tr style=\"text-align: right;\">\n",
              "      <th></th>\n",
              "      <th>platform</th>\n",
              "      <th>total_sales</th>\n",
              "    </tr>\n",
              "  </thead>\n",
              "  <tbody>\n",
              "    <tr>\n",
              "      <th>0</th>\n",
              "      <td>PS2</td>\n",
              "      <td>1233.56</td>\n",
              "    </tr>\n",
              "    <tr>\n",
              "      <th>1</th>\n",
              "      <td>X360</td>\n",
              "      <td>961.24</td>\n",
              "    </tr>\n",
              "    <tr>\n",
              "      <th>2</th>\n",
              "      <td>PS3</td>\n",
              "      <td>931.34</td>\n",
              "    </tr>\n",
              "    <tr>\n",
              "      <th>3</th>\n",
              "      <td>Wii</td>\n",
              "      <td>891.18</td>\n",
              "    </tr>\n",
              "    <tr>\n",
              "      <th>4</th>\n",
              "      <td>DS</td>\n",
              "      <td>802.78</td>\n",
              "    </tr>\n",
              "    <tr>\n",
              "      <th>5</th>\n",
              "      <td>PS</td>\n",
              "      <td>727.58</td>\n",
              "    </tr>\n",
              "    <tr>\n",
              "      <th>6</th>\n",
              "      <td>PS4</td>\n",
              "      <td>314.14</td>\n",
              "    </tr>\n",
              "    <tr>\n",
              "      <th>7</th>\n",
              "      <td>GBA</td>\n",
              "      <td>312.88</td>\n",
              "    </tr>\n",
              "    <tr>\n",
              "      <th>8</th>\n",
              "      <td>PSP</td>\n",
              "      <td>289.53</td>\n",
              "    </tr>\n",
              "    <tr>\n",
              "      <th>9</th>\n",
              "      <td>3DS</td>\n",
              "      <td>257.81</td>\n",
              "    </tr>\n",
              "    <tr>\n",
              "      <th>10</th>\n",
              "      <td>PC</td>\n",
              "      <td>255.76</td>\n",
              "    </tr>\n",
              "    <tr>\n",
              "      <th>11</th>\n",
              "      <td>GB</td>\n",
              "      <td>254.43</td>\n",
              "    </tr>\n",
              "    <tr>\n",
              "      <th>12</th>\n",
              "      <td>XB</td>\n",
              "      <td>251.57</td>\n",
              "    </tr>\n",
              "    <tr>\n",
              "      <th>13</th>\n",
              "      <td>NES</td>\n",
              "      <td>251.05</td>\n",
              "    </tr>\n",
              "    <tr>\n",
              "      <th>14</th>\n",
              "      <td>N64</td>\n",
              "      <td>218.01</td>\n",
              "    </tr>\n",
              "    <tr>\n",
              "      <th>15</th>\n",
              "      <td>SNES</td>\n",
              "      <td>200.04</td>\n",
              "    </tr>\n",
              "    <tr>\n",
              "      <th>16</th>\n",
              "      <td>GC</td>\n",
              "      <td>196.73</td>\n",
              "    </tr>\n",
              "    <tr>\n",
              "      <th>17</th>\n",
              "      <td>XOne</td>\n",
              "      <td>159.32</td>\n",
              "    </tr>\n",
              "    <tr>\n",
              "      <th>18</th>\n",
              "      <td>2600</td>\n",
              "      <td>86.48</td>\n",
              "    </tr>\n",
              "    <tr>\n",
              "      <th>19</th>\n",
              "      <td>WiiU</td>\n",
              "      <td>82.19</td>\n",
              "    </tr>\n",
              "    <tr>\n",
              "      <th>20</th>\n",
              "      <td>PSV</td>\n",
              "      <td>53.81</td>\n",
              "    </tr>\n",
              "    <tr>\n",
              "      <th>21</th>\n",
              "      <td>SAT</td>\n",
              "      <td>33.59</td>\n",
              "    </tr>\n",
              "    <tr>\n",
              "      <th>22</th>\n",
              "      <td>GEN</td>\n",
              "      <td>28.35</td>\n",
              "    </tr>\n",
              "    <tr>\n",
              "      <th>23</th>\n",
              "      <td>DC</td>\n",
              "      <td>15.95</td>\n",
              "    </tr>\n",
              "    <tr>\n",
              "      <th>24</th>\n",
              "      <td>SCD</td>\n",
              "      <td>1.86</td>\n",
              "    </tr>\n",
              "    <tr>\n",
              "      <th>25</th>\n",
              "      <td>NG</td>\n",
              "      <td>1.44</td>\n",
              "    </tr>\n",
              "    <tr>\n",
              "      <th>26</th>\n",
              "      <td>WS</td>\n",
              "      <td>1.42</td>\n",
              "    </tr>\n",
              "    <tr>\n",
              "      <th>27</th>\n",
              "      <td>TG16</td>\n",
              "      <td>0.16</td>\n",
              "    </tr>\n",
              "    <tr>\n",
              "      <th>28</th>\n",
              "      <td>3DO</td>\n",
              "      <td>0.10</td>\n",
              "    </tr>\n",
              "    <tr>\n",
              "      <th>29</th>\n",
              "      <td>GG</td>\n",
              "      <td>0.04</td>\n",
              "    </tr>\n",
              "    <tr>\n",
              "      <th>30</th>\n",
              "      <td>PCFX</td>\n",
              "      <td>0.03</td>\n",
              "    </tr>\n",
              "  </tbody>\n",
              "</table>\n",
              "</div>"
            ],
            "text/plain": [
              "   platform  total_sales\n",
              "0       PS2      1233.56\n",
              "1      X360       961.24\n",
              "2       PS3       931.34\n",
              "3       Wii       891.18\n",
              "4        DS       802.78\n",
              "5        PS       727.58\n",
              "6       PS4       314.14\n",
              "7       GBA       312.88\n",
              "8       PSP       289.53\n",
              "9       3DS       257.81\n",
              "10       PC       255.76\n",
              "11       GB       254.43\n",
              "12       XB       251.57\n",
              "13      NES       251.05\n",
              "14      N64       218.01\n",
              "15     SNES       200.04\n",
              "16       GC       196.73\n",
              "17     XOne       159.32\n",
              "18     2600        86.48\n",
              "19     WiiU        82.19\n",
              "20      PSV        53.81\n",
              "21      SAT        33.59\n",
              "22      GEN        28.35\n",
              "23       DC        15.95\n",
              "24      SCD         1.86\n",
              "25       NG         1.44\n",
              "26       WS         1.42\n",
              "27     TG16         0.16\n",
              "28      3DO         0.10\n",
              "29       GG         0.04\n",
              "30     PCFX         0.03"
            ]
          },
          "execution_count": 26,
          "metadata": {},
          "output_type": "execute_result"
        }
      ],
      "source": [
        "df.groupby('platform')['total_sales'].sum().sort_values(ascending=False).reset_index()"
      ]
    },
    {
      "cell_type": "code",
      "execution_count": null,
      "metadata": {
        "scrolled": true,
        "id": "pmms6qhUUdhY",
        "outputId": "680c01d9-cf2c-44a8-e649-c4d803d3ff80"
      },
      "outputs": [
        {
          "data": {
            "image/png": "[encoded data removed]",
            "text/plain": [
              "<Figure size 1200x800 with 1 Axes>"
            ]
          },
          "metadata": {},
          "output_type": "display_data"
        }
      ],
      "source": [
        "#  Fazer um grafico\n",
        "plt.figure(figsize=[12, 8])\n",
        "plt.bar(df['platform'], df['total_sales'], color='skyblue')\n",
        "plt.xlabel('Plataforma')\n",
        "plt.ylabel('Vendas Totais')\n",
        "plt.title('Vendas Totais por Plataforma')\n",
        "plt.xticks(rotation=90)\n",
        "plt.show()"
      ]
    },
    {
      "cell_type": "markdown",
      "metadata": {
        "id": "iaaLONjRUdhY"
      },
      "source": [
        "#### Quanto tempo leva para as novas plataformas aparecerem e as antigas desaparecerem?\n",
        "\n",
        "Gerações de Consoles: O tempo médio de vida de uma geração de consoles de videogame pode variar, mas geralmente está na faixa de 5 a 7 anos. Por exemplo, o PS4 foi lançado em 2013 e o PS5 em 2020, dando uma vida útil de aproximadamente 7 anos para o PS4.\n",
        "\n",
        "Plataformas Portáteis: Plataformas portáteis, como o Nintendo DS e o Nintendo 3DS, podem ter ciclos de vida mais curtos, geralmente de 5 a 6 anos, devido à rápida evolução da tecnologia móvel."
      ]
    },
    {
      "cell_type": "markdown",
      "metadata": {
        "id": "ImZ1RsQNUdhY"
      },
      "source": [
        "#### Plataformas que Costumavam ser Populares, mas Agora Não Têm Vendas:\n",
        "\n",
        "Sega Dreamcast: Lançado em 1999, teve uma vida curta e foi descontinuado em 2001 devido a vendas fracas.\n",
        "Nintendo GameCube: Lançado em 2001, foi substituído pelo Wii em 2006 devido a vendas abaixo das expectativas.\n",
        "PlayStation Portable (PSP): Lançado em 2004, teve um declínio gradual após o lançamento do PlayStation Vita em 2011.\n"
      ]
    },
    {
      "cell_type": "markdown",
      "metadata": {
        "id": "KkZXUM-OUdhY"
      },
      "source": [
        "####  Quanto tempo leva para as novas plataformas aparecerem e as antigas desaparecerem?\n",
        "\n",
        "As novas gerações de consoles geralmente surgem a cada 5-7 anos, com empresas como Sony, Microsoft e Nintendo lançando sucessores para seus consoles mais antigos. Por exemplo, o PlayStation 4 foi lançado em 2013 e o PlayStation 5 em 2020."
      ]
    },
    {
      "cell_type": "code",
      "execution_count": null,
      "metadata": {
        "id": "T017_JveUdhY",
        "outputId": "2094e725-80a0-41d4-b8f1-68249f50a776"
      },
      "outputs": [
        {
          "name": "stdout",
          "output_type": "stream",
          "text": [
            "    platform  year_of_release  total_sales\n",
            "0       2600             1980        11.38\n",
            "1       2600             1981        35.68\n",
            "2       2600             1982        28.88\n",
            "3       2600             1983         5.84\n",
            "77       NES             1983        10.96\n",
            "..       ...              ...          ...\n",
            "156      PS4             2016        69.25\n",
            "152      PS3             2016         3.60\n",
            "17       3DS             2016        15.14\n",
            "224     X360             2016         1.52\n",
            "237     XOne             2016        26.15\n",
            "\n",
            "[238 rows x 3 columns]\n"
          ]
        }
      ],
      "source": [
        "df_distribution = df.groupby(['platform','year_of_release'])['total_sales'].sum().reset_index().sort_values(by='year_of_release')\n",
        "print(df_distribution)"
      ]
    },
    {
      "cell_type": "markdown",
      "metadata": {
        "id": "TZVIS3mQUdhZ"
      },
      "source": [
        "Conclusão : O ciclo de vida das plataformas de videogame é influenciado por uma combinação de avanços tecnológicos, mudanças no mercado e preferências dos consumidores. Novas plataformas surgem regularmente para substituir as antigas, que eventualmente se tornam obsoletas. O tempo exato para o surgimento de novas plataformas e o desaparecimento das antigas pode variar, mas geralmente está dentro de um intervalo de 5 a 7 anos para gerações de consoles principais. Compreender esses ciclos é fundamental para empresas no planejamento de novos lançamentos e estratégias de mercado na indústria de videogames."
      ]
    },
    {
      "cell_type": "markdown",
      "metadata": {
        "id": "xve51Sw6UdhZ"
      },
      "source": [
        "#### Determine para qual período você deve pegar dados. Para fazê-lo, olhe para suas respostas para as perguntas anteriores. Os dados te deveriam permitir construir um modelo para 2017."
      ]
    },
    {
      "cell_type": "code",
      "execution_count": null,
      "metadata": {
        "id": "5gtDg2bxUdhZ",
        "outputId": "ea30b54a-3ff8-4678-8588-b2f816148fe0"
      },
      "outputs": [
        {
          "name": "stdout",
          "output_type": "stream",
          "text": [
            "   platform  na_sales  eu_sales  jp_sales  other_sales  total_sales\n",
            "16      PS2    572.92    332.63    137.54       190.47      1233.56\n",
            "28     X360    595.74    268.32     12.30        84.88       961.24\n",
            "17      PS3    390.13    327.21     79.41       134.59       931.34\n",
            "26      Wii    486.87    258.32     68.28        77.71       891.18\n",
            "4        DS    380.31    188.41    175.02        59.04       802.78\n",
            "15       PS    334.72    212.39    139.78        40.69       727.58\n",
            "18      PS4    108.74    141.09     15.96        48.35       314.14\n",
            "6       GBA    184.12     74.59     46.56         7.61       312.88\n",
            "19      PSP    107.27     65.62     75.88        40.76       289.53\n",
            "2       3DS     82.65     61.27    100.62        13.27       257.81\n",
            "13       PC     93.34    140.37      0.17        21.88       255.76\n",
            "5        GB    113.64     47.51     85.12         8.16       254.43\n",
            "29       XB    182.06     59.65      1.38         8.48       251.57\n",
            "11      NES    125.94     21.15     98.65         5.31       251.05\n",
            "10      N64    138.91     41.03     33.76         4.31       218.01\n",
            "23     SNES     61.23     19.04    116.55         3.22       200.04\n",
            "7        GC    131.94     38.32     21.34         5.13       196.73\n",
            "30     XOne     93.12     51.59      0.34        14.27       159.32\n",
            "0      2600     80.78      4.86      0.00         0.84        86.48\n",
            "27     WiiU     38.10     25.13     13.01         5.95        82.19\n",
            "20      PSV     12.47     13.07     21.84         6.43        53.81\n",
            "21      SAT      0.72      0.54     32.26         0.07        33.59\n",
            "8       GEN     19.27      5.52      2.67         0.89        28.35\n",
            "3        DC      5.43      1.69      8.56         0.27        15.95\n",
            "22      SCD      1.00      0.36      0.45         0.05         1.86\n",
            "12       NG      0.00      0.00      1.44         0.00         1.44\n",
            "25       WS      0.00      0.00      1.42         0.00         1.42\n",
            "24     TG16      0.00      0.00      0.16         0.00         0.16\n",
            "1       3DO      0.00      0.00      0.10         0.00         0.10\n",
            "9        GG      0.00      0.00      0.04         0.00         0.04\n",
            "14     PCFX      0.00      0.00      0.03         0.00         0.03\n"
          ]
        }
      ],
      "source": [
        "df_sales_platform = df.groupby(['platform']).sum().reset_index().sort_values(by = 'total_sales', ascending = False).drop(columns=['year_of_release','critic_score','user_score'])\n",
        "print(df_sales_platform)"
      ]
    },
    {
      "cell_type": "markdown",
      "metadata": {
        "id": "vuYXrwFOUdhZ"
      },
      "source": [
        "Plataformas Relevantes: Devemos concentrar nossa análise nas plataformas que ainda têm vendas significativas ou potencial de mercado em 2017. Isso pode incluir plataformas como PS4, Xbox One, PC, Wii entre outras, que estavam ativas e relevantes na época.\n",
        "\n",
        "Plataformas Líderes em Vendas em 2016:\n",
        "\n",
        "PS4: Com 164 jogos lançados em 2016, é a plataforma com o maior número de lançamentos.\n",
        "XOne: Com 87 jogos lançados, também é uma das principais plataformas em termos de lançamentos.\n",
        "PSV: Com 85 jogos lançados, embora não seja tão alto quanto PS4 e XOne, ainda é significativo.\n",
        "PC: Com 54 jogos lançados, mostra uma presença forte no mercado de jogos para PC.\n",
        "\n",
        "Baseando-se nos dados de 2016 e considerando plataformas que estão crescendo ou mantendo uma presença forte, as seguintes plataformas podem ser vistas como potencialmente lucrativas:\n",
        "PS4: Continua sendo uma líder forte com um alto número de lançamentos.\n",
        "XOne: Também mostra crescimento e uma base de usuários significativa.\n",
        "PC: Sempre presente no mercado devido à sua versatilidade e suporte contínuo."
      ]
    },
    {
      "cell_type": "code",
      "execution_count": null,
      "metadata": {
        "id": "MCL9fhlsUdhZ",
        "outputId": "6b599429-b965-4b1f-a287-bd5fb45b033b"
      },
      "outputs": [
        {
          "name": "stdout",
          "output_type": "stream",
          "text": [
            "     year_of_release platform  numero_de_jogos\n",
            "237             2016     XOne               87\n",
            "236             2016     X360               13\n",
            "235             2016     WiiU               14\n",
            "234             2016      Wii                1\n",
            "233             2016      PSV               85\n",
            "232             2016      PS4              164\n",
            "231             2016      PS3               38\n",
            "230             2016       PC               54\n",
            "229             2016      3DS               46\n",
            "224             2015      PSV              110\n",
            "219             2015      3DS               86\n",
            "220             2015       PC               50\n",
            "222             2015      PS4              137\n",
            "223             2015      PSP                3\n",
            "221             2015      PS3               73\n",
            "225             2015      Wii                4\n",
            "227             2015     X360               35\n",
            "228             2015     XOne               80\n",
            "226             2015     WiiU               28\n",
            "214             2014      PSV              100\n",
            "209             2014      3DS               80\n",
            "210             2014       PC               47\n",
            "211             2014      PS3              108\n",
            "212             2014      PS4               75\n",
            "213             2014      PSP               10\n",
            "215             2014      Wii                6\n",
            "216             2014     WiiU               31\n",
            "217             2014     X360               63\n",
            "218             2014     XOne               61\n",
            "203             2013      PSP               54\n"
          ]
        }
      ],
      "source": [
        "df_new = df.groupby(['year_of_release','platform']).count().reset_index().sort_values(by='year_of_release', ascending=False).drop(columns = ['name','genre','na_sales','eu_sales','jp_sales','other_sales','critic_score','user_score','rating'])\n",
        "df_new = df_new.rename(columns = {'total_sales': 'numero_de_jogos'})\n",
        "print(df_new.head(30))"
      ]
    },
    {
      "cell_type": "code",
      "execution_count": null,
      "metadata": {
        "id": "I9y4RU4FUdhZ"
      },
      "outputs": [],
      "source": []
    },
    {
      "cell_type": "code",
      "execution_count": null,
      "metadata": {
        "id": "2K5-Fh-FUdhZ",
        "outputId": "69478607-a924-47a6-d9dc-8aaabc8480b1"
      },
      "outputs": [
        {
          "data": {
            "text/plain": [
              "platform\n",
              "2600    1980\n",
              "3DO     1994\n",
              "3DS     2011\n",
              "DC      1998\n",
              "DS      1985\n",
              "GB      1988\n",
              "GBA     2000\n",
              "GC      2001\n",
              "GEN     1990\n",
              "GG      1992\n",
              "N64     1996\n",
              "NES     1983\n",
              "NG      1993\n",
              "PC      1985\n",
              "PCFX    1996\n",
              "PS      1994\n",
              "PS2     2000\n",
              "PS3     2006\n",
              "PS4     2013\n",
              "PSP     2004\n",
              "PSV     2011\n",
              "SAT     1994\n",
              "SCD     1993\n",
              "SNES    1990\n",
              "TG16    1995\n",
              "WS      1999\n",
              "Wii     2006\n",
              "WiiU    2012\n",
              "X360    2005\n",
              "XB      2000\n",
              "XOne    2013\n",
              "Name: year_of_release, dtype: int64"
            ]
          },
          "execution_count": 31,
          "metadata": {},
          "output_type": "execute_result"
        }
      ],
      "source": [
        "first_sale = df.groupby('platform')['year_of_release'].min()\n",
        "peak_sale = df.loc[df.groupby('platform')['total_sales'].idxmax()].set_index('platform')['year_of_release'].astype(int)\n",
        "first_sale\n"
      ]
    },
    {
      "cell_type": "markdown",
      "metadata": {
        "id": "m_IJ8jSxUdha"
      },
      "source": [
        "Aqui, o código calcula o ano de lançamento inicial para cada plataforma e o ano de pico de vendas para cada plataforma."
      ]
    },
    {
      "cell_type": "code",
      "execution_count": null,
      "metadata": {
        "id": "mK8ov3ElUdha",
        "outputId": "a07016b7-fafa-46e9-bceb-fbfac843e80c"
      },
      "outputs": [
        {
          "name": "stdout",
          "output_type": "stream",
          "text": [
            "platform\n",
            "2600     2\n",
            "3DO      1\n",
            "3DS      2\n",
            "DC       0\n",
            "DS      21\n",
            "GB       8\n",
            "GBA      2\n",
            "GC       0\n",
            "GEN      2\n",
            "GG       0\n",
            "N64      0\n",
            "NES      2\n",
            "NG       1\n",
            "PC      24\n",
            "PCFX     0\n",
            "PS       3\n",
            "PS2      4\n",
            "PS3      7\n",
            "PS4      2\n",
            "PSP      1\n",
            "PSV      3\n",
            "SAT      1\n",
            "SCD      0\n",
            "SNES     0\n",
            "TG16     0\n",
            "WS       1\n",
            "Wii      0\n",
            "WiiU     2\n",
            "X360     5\n",
            "XB       4\n",
            "XOne     2\n",
            "Name: year_of_release, dtype: int64\n"
          ]
        }
      ],
      "source": [
        "peak_sale_by_platform = peak_sale - first_sale\n",
        "print(peak_sale_by_platform)"
      ]
    },
    {
      "cell_type": "markdown",
      "metadata": {
        "id": "r1oKbsu6Udha"
      },
      "source": [
        "Em quanto tempo um Plataforma chegou ao pico de vendas"
      ]
    },
    {
      "cell_type": "code",
      "execution_count": null,
      "metadata": {
        "id": "bCSO6TbDUdha",
        "outputId": "730ed3eb-c2d7-4447-f7a8-e75922506779"
      },
      "outputs": [
        {
          "name": "stdout",
          "output_type": "stream",
          "text": [
            "3.225806451612903\n"
          ]
        }
      ],
      "source": [
        "print(peak_sale_by_platform.mean())\n"
      ]
    },
    {
      "cell_type": "markdown",
      "metadata": {
        "id": "pYVBiFatUdha"
      },
      "source": [
        "#### Aqui mostra quanto tempo em media as plataformas ficam no mercado"
      ]
    },
    {
      "cell_type": "code",
      "execution_count": null,
      "metadata": {
        "id": "cfUHgNhgUdha",
        "outputId": "e6384a37-bf88-48dd-c42d-44083cc29f93"
      },
      "outputs": [
        {
          "name": "stdout",
          "output_type": "stream",
          "text": [
            "0      9\n",
            "1      1\n",
            "2      5\n",
            "3     10\n",
            "4     28\n",
            "5     13\n",
            "6      7\n",
            "7      6\n",
            "8      4\n",
            "9      0\n",
            "10     6\n",
            "11    11\n",
            "12     3\n",
            "13    31\n",
            "14     0\n",
            "15     9\n",
            "16    11\n",
            "17    10\n",
            "18     3\n",
            "19    11\n",
            "20     5\n",
            "21     5\n",
            "22     1\n",
            "23     9\n",
            "24     0\n",
            "25     2\n",
            "26    10\n",
            "27     4\n",
            "28    11\n",
            "29     8\n",
            "30     3\n",
            "Name: year_of_release, dtype: int64\n",
            "7.612903225806452\n",
            "6.0\n"
          ]
        }
      ],
      "source": [
        "df_data_1 = df.groupby(['platform'])['year_of_release'].min().reset_index()\n",
        "df_data_2 = df.groupby(['platform'])['year_of_release'].max(). reset_index()\n",
        "df_data_difference = df_data_2['year_of_release'] - df_data_1['year_of_release']\n",
        "print(df_data_difference)\n",
        "print(df_data_difference.mean())\n",
        "print(df_data_difference.median())"
      ]
    },
    {
      "cell_type": "markdown",
      "metadata": {
        "id": "8poJPRCsUdhb"
      },
      "source": [
        "A média das diferenças de anos entre o primeiro e o último ano de lançamento das plataformas é aproximadamente 7.61 anos.\n",
        "A mediana das diferenças é 6 anos.\n",
        "Isso indica que, em média, uma plataforma de videogame tende a ficar disponível no mercado por cerca de 7 a 8 anos desde o seu primeiro lançamento até o seu último lançamento."
      ]
    },
    {
      "cell_type": "code",
      "execution_count": null,
      "metadata": {
        "id": "zy1xAjaWUdhb",
        "outputId": "f5317ca7-c397-4c80-a091-d0d088ed783f"
      },
      "outputs": [
        {
          "data": {
            "text/plain": [
              "<AxesSubplot:xlabel='year_of_release'>"
            ]
          },
          "execution_count": 35,
          "metadata": {},
          "output_type": "execute_result"
        },
        {
          "data": {
            "image/png": "[encoded data removed]",
            "text/plain": [
              "<Figure size 640x480 with 1 Axes>"
            ]
          },
          "metadata": {},
          "output_type": "display_data"
        }
      ],
      "source": [
        "sns.boxplot(df_data_difference)"
      ]
    },
    {
      "cell_type": "markdown",
      "metadata": {
        "id": "rIgiKHZ5Udhb"
      },
      "source": [
        "Esse grafico nos diz que a mediana é proxima a média de anos, ou seja,  a distribuição dos dados tende a ser aproximadamente simétrica. Isso significa que há uma distribuição equilibrada de valores em ambos os lados da média. Se a mediana e a média são próximas, isso sugere que não há outliers extremamente influentes que distorçam significativamente a média para longe da mediana."
      ]
    },
    {
      "cell_type": "markdown",
      "metadata": {
        "id": "-ZpjHofJUdhb"
      },
      "source": [
        "Interessado em visualizar a distribuição de dados ao longo dos anos."
      ]
    },
    {
      "cell_type": "code",
      "execution_count": null,
      "metadata": {
        "id": "pJ6pFQV6Udhb",
        "outputId": "683570ce-d948-46b5-dee6-41ae7bdfa355"
      },
      "outputs": [
        {
          "data": {
            "text/html": [
              "<div>\n",
              "<style scoped>\n",
              "    .dataframe tbody tr th:only-of-type {\n",
              "        vertical-align: middle;\n",
              "    }\n",
              "\n",
              "    .dataframe tbody tr th {\n",
              "        vertical-align: top;\n",
              "    }\n",
              "\n",
              "    .dataframe thead th {\n",
              "        text-align: right;\n",
              "    }\n",
              "</style>\n",
              "<table border=\"1\" class=\"dataframe\">\n",
              "  <thead>\n",
              "    <tr style=\"text-align: right;\">\n",
              "      <th></th>\n",
              "      <th>platform</th>\n",
              "      <th>year_of_release</th>\n",
              "      <th>total_sales</th>\n",
              "    </tr>\n",
              "  </thead>\n",
              "  <tbody>\n",
              "    <tr>\n",
              "      <th>0</th>\n",
              "      <td>2600</td>\n",
              "      <td>1980</td>\n",
              "      <td>11.38</td>\n",
              "    </tr>\n",
              "    <tr>\n",
              "      <th>1</th>\n",
              "      <td>2600</td>\n",
              "      <td>1981</td>\n",
              "      <td>35.68</td>\n",
              "    </tr>\n",
              "    <tr>\n",
              "      <th>2</th>\n",
              "      <td>2600</td>\n",
              "      <td>1982</td>\n",
              "      <td>28.88</td>\n",
              "    </tr>\n",
              "    <tr>\n",
              "      <th>3</th>\n",
              "      <td>2600</td>\n",
              "      <td>1983</td>\n",
              "      <td>5.84</td>\n",
              "    </tr>\n",
              "    <tr>\n",
              "      <th>77</th>\n",
              "      <td>NES</td>\n",
              "      <td>1983</td>\n",
              "      <td>10.96</td>\n",
              "    </tr>\n",
              "    <tr>\n",
              "      <th>...</th>\n",
              "      <td>...</td>\n",
              "      <td>...</td>\n",
              "      <td>...</td>\n",
              "    </tr>\n",
              "    <tr>\n",
              "      <th>156</th>\n",
              "      <td>PS4</td>\n",
              "      <td>2016</td>\n",
              "      <td>69.25</td>\n",
              "    </tr>\n",
              "    <tr>\n",
              "      <th>152</th>\n",
              "      <td>PS3</td>\n",
              "      <td>2016</td>\n",
              "      <td>3.60</td>\n",
              "    </tr>\n",
              "    <tr>\n",
              "      <th>17</th>\n",
              "      <td>3DS</td>\n",
              "      <td>2016</td>\n",
              "      <td>15.14</td>\n",
              "    </tr>\n",
              "    <tr>\n",
              "      <th>224</th>\n",
              "      <td>X360</td>\n",
              "      <td>2016</td>\n",
              "      <td>1.52</td>\n",
              "    </tr>\n",
              "    <tr>\n",
              "      <th>237</th>\n",
              "      <td>XOne</td>\n",
              "      <td>2016</td>\n",
              "      <td>26.15</td>\n",
              "    </tr>\n",
              "  </tbody>\n",
              "</table>\n",
              "<p>238 rows × 3 columns</p>\n",
              "</div>"
            ],
            "text/plain": [
              "    platform  year_of_release  total_sales\n",
              "0       2600             1980        11.38\n",
              "1       2600             1981        35.68\n",
              "2       2600             1982        28.88\n",
              "3       2600             1983         5.84\n",
              "77       NES             1983        10.96\n",
              "..       ...              ...          ...\n",
              "156      PS4             2016        69.25\n",
              "152      PS3             2016         3.60\n",
              "17       3DS             2016        15.14\n",
              "224     X360             2016         1.52\n",
              "237     XOne             2016        26.15\n",
              "\n",
              "[238 rows x 3 columns]"
            ]
          },
          "execution_count": 36,
          "metadata": {},
          "output_type": "execute_result"
        }
      ],
      "source": [
        "df_distribution"
      ]
    },
    {
      "cell_type": "code",
      "execution_count": null,
      "metadata": {
        "id": "2LxBxLddUdhb"
      },
      "outputs": [],
      "source": [
        "df_distribution_ps2 = df_distribution[df_distribution['platform'] == 'PS2'].sort_values(by='year_of_release', ascending = True)\n",
        "df_distribution_x360 = df_distribution[df_distribution['platform'] == 'X360'].sort_values(by='year_of_release', ascending = True)\n",
        "df_distribution_ps3 = df_distribution[df_distribution['platform'] == 'PS3'].sort_values(by='year_of_release', ascending = True)\n",
        "df_distribution_wii = df_distribution[df_distribution['platform'] == 'Wii'].sort_values(by='year_of_release', ascending = True)\n",
        "df_distribution_ds = df_distribution[df_distribution['platform'] == 'DS'].sort_values(by='year_of_release', ascending = True)\n",
        "df_distribution_ps = df_distribution[df_distribution['platform'] == 'PS'].sort_values(by='year_of_release', ascending = True)\n"
      ]
    },
    {
      "cell_type": "code",
      "execution_count": null,
      "metadata": {
        "id": "4caY3ASMUdhc",
        "outputId": "f1a838ef-e78d-44b6-94ab-89135e0ecb00"
      },
      "outputs": [
        {
          "data": {
            "text/html": [
              "<div>\n",
              "<style scoped>\n",
              "    .dataframe tbody tr th:only-of-type {\n",
              "        vertical-align: middle;\n",
              "    }\n",
              "\n",
              "    .dataframe tbody tr th {\n",
              "        vertical-align: top;\n",
              "    }\n",
              "\n",
              "    .dataframe thead th {\n",
              "        text-align: right;\n",
              "    }\n",
              "</style>\n",
              "<table border=\"1\" class=\"dataframe\">\n",
              "  <thead>\n",
              "    <tr style=\"text-align: right;\">\n",
              "      <th></th>\n",
              "      <th>platform</th>\n",
              "      <th>year_of_release</th>\n",
              "      <th>total_sales</th>\n",
              "    </tr>\n",
              "  </thead>\n",
              "  <tbody>\n",
              "    <tr>\n",
              "      <th>46</th>\n",
              "      <td>DS</td>\n",
              "      <td>1985</td>\n",
              "      <td>0.02</td>\n",
              "    </tr>\n",
              "    <tr>\n",
              "      <th>57</th>\n",
              "      <td>PS</td>\n",
              "      <td>1994</td>\n",
              "      <td>6.03</td>\n",
              "    </tr>\n",
              "    <tr>\n",
              "      <th>58</th>\n",
              "      <td>PS</td>\n",
              "      <td>1995</td>\n",
              "      <td>35.96</td>\n",
              "    </tr>\n",
              "    <tr>\n",
              "      <th>59</th>\n",
              "      <td>PS</td>\n",
              "      <td>1996</td>\n",
              "      <td>94.70</td>\n",
              "    </tr>\n",
              "    <tr>\n",
              "      <th>60</th>\n",
              "      <td>PS</td>\n",
              "      <td>1997</td>\n",
              "      <td>136.17</td>\n",
              "    </tr>\n",
              "    <tr>\n",
              "      <th>...</th>\n",
              "      <td>...</td>\n",
              "      <td>...</td>\n",
              "      <td>...</td>\n",
              "    </tr>\n",
              "    <tr>\n",
              "      <th>44</th>\n",
              "      <td>Wii</td>\n",
              "      <td>2015</td>\n",
              "      <td>1.14</td>\n",
              "    </tr>\n",
              "    <tr>\n",
              "      <th>22</th>\n",
              "      <td>X360</td>\n",
              "      <td>2015</td>\n",
              "      <td>11.96</td>\n",
              "    </tr>\n",
              "    <tr>\n",
              "      <th>23</th>\n",
              "      <td>X360</td>\n",
              "      <td>2016</td>\n",
              "      <td>1.52</td>\n",
              "    </tr>\n",
              "    <tr>\n",
              "      <th>34</th>\n",
              "      <td>PS3</td>\n",
              "      <td>2016</td>\n",
              "      <td>3.60</td>\n",
              "    </tr>\n",
              "    <tr>\n",
              "      <th>45</th>\n",
              "      <td>Wii</td>\n",
              "      <td>2016</td>\n",
              "      <td>0.18</td>\n",
              "    </tr>\n",
              "  </tbody>\n",
              "</table>\n",
              "<p>67 rows × 3 columns</p>\n",
              "</div>"
            ],
            "text/plain": [
              "   platform  year_of_release  total_sales\n",
              "46       DS             1985         0.02\n",
              "57       PS             1994         6.03\n",
              "58       PS             1995        35.96\n",
              "59       PS             1996        94.70\n",
              "60       PS             1997       136.17\n",
              "..      ...              ...          ...\n",
              "44      Wii             2015         1.14\n",
              "22     X360             2015        11.96\n",
              "23     X360             2016         1.52\n",
              "34      PS3             2016         3.60\n",
              "45      Wii             2016         0.18\n",
              "\n",
              "[67 rows x 3 columns]"
            ]
          },
          "execution_count": 38,
          "metadata": {},
          "output_type": "execute_result"
        }
      ],
      "source": [
        "df_merge = pd.merge(df_distribution_ps2, df_distribution_x360, on=['year_of_release', 'total_sales', 'platform'], how='outer')\n",
        "df_merge = pd.merge(df_merge, df_distribution_ps3, on=['year_of_release', 'total_sales', 'platform'], how='outer')\n",
        "df_merge = pd.merge(df_merge, df_distribution_wii, on=['year_of_release', 'total_sales', 'platform'], how='outer')\n",
        "df_merge = pd.merge(df_merge, df_distribution_ds, on=['year_of_release', 'total_sales', 'platform'], how='outer')\n",
        "df_merge = pd.merge(df_merge, df_distribution_ps, on=['year_of_release', 'total_sales', 'platform'], how='outer')\n",
        "df_merge = df_merge.sort_values(by='year_of_release')\n",
        "df_merge"
      ]
    },
    {
      "cell_type": "markdown",
      "metadata": {
        "id": "NHYGl2SrUdhc"
      },
      "source": []
    },
    {
      "cell_type": "code",
      "execution_count": null,
      "metadata": {
        "id": "r6_nJ8B_Udhc",
        "outputId": "c342169f-4eb0-4499-b071-058e09ed7cd7"
      },
      "outputs": [
        {
          "name": "stdout",
          "output_type": "stream",
          "text": [
            "    platform  year_of_release  total_sales\n",
            "130      PS2             2000        39.17\n",
            "131      PS2             2001       166.43\n",
            "132      PS2             2002       205.38\n",
            "133      PS2             2003       184.31\n",
            "134      PS2             2004       211.81\n",
            "135      PS2             2005       160.66\n",
            "136      PS2             2006       103.42\n",
            "137      PS2             2007        75.99\n",
            "138      PS2             2008        53.90\n",
            "139      PS2             2009        26.40\n",
            "140      PS2             2010         5.64\n",
            "141      PS2             2011         0.45\n"
          ]
        }
      ],
      "source": [
        "print(df_distribution_ps2)"
      ]
    },
    {
      "cell_type": "code",
      "execution_count": null,
      "metadata": {
        "id": "8M1LiaoLUdhc",
        "outputId": "0adaf25b-a348-49d9-c425-a21d23506ae8"
      },
      "outputs": [
        {
          "data": {
            "text/plain": [
              "<matplotlib.legend.Legend at 0x7f607edcfcd0>"
            ]
          },
          "execution_count": 40,
          "metadata": {},
          "output_type": "execute_result"
        },
        {
          "data": {
            "image/png": "[encoded data removed]",
            "text/plain": [
              "<Figure size 640x480 with 1 Axes>"
            ]
          },
          "metadata": {},
          "output_type": "display_data"
        }
      ],
      "source": [
        "df_distribution_ps2.plot(title = 'Vendas por ano PS2',\n",
        "                        x = 'year_of_release',\n",
        "                        y='total_sales',\n",
        "                        kind = 'bar',\n",
        "                        xlabel = 'Ano de lançamento'\n",
        "                        )\n",
        "plt.legend(['Vendas em milhões de USD'])\n"
      ]
    },
    {
      "cell_type": "code",
      "execution_count": null,
      "metadata": {
        "id": "NVj2Y7-pUdhc",
        "outputId": "a2547c15-e510-4eec-94de-3c0c1bbb2e31"
      },
      "outputs": [
        {
          "name": "stdout",
          "output_type": "stream",
          "text": [
            "    platform  year_of_release  total_sales\n",
            "213     X360             2005         8.25\n",
            "214     X360             2006        51.62\n",
            "215     X360             2007        95.41\n",
            "216     X360             2008       135.26\n",
            "217     X360             2009       120.29\n",
            "218     X360             2010       170.03\n",
            "219     X360             2011       143.84\n",
            "220     X360             2012        99.74\n",
            "221     X360             2013        88.58\n",
            "222     X360             2014        34.74\n",
            "223     X360             2015        11.96\n",
            "224     X360             2016         1.52\n"
          ]
        },
        {
          "data": {
            "text/plain": [
              "<matplotlib.legend.Legend at 0x7f607edcfc70>"
            ]
          },
          "execution_count": 41,
          "metadata": {},
          "output_type": "execute_result"
        },
        {
          "data": {
            "image/png": "[encoded data removed]",
            "text/plain": [
              "<Figure size 640x480 with 1 Axes>"
            ]
          },
          "metadata": {},
          "output_type": "display_data"
        }
      ],
      "source": [
        "print(df_distribution_x360)\n",
        "df_distribution_x360.plot(title = 'Vendas por ano X360',\n",
        "                        x = 'year_of_release',\n",
        "                        y='total_sales',\n",
        "                        kind = 'bar',\n",
        "                        xlabel = 'Ano de lançamento'\n",
        "                        )\n",
        "plt.legend(['Vendas em milhões de USD'])\n"
      ]
    },
    {
      "cell_type": "code",
      "execution_count": null,
      "metadata": {
        "id": "2Zw5Kiz5Udhc",
        "outputId": "cfbd7fcb-d029-4b58-9f13-f91f0a5f2610"
      },
      "outputs": [
        {
          "name": "stdout",
          "output_type": "stream",
          "text": [
            "    platform  year_of_release  total_sales\n",
            "142      PS3             2006        20.96\n",
            "143      PS3             2007        73.19\n",
            "144      PS3             2008       118.52\n",
            "145      PS3             2009       130.93\n",
            "146      PS3             2010       142.17\n",
            "147      PS3             2011       156.78\n",
            "148      PS3             2012       107.36\n",
            "149      PS3             2013       113.25\n",
            "150      PS3             2014        47.76\n",
            "151      PS3             2015        16.82\n",
            "152      PS3             2016         3.60\n"
          ]
        },
        {
          "data": {
            "text/plain": [
              "<matplotlib.legend.Legend at 0x7f607e332d90>"
            ]
          },
          "execution_count": 42,
          "metadata": {},
          "output_type": "execute_result"
        },
        {
          "data": {
            "image/png": "[encoded data removed]",
            "text/plain": [
              "<Figure size 640x480 with 1 Axes>"
            ]
          },
          "metadata": {},
          "output_type": "display_data"
        }
      ],
      "source": [
        "#  PS3\n",
        "\n",
        "print(df_distribution_ps3)\n",
        "df_distribution_ps3.plot(title = 'Vendas por ano PS',\n",
        "                        x = 'year_of_release',\n",
        "                        y='total_sales',\n",
        "                        kind = 'bar',\n",
        "                        xlabel = 'Ano de lançamento'\n",
        "                        )\n",
        "plt.legend(['Vendas em milhões de USD'])\n"
      ]
    },
    {
      "cell_type": "code",
      "execution_count": null,
      "metadata": {
        "id": "l_D5WYg9Udhc",
        "outputId": "c5906179-5b1b-4955-d77e-0981ea5977cb"
      },
      "outputs": [
        {
          "name": "stdout",
          "output_type": "stream",
          "text": [
            "    platform  year_of_release  total_sales\n",
            "197      Wii             2006       137.15\n",
            "198      Wii             2007       152.77\n",
            "199      Wii             2008       171.32\n",
            "200      Wii             2009       206.97\n",
            "201      Wii             2010       127.95\n",
            "202      Wii             2011        59.65\n",
            "203      Wii             2012        21.71\n",
            "204      Wii             2013         8.59\n",
            "205      Wii             2014         3.75\n",
            "206      Wii             2015         1.14\n",
            "207      Wii             2016         0.18\n"
          ]
        },
        {
          "data": {
            "text/plain": [
              "<matplotlib.legend.Legend at 0x7f608695d550>"
            ]
          },
          "execution_count": 43,
          "metadata": {},
          "output_type": "execute_result"
        },
        {
          "data": {
            "image/png": "[encoded data removed]",
            "text/plain": [
              "<Figure size 640x480 with 1 Axes>"
            ]
          },
          "metadata": {},
          "output_type": "display_data"
        }
      ],
      "source": [
        "# Wii\n",
        "print(df_distribution_wii)\n",
        "df_distribution_wii.plot(title = 'Vendas por ano X360',\n",
        "                        x = 'year_of_release',\n",
        "                        y='total_sales',\n",
        "                        kind = 'bar',\n",
        "                        xlabel = 'Ano de lançamento'\n",
        "                        )\n",
        "plt.legend(['Vendas em milhões de USD'])\n"
      ]
    },
    {
      "cell_type": "code",
      "execution_count": null,
      "metadata": {
        "id": "f0NP_dVnUdhd",
        "outputId": "0d5bcaa9-789c-47aa-d2d0-122aa1e5ad11"
      },
      "outputs": [
        {
          "name": "stdout",
          "output_type": "stream",
          "text": [
            "   platform  year_of_release  total_sales\n",
            "25       DS             1985         0.02\n",
            "26       DS             2004        17.27\n",
            "27       DS             2005       130.14\n",
            "28       DS             2006       119.81\n",
            "29       DS             2007       146.94\n",
            "30       DS             2008       145.31\n",
            "31       DS             2009       119.54\n",
            "32       DS             2010        85.02\n",
            "33       DS             2011        26.18\n",
            "34       DS             2012        11.01\n",
            "35       DS             2013         1.54\n"
          ]
        },
        {
          "data": {
            "text/plain": [
              "<matplotlib.legend.Legend at 0x7f608699e910>"
            ]
          },
          "execution_count": 44,
          "metadata": {},
          "output_type": "execute_result"
        },
        {
          "data": {
            "image/png": "[encoded data removed]",
            "text/plain": [
              "<Figure size 640x480 with 1 Axes>"
            ]
          },
          "metadata": {},
          "output_type": "display_data"
        }
      ],
      "source": [
        "# DS\n",
        "print(df_distribution_ds)\n",
        "df_distribution_ds.plot(title = 'Vendas por ano DS',\n",
        "                        x = 'year_of_release',\n",
        "                        y='total_sales',\n",
        "                        kind = 'bar',\n",
        "                        xlabel = 'Ano de lançamento'\n",
        "                        )\n",
        "plt.legend(['Vendas em milhões de USD'])\n"
      ]
    },
    {
      "cell_type": "code",
      "execution_count": null,
      "metadata": {
        "id": "wJ3n1s6NUdhd",
        "outputId": "a1e381ea-2ac7-420f-ec81-a42a4ae03c7e"
      },
      "outputs": [
        {
          "name": "stdout",
          "output_type": "stream",
          "text": [
            "   platform  year_of_release  total_sales\n",
            "25       DS             1985         0.02\n",
            "26       DS             2004        17.27\n",
            "27       DS             2005       130.14\n",
            "28       DS             2006       119.81\n",
            "29       DS             2007       146.94\n",
            "30       DS             2008       145.31\n",
            "31       DS             2009       119.54\n",
            "32       DS             2010        85.02\n",
            "33       DS             2011        26.18\n",
            "34       DS             2012        11.01\n",
            "35       DS             2013         1.54\n"
          ]
        },
        {
          "data": {
            "text/plain": [
              "<matplotlib.legend.Legend at 0x7f6085ba3760>"
            ]
          },
          "execution_count": 45,
          "metadata": {},
          "output_type": "execute_result"
        },
        {
          "data": {
            "image/png": "[encoded data removed]",
            "text/plain": [
              "<Figure size 640x480 with 1 Axes>"
            ]
          },
          "metadata": {},
          "output_type": "display_data"
        }
      ],
      "source": [
        "# PS\n",
        "print(df_distribution_ds)\n",
        "df_distribution_ds.plot(title = 'Vendas por ano DS',\n",
        "                        x = 'year_of_release',\n",
        "                        y='total_sales',\n",
        "                        kind = 'bar',\n",
        "                        xlabel = 'Ano de lançamento'\n",
        "                        )\n",
        "plt.legend(['Vendas em milhões de USD'])\n"
      ]
    },
    {
      "cell_type": "code",
      "execution_count": null,
      "metadata": {
        "id": "BNCc5R8ZUdhd",
        "outputId": "3386bad6-b33f-4128-87a0-e81fc5b26fe7"
      },
      "outputs": [
        {
          "name": "stdout",
          "output_type": "stream",
          "text": [
            "     year_of_release platform  numero_de_jogos\n",
            "237             2016     XOne               87\n",
            "236             2016     X360               13\n",
            "235             2016     WiiU               14\n",
            "234             2016      Wii                1\n",
            "233             2016      PSV               85\n",
            "..               ...      ...              ...\n",
            "4               1983      NES                6\n",
            "3               1983     2600               11\n",
            "2               1982     2600               36\n",
            "1               1981     2600               46\n",
            "0               1980     2600                9\n",
            "\n",
            "[238 rows x 3 columns]\n"
          ]
        }
      ],
      "source": [
        "print(df_new)"
      ]
    },
    {
      "cell_type": "code",
      "execution_count": null,
      "metadata": {
        "id": "821TEmVcUdhd",
        "outputId": "708a57e1-ac8e-4ba0-f78a-1c653ad83e03"
      },
      "outputs": [
        {
          "name": "stdout",
          "output_type": "stream",
          "text": [
            "     year_of_release platform  numero_de_jogos\n",
            "201             2013      PS3              126\n",
            "198             2013      3DS               91\n",
            "207             2013     X360               75\n",
            "204             2013      PSV               63\n",
            "203             2013      PSP               54\n",
            "206             2013     WiiU               42\n",
            "200             2013       PC               38\n",
            "208             2013     XOne               19\n",
            "202             2013      PS4               16\n",
            "205             2013      Wii               12\n",
            "199             2013       DS                8\n",
            "\n",
            "     year_of_release platform  numero_de_jogos\n",
            "211             2014      PS3              108\n",
            "214             2014      PSV              100\n",
            "209             2014      3DS               80\n",
            "212             2014      PS4               75\n",
            "217             2014     X360               63\n",
            "218             2014     XOne               61\n",
            "210             2014       PC               47\n",
            "216             2014     WiiU               31\n",
            "213             2014      PSP               10\n",
            "215             2014      Wii                6\n",
            "\n",
            "     year_of_release platform  numero_de_jogos\n",
            "222             2015      PS4              137\n",
            "224             2015      PSV              110\n",
            "219             2015      3DS               86\n",
            "228             2015     XOne               80\n",
            "221             2015      PS3               73\n",
            "220             2015       PC               50\n",
            "227             2015     X360               35\n",
            "226             2015     WiiU               28\n",
            "225             2015      Wii                4\n",
            "223             2015      PSP                3\n",
            "\n",
            "     year_of_release platform  numero_de_jogos\n",
            "232             2016      PS4              164\n",
            "237             2016     XOne               87\n",
            "233             2016      PSV               85\n",
            "230             2016       PC               54\n",
            "229             2016      3DS               46\n",
            "231             2016      PS3               38\n",
            "235             2016     WiiU               14\n",
            "236             2016     X360               13\n",
            "234             2016      Wii                1\n"
          ]
        }
      ],
      "source": [
        "# Analise dos anos 2013, 2014, 2015 e 2016 por numero de jogos\n",
        "\n",
        "df_new.sort_values(by='numero_de_jogos', ascending = False, inplace = True)\n",
        "print(df_new[df_new['year_of_release'] == 2013])\n",
        "print()\n",
        "print(df_new[df_new['year_of_release'] == 2014])\n",
        "print()\n",
        "print(df_new[df_new['year_of_release'] == 2015])\n",
        "print()\n",
        "print(df_new[df_new['year_of_release'] == 2016])"
      ]
    },
    {
      "cell_type": "markdown",
      "metadata": {
        "id": "idl8S2pqUdhd"
      },
      "source": [
        "PS4 e Xbox One (XOne): Em 2016, PS4 liderou com 164 jogos lançados, seguido pelo Xbox One com 87 jogos. Essas plataformas demonstraram um número significativo de lançamentos, indicando um forte suporte da indústria de desenvolvimento para consoles de última geração.\n",
        "\n",
        "Plataformas Portáteis (3DS e PS Vita): O Nintendo 3DS e o PS Vita mostraram um número consistente de lançamentos ao longo desses anos, com destaque para o PS Vita em 2014 e 2015. Isso sugere um suporte contínuo para jogos portáteis, apesar da ascensão dos jogos móveis.\n",
        "\n",
        "Declínio de Plataformas Mais Antigas: Plataformas mais antigas, como PS3, Xbox 360 (X360), Wii e Wii U, viram uma diminuição no número de jogos lançados a partir de 2014. Isso é esperado à medida que o foco da indústria se desloca para hardware mais recente.\n",
        "\n",
        "Impacto das Novas Gerações: A transição para PS4 e Xbox One como plataformas principais para desenvolvimento é evidente, refletindo o ciclo natural de vida das plataformas de videogame.\n",
        "\n",
        "Variação Anual e Ciclos de Desenvolvimento: Anos como 2013 e 2015 apresentaram uma diversidade maior de lançamentos em comparação com 2014 e 2016, indicando flutuações naturais nos ciclos de desenvolvimento e lançamento de jogos."
      ]
    },
    {
      "cell_type": "code",
      "execution_count": null,
      "metadata": {
        "id": "qNWfB5zGUdhd",
        "outputId": "56009219-8880-4661-a06f-262c9ead582b"
      },
      "outputs": [
        {
          "name": "stdout",
          "output_type": "stream",
          "text": [
            "    platform  year_of_release  total_sales  numero_de_jogos\n",
            "0       2600             1980        11.38                9\n",
            "1       2600             1981        35.68               46\n",
            "2       2600             1982        28.88               36\n",
            "3       2600             1983         5.84               11\n",
            "4        NES             1983        10.96                6\n",
            "..       ...              ...          ...              ...\n",
            "233      PS4             2016        69.25              164\n",
            "234      PS3             2016         3.60               38\n",
            "235      3DS             2016        15.14               46\n",
            "236     X360             2016         1.52               13\n",
            "237     XOne             2016        26.15               87\n",
            "\n",
            "[238 rows x 4 columns]\n"
          ]
        }
      ],
      "source": [
        "df_sales_games = pd.merge(df_distribution, df_new, on = ['platform','year_of_release'])\n",
        "print(df_sales_games)"
      ]
    },
    {
      "cell_type": "code",
      "execution_count": null,
      "metadata": {
        "id": "dwPE7hHZUdhd",
        "outputId": "233fd5a0-29d2-4400-c289-1cef6d7642a2"
      },
      "outputs": [
        {
          "name": "stdout",
          "output_type": "stream",
          "text": [
            "    platform  year_of_release  total_sales  numero_de_jogos\n",
            "204      PS3             2013       113.25              126\n",
            "203     X360             2013        88.58               75\n",
            "198      3DS             2013        56.57               91\n",
            "206      PS4             2013        25.99               16\n",
            "201     WiiU             2013        21.65               42\n",
            "205     XOne             2013        18.96               19\n",
            "199       PC             2013        12.38               38\n",
            "200      PSV             2013        10.59               63\n",
            "207      Wii             2013         8.59               12\n",
            "202      PSP             2013         3.14               54\n",
            "208       DS             2013         1.54                8\n",
            "\n",
            "    platform  year_of_release  total_sales  numero_de_jogos\n",
            "215      PS4             2014       100.00               75\n",
            "212     XOne             2014        54.07               61\n",
            "210      PS3             2014        47.76              108\n",
            "211      3DS             2014        43.76               80\n",
            "217     X360             2014        34.74               63\n",
            "213     WiiU             2014        22.03               31\n",
            "218       PC             2014        13.28               47\n",
            "216      PSV             2014        11.90              100\n",
            "209      Wii             2014         3.75                6\n",
            "214      PSP             2014         0.24               10\n",
            "\n",
            "    platform  year_of_release  total_sales  numero_de_jogos\n",
            "225      PS4             2015       118.90              137\n",
            "220     XOne             2015        60.14               80\n",
            "222      3DS             2015        27.78               86\n",
            "226      PS3             2015        16.82               73\n",
            "227     WiiU             2015        16.35               28\n",
            "219     X360             2015        11.96               35\n",
            "223       PC             2015         8.52               50\n",
            "228      PSV             2015         6.25              110\n",
            "221      Wii             2015         1.14                4\n",
            "224      PSP             2015         0.12                3\n",
            "\n",
            "    platform  year_of_release  total_sales  numero_de_jogos\n",
            "233      PS4             2016        69.25              164\n",
            "237     XOne             2016        26.15               87\n",
            "235      3DS             2016        15.14               46\n",
            "229       PC             2016         5.25               54\n",
            "230     WiiU             2016         4.60               14\n",
            "232      PSV             2016         4.25               85\n",
            "234      PS3             2016         3.60               38\n",
            "236     X360             2016         1.52               13\n",
            "231      Wii             2016         0.18                1\n"
          ]
        }
      ],
      "source": [
        "df_sales_games.sort_values(by = 'total_sales', ascending = False, inplace = True )\n",
        "print(df_sales_games[df_sales_games['year_of_release'] == (2013)])\n",
        "print()\n",
        "print(df_sales_games[df_sales_games['year_of_release'] == (2014)])\n",
        "print()\n",
        "print(df_sales_games[df_sales_games['year_of_release'] == (2015)])\n",
        "print()\n",
        "print(df_sales_games[df_sales_games['year_of_release'] == (2016)])"
      ]
    },
    {
      "cell_type": "markdown",
      "metadata": {
        "id": "1AV1CPNQUdhe"
      },
      "source": [
        "PS4 e Xbox One (XOne): Continuaram a liderar em vendas tanto em 2015 quanto em 2016, com um número considerável de jogos lançados.\n",
        "PS3 e Xbox 360 (X360): Mostraram declínio nas vendas e número de jogos lançados ao longo desses anos, refletindo a transição para plataformas mais recentes.\n",
        "3DS e PS Vita (PSV): Mantiveram uma presença sólida, especialmente o 3DS, com um número relativamente estável de jogos lançados e vendas consistentes.\n",
        "PC: Apresentou um número significativo de jogos lançados, com vendas que, embora menores em comparação com consoles, mostram uma presença constante no mercado.\n",
        "Wii e PSP: Mostraram números muito baixos tanto em vendas quanto em lançamentos de jogos, indicando o fim de suporte para essas plataformas."
      ]
    },
    {
      "cell_type": "code",
      "execution_count": null,
      "metadata": {
        "id": "5GdEKiXXUdhe",
        "outputId": "7d31b670-9bd3-4f8e-e90d-cfd77f342b5e"
      },
      "outputs": [
        {
          "data": {
            "text/plain": [
              "<matplotlib.legend.Legend at 0x7f6085a8cb50>"
            ]
          },
          "execution_count": 50,
          "metadata": {},
          "output_type": "execute_result"
        },
        {
          "data": {
            "image/png": "[encoded data removed]",
            "text/plain": [
              "<Figure size 640x480 with 1 Axes>"
            ]
          },
          "metadata": {},
          "output_type": "display_data"
        }
      ],
      "source": [
        "df_distribution_ps4 = df_distribution[df_distribution['platform'] == 'PS4'].sort_values(by='year_of_release', ascending = True)\n",
        "df_distribution_ps4.plot(title = 'Vendas por ano PS4',\n",
        "                        x = 'year_of_release',\n",
        "                        y='total_sales',\n",
        "                        kind = 'bar',\n",
        "                        xlabel = 'Ano de lançamento'\n",
        "                        )\n",
        "plt.legend(['Vendas em milhões de USD'])"
      ]
    },
    {
      "cell_type": "code",
      "execution_count": null,
      "metadata": {
        "id": "qW2XLD8bUdhe",
        "outputId": "77b04628-a823-40d0-8b40-abd7cf40ab23"
      },
      "outputs": [
        {
          "data": {
            "text/plain": [
              "<matplotlib.legend.Legend at 0x7f6085ade8e0>"
            ]
          },
          "execution_count": 51,
          "metadata": {},
          "output_type": "execute_result"
        },
        {
          "data": {
            "image/png": "[encoded data removed]",
            "text/plain": [
              "<Figure size 640x480 with 1 Axes>"
            ]
          },
          "metadata": {},
          "output_type": "display_data"
        }
      ],
      "source": [
        "df_distribution_xone = df_distribution[df_distribution['platform'] == 'XOne'].sort_values(by='year_of_release', ascending = True)\n",
        "df_distribution_xone.plot(title = 'Vendas por ano XOne',\n",
        "                        x = 'year_of_release',\n",
        "                        y='total_sales',\n",
        "                        kind = 'bar',\n",
        "                        xlabel = 'Ano de lançamento'\n",
        "                        )\n",
        "plt.legend(['Vendas em milhões de USD'])"
      ]
    },
    {
      "cell_type": "code",
      "execution_count": null,
      "metadata": {
        "id": "5aXulmbrUdhe",
        "outputId": "584cac4c-80bd-4f4a-fd78-d84d6b3c31c0"
      },
      "outputs": [
        {
          "data": {
            "text/plain": [
              "<matplotlib.legend.Legend at 0x7f607ee76490>"
            ]
          },
          "execution_count": 52,
          "metadata": {},
          "output_type": "execute_result"
        },
        {
          "data": {
            "image/png": "[encoded data removed]",
            "text/plain": [
              "<Figure size 640x480 with 1 Axes>"
            ]
          },
          "metadata": {},
          "output_type": "display_data"
        }
      ],
      "source": [
        "df_distribution_3ds = df_distribution[df_distribution['platform'] == '3DS'].sort_values(by='year_of_release', ascending = True)\n",
        "df_distribution_3ds.plot(title = 'Vendas por ano 3DS',\n",
        "                        x = 'year_of_release',\n",
        "                        y='total_sales',\n",
        "                        kind = 'bar',\n",
        "                        xlabel = 'Ano de lançamento'\n",
        "                        )\n",
        "plt.legend(['Vendas em milhões de USD'])"
      ]
    },
    {
      "cell_type": "code",
      "execution_count": null,
      "metadata": {
        "id": "Bp8r4b6-Udhe",
        "outputId": "becdd5bb-1cb3-4fb4-8987-c17d7aee72dc"
      },
      "outputs": [
        {
          "data": {
            "text/plain": [
              "<matplotlib.legend.Legend at 0x7f607ee76100>"
            ]
          },
          "execution_count": 53,
          "metadata": {},
          "output_type": "execute_result"
        },
        {
          "data": {
            "image/png": "[encoded data removed]",
            "text/plain": [
              "<Figure size 640x480 with 1 Axes>"
            ]
          },
          "metadata": {},
          "output_type": "display_data"
        }
      ],
      "source": [
        "df_distribution_pc = df_distribution[df_distribution['platform'] == 'PC'].sort_values(by='year_of_release', ascending = True)\n",
        "df_distribution_pc.plot(title = 'Vendas por ano PC',\n",
        "                        x = 'year_of_release',\n",
        "                        y='total_sales',\n",
        "                        kind = 'bar',\n",
        "                        xlabel = 'Ano de lançamento'\n",
        "                        )\n",
        "plt.legend(['Vendas em milhões de USD'])"
      ]
    },
    {
      "cell_type": "markdown",
      "metadata": {
        "id": "0NY2xK6LUdhe"
      },
      "source": [
        "\n",
        "\n",
        "A análise revela que as plataformas com potencial de vendas em 2017 são PS4, XOne, PC e 3DS, enquanto outras perderam relevância. Embora PSV ainda possa ser relevante, parece haver muitos lançamentos em relação às vendas. Alguns pontos importantes observados são:\n",
        "\n",
        "Parece que estamos no fim de um ciclo para várias plataformas, incluindo as principais, que mostram uma tendência de queda nas vendas.\n",
        "\n",
        "Um pequeno número de plataformas domina quase todo o mercado.\n",
        "\n",
        "A diminuição nas vendas pode ser explicada pelo ciclo de vida das plataformas, geralmente entre 4 a 6 anos, exceto o PC, que é uma exceção.\n",
        "\n",
        "A evolução rápida da tecnologia sugere que novas gerações de plataformas podem ser lançadas com maior frequência.\n",
        "\n",
        "Para nossa análise, os dados mais relevantes são os de 2014 a 2016.\n",
        "\n",
        "As plataformas mais lucrativas são PS4, XOne, 3DS (com declínio claro), PC e possivelmente PSV.\n",
        "\n",
        "Todas as plataformas estão mostrando uma tendência de queda nas vendas."
      ]
    },
    {
      "cell_type": "code",
      "execution_count": null,
      "metadata": {
        "id": "BB0hPHPQUdhf",
        "outputId": "1c8026c5-694f-4611-eafd-d04dc8d57e4d"
      },
      "outputs": [
        {
          "name": "stdout",
          "output_type": "stream",
          "text": [
            "0.8013775510204081\n"
          ]
        },
        {
          "data": {
            "image/png": "[encoded data removed]",
            "text/plain": [
              "<Figure size 640x480 with 1 Axes>"
            ]
          },
          "metadata": {},
          "output_type": "display_data"
        }
      ],
      "source": [
        "df_sales_total_ps4 = df[df['platform'] == 'PS4']\n",
        "sns.boxplot(df_sales_total_ps4['total_sales'])\n",
        "\n",
        "print(df_sales_total_ps4['total_sales'].mean())"
      ]
    },
    {
      "cell_type": "code",
      "execution_count": null,
      "metadata": {
        "id": "5GI2HpFuUdhf",
        "outputId": "cc3aac4b-5f38-4245-a7a5-a969dbaec0b8"
      },
      "outputs": [
        {
          "name": "stdout",
          "output_type": "stream",
          "text": [
            "0.6450202429149797\n"
          ]
        },
        {
          "data": {
            "image/png": "[encoded data removed]",
            "text/plain": [
              "<Figure size 640x480 with 1 Axes>"
            ]
          },
          "metadata": {},
          "output_type": "display_data"
        }
      ],
      "source": [
        "df_sales_total_xone = df[df['platform'] == 'XOne']\n",
        "sns.boxplot(df_sales_total_xone['total_sales'])\n",
        "\n",
        "print(df_sales_total_xone['total_sales'].mean())"
      ]
    },
    {
      "cell_type": "code",
      "execution_count": null,
      "metadata": {
        "id": "1k56ZumZUdhf",
        "outputId": "45342da0-1f32-458d-8258-50c23e806101"
      },
      "outputs": [
        {
          "name": "stdout",
          "output_type": "stream",
          "text": [
            "0.6450202429149797\n"
          ]
        },
        {
          "data": {
            "image/png": "[encoded data removed]",
            "text/plain": [
              "<Figure size 640x480 with 1 Axes>"
            ]
          },
          "metadata": {},
          "output_type": "display_data"
        }
      ],
      "source": [
        "df_sales_total_3ds = df[df['platform'] == '3DS']\n",
        "sns.boxplot(df_sales_total_3ds['total_sales'])\n",
        "\n",
        "print(df_sales_total_xone['total_sales'].mean())"
      ]
    },
    {
      "cell_type": "markdown",
      "metadata": {
        "id": "uU4tWCG4Udhf"
      },
      "source": []
    },
    {
      "cell_type": "code",
      "execution_count": null,
      "metadata": {
        "id": "94BSaz_YUdhf",
        "outputId": "eb7ebe32-cf7d-418c-b99e-beae0b058aaa"
      },
      "outputs": [
        {
          "name": "stdout",
          "output_type": "stream",
          "text": [
            "0.267251828631139\n"
          ]
        },
        {
          "data": {
            "image/png": "[encoded data removed]",
            "text/plain": [
              "<Figure size 640x480 with 1 Axes>"
            ]
          },
          "metadata": {},
          "output_type": "display_data"
        }
      ],
      "source": [
        "df_sales_total_pc = df[df['platform'] == 'PC']\n",
        "sns.boxplot(df_sales_total_pc['total_sales'])\n",
        "\n",
        "print(df_sales_total_pc['total_sales'].mean())"
      ]
    },
    {
      "cell_type": "markdown",
      "metadata": {
        "id": "Ley7WEfqUdhf"
      },
      "source": [
        "PS4:\n",
        "Vendas Totais: A plataforma PS4 teve um desempenho sólido em termos de vendas totais, com média de aproximadamente 0.801 milhões de USD por jogo.\n",
        "Relação com Pontuações dos Críticos: Existe uma correlação positiva moderada entre as vendas totais de jogos para PS4 e as pontuações dos críticos (coeficiente de correlação de 0.407). Isso sugere que jogos bem avaliados tendem a ter vendas totais mais altas, embora outros fatores também possam influenciar.\n",
        "Xbox One (XOne):\n",
        "Vendas Totais: A média das vendas totais de jogos para Xbox One foi de aproximadamente 0.645 milhões de USD por jogo.\n",
        "Análise de Vendas: Embora não tenhamos aprofundado tanto quanto fizemos para o PS4, a plataforma mostra um desempenho sólido em termos de vendas totais.\n",
        "Nintendo 3DS:\n",
        "Vendas Totais: A plataforma Nintendo 3DS teve uma média de vendas totais de aproximadamente 0.405 milhões de USD por jogo.\n",
        "Análise de Vendas: Observamos uma distribuição das vendas com mediana inferior aos consoles de mesa, indicando um perfil de consumo diferente, talvez mais concentrado em títulos específicos ou públicos.\n",
        "PC:\n",
        "Vendas Totais: A plataforma PC teve uma média de vendas totais de aproximadamente 0.267 milhões de USD por jogo.\n",
        "Análise de Vendas: Apesar da média de vendas totais mais baixa em comparação com consoles, o PC continua sendo uma plataforma relevante, especialmente devido à sua diversidade de títulos e modelos de distribuição."
      ]
    },
    {
      "cell_type": "code",
      "execution_count": null,
      "metadata": {
        "id": "lcQJ2YBgUdhf",
        "outputId": "d2a71fbf-b45f-44e3-aefc-1f2ede16dcbc"
      },
      "outputs": [
        {
          "data": {
            "image/png": "[encoded data removed]",
            "text/plain": [
              "<Figure size 640x480 with 1 Axes>"
            ]
          },
          "metadata": {},
          "output_type": "display_data"
        },
        {
          "name": "stdout",
          "output_type": "stream",
          "text": [
            "0.406567902061781\n"
          ]
        }
      ],
      "source": [
        "\n",
        "df_critic_score_sales = df_sales_total_ps4.drop(columns = ['name','platform','user_score'])\n",
        "df_critic_score_sales.plot(x='critic_score', y = 'total_sales', kind = 'scatter')\n",
        "plt.show()\n",
        "print(df_critic_score_sales['total_sales'].corr(df['critic_score']))"
      ]
    },
    {
      "cell_type": "code",
      "execution_count": null,
      "metadata": {
        "id": "hJ6-j4c2Udhg",
        "outputId": "b339eece-cc43-4555-b43b-91335f7a41d5"
      },
      "outputs": [
        {
          "data": {
            "image/png": "[encoded data removed]",
            "text/plain": [
              "<Figure size 640x480 with 1 Axes>"
            ]
          },
          "metadata": {},
          "output_type": "display_data"
        },
        {
          "name": "stdout",
          "output_type": "stream",
          "text": [
            "0.41699832800840175\n"
          ]
        }
      ],
      "source": [
        "df_critic_score_sales = df_sales_total_xone.drop(columns = ['name','platform','user_score'])\n",
        "df_critic_score_sales.plot(x='critic_score', y = 'total_sales', kind = 'scatter')\n",
        "plt.show()\n",
        "print(df_critic_score_sales['total_sales'].corr(df['critic_score']))"
      ]
    },
    {
      "cell_type": "code",
      "execution_count": null,
      "metadata": {
        "id": "3OvZ9v9gUdhg",
        "outputId": "e7697b96-a6a5-4cd6-99e0-ae75e3cbe769"
      },
      "outputs": [
        {
          "data": {
            "image/png": "[encoded data removed]",
            "text/plain": [
              "<Figure size 640x480 with 1 Axes>"
            ]
          },
          "metadata": {},
          "output_type": "display_data"
        },
        {
          "name": "stdout",
          "output_type": "stream",
          "text": [
            "0.34873973059848346\n"
          ]
        }
      ],
      "source": [
        "df_critic_score_sales = df_sales_total_3ds.drop(columns = ['name','platform','user_score'])\n",
        "df_critic_score_sales.plot(x='critic_score', y = 'total_sales', kind = 'scatter')\n",
        "plt.show()\n",
        "print(df_critic_score_sales['total_sales'].corr(df['critic_score']))"
      ]
    },
    {
      "cell_type": "code",
      "execution_count": null,
      "metadata": {
        "id": "1SMuKMH8Udhg",
        "outputId": "e673800a-67ed-4791-fc16-314608e08fdc"
      },
      "outputs": [
        {
          "data": {
            "image/png": "[encoded data removed]",
            "text/plain": [
              "<Figure size 640x480 with 1 Axes>"
            ]
          },
          "metadata": {},
          "output_type": "display_data"
        },
        {
          "name": "stdout",
          "output_type": "stream",
          "text": [
            "0.2573947184009851\n"
          ]
        }
      ],
      "source": [
        "df_critic_score_sales = df_sales_total_pc.drop(columns = ['name','platform','user_score'])\n",
        "df_critic_score_sales.plot(x='critic_score', y = 'total_sales', kind = 'scatter')\n",
        "plt.show()\n",
        "print(df_critic_score_sales['total_sales'].corr(df['critic_score']))"
      ]
    },
    {
      "cell_type": "markdown",
      "metadata": {
        "id": "UiewUlcrUdhg"
      },
      "source": [
        "PS4:\n",
        "A correlação entre as vendas totais de jogos para PS4 e as pontuações dos críticos é de aproximadamente 0.407. Isso indica uma relação moderadamente positiva entre jogos bem avaliados pelos críticos e vendas mais altas.\n",
        "Xbox One (XOne):\n",
        "A correlação entre as vendas totais de jogos para Xbox One e as pontuações dos críticos é de cerca de 0.417. Similarmente ao PS4, há uma relação moderadamente positiva entre avaliações críticas e vendas totais.\n",
        "Nintendo 3DS:\n",
        "A correlação entre as vendas totais de jogos para Nintendo 3DS e as pontuações dos críticos é de aproximadamente 0.349. Isso também indica uma relação positiva entre avaliações críticas e vendas totais, embora um pouco mais fraca em comparação com PS4 e Xbox One.\n",
        "PC:\n",
        "A correlação entre as vendas totais de jogos para PC e as pontuações dos críticos é de cerca de 0.257. Isso mostra uma relação positiva, mas mais fraca em comparação com as plataformas de console.\n",
        "Conclusão:\n",
        "Para todas as plataformas analisadas (PS4, Xbox One, Nintendo 3DS e PC), há uma tendência de que jogos bem avaliados pelos críticos têm maior probabilidade de ter vendas totais mais altas. Isso destaca a importância das avaliações críticas na decisão dos consumidores e no desempenho comercial dos jogos."
      ]
    },
    {
      "cell_type": "code",
      "execution_count": null,
      "metadata": {
        "id": "lXxxh10ZUdhg",
        "outputId": "5cb2798b-ec54-403a-fdc3-4d6fc5772237"
      },
      "outputs": [
        {
          "data": {
            "image/png": "[encoded data removed]",
            "text/plain": [
              "<Figure size 640x480 with 1 Axes>"
            ]
          },
          "metadata": {},
          "output_type": "display_data"
        },
        {
          "name": "stdout",
          "output_type": "stream",
          "text": [
            "0.012904741611451193\n"
          ]
        }
      ],
      "source": [
        "df_user_score_sales = df_sales_total_ps4.drop(columns = ['name','platform','critic_score'])\n",
        "df_user_score_sales.plot(x='user_score', y = 'total_sales', kind = 'scatter')\n",
        "plt.show()\n",
        "print(df_critic_score_sales['total_sales'].corr(df['user_score']))"
      ]
    },
    {
      "cell_type": "markdown",
      "metadata": {
        "id": "tPwZf_EGUdhg"
      },
      "source": []
    },
    {
      "cell_type": "code",
      "execution_count": null,
      "metadata": {
        "id": "Z_Kn4UkDUdhh",
        "outputId": "28905ceb-af0f-4695-b93b-268a5999493a"
      },
      "outputs": [
        {
          "data": {
            "image/png": "[encoded data removed]",
            "text/plain": [
              "<Figure size 640x480 with 1 Axes>"
            ]
          },
          "metadata": {},
          "output_type": "display_data"
        },
        {
          "name": "stdout",
          "output_type": "stream",
          "text": [
            "0.012904741611451193\n"
          ]
        }
      ],
      "source": [
        "df_user_score_sales = df_sales_total_xone.drop(columns = ['name','platform','critic_score'])\n",
        "df_user_score_sales.plot(x='user_score', y = 'total_sales', kind = 'scatter')\n",
        "plt.show()\n",
        "print(df_critic_score_sales['total_sales'].corr(df['user_score']))"
      ]
    },
    {
      "cell_type": "code",
      "execution_count": null,
      "metadata": {
        "id": "-hapmyQVUdhh",
        "outputId": "748e0975-7ca8-4faa-cd04-fa87e5ae1e1e"
      },
      "outputs": [
        {
          "data": {
            "image/png": "[encoded data removed]",
            "text/plain": [
              "<Figure size 640x480 with 1 Axes>"
            ]
          },
          "metadata": {},
          "output_type": "display_data"
        },
        {
          "name": "stdout",
          "output_type": "stream",
          "text": [
            "0.012904741611451193\n"
          ]
        }
      ],
      "source": [
        "df_user_score_sales = df_sales_total_3ds.drop(columns = ['name','platform','critic_score'])\n",
        "df_user_score_sales.plot(x='user_score', y = 'total_sales', kind = 'scatter')\n",
        "plt.show()\n",
        "print(df_critic_score_sales['total_sales'].corr(df['user_score']))"
      ]
    },
    {
      "cell_type": "code",
      "execution_count": null,
      "metadata": {
        "id": "BAs_8XB9Udhh",
        "outputId": "4811cde2-bfe8-4ca1-85f1-cad6540091ca"
      },
      "outputs": [
        {
          "data": {
            "image/png": "[encoded data removed]",
            "text/plain": [
              "<Figure size 640x480 with 1 Axes>"
            ]
          },
          "metadata": {},
          "output_type": "display_data"
        },
        {
          "name": "stdout",
          "output_type": "stream",
          "text": [
            "0.012904741611451193\n"
          ]
        }
      ],
      "source": [
        "df_user_score_sales = df_sales_total_pc.drop(columns = ['name','platform','critic_score'])\n",
        "df_user_score_sales.plot(x='user_score', y = 'total_sales', kind = 'scatter')\n",
        "plt.show()\n",
        "print(df_critic_score_sales['total_sales'].corr(df['user_score']))"
      ]
    },
    {
      "cell_type": "markdown",
      "metadata": {
        "id": "wV8899NUUdhh"
      },
      "source": [
        "explorar a relação entre as vendas totais de jogos na plataforma PS4 e as pontuações dos usuários (user_score).Se o valor for próximo de +1, indica uma correlação positiva forte (à medida que as pontuações dos críticos aumentam, as vendas tendem a aumentar). Se for próximo de -1, indica uma correlação negativa forte (à medida que as pontuações dos críticos aumentam, as vendas tendem a diminuir). Um valor próximo de 0 indica pouca ou nenhuma correlação linear entre as variáveis.\n",
        "\n",
        "PS4:\n",
        "A correlação entre as vendas totais de jogos para PS4 e as pontuações dos usuários é de aproximadamente 0.0129. Isso indica uma correlação extremamente fraca entre as vendas totais e as avaliações dos usuários.\n",
        "Xbox One (XOne):\n",
        "A correlação entre as vendas totais de jogos para Xbox One e as pontuações dos usuários também é de aproximadamente 0.0129, mostrando uma relação muito fraca entre esses dois fatores.\n",
        "Nintendo 3DS:\n",
        "A correlação entre as vendas totais de jogos para Nintendo 3DS e as pontuações dos usuários é a mesma, aproximadamente 0.0129, indicando uma relação muito fraca entre vendas totais e avaliações dos usuários.\n",
        "PC:\n",
        "Da mesma forma, a correlação entre as vendas totais de jogos para PC e as pontuações dos usuários é de aproximadamente 0.0129, destacando uma relação extremamente fraca entre esses dois fatores.\n",
        "Conclusão:\n",
        "Para todas as plataformas analisadas (PS4, Xbox One, Nintendo 3DS e PC), não há uma correlação significativa entre as vendas totais de jogos e as pontuações atribuídas pelos usuários. Isso sugere que, ao contrário das pontuações dos críticos, as avaliações dos usuários não têm um impacto claro ou consistente sobre as vendas totais.\n"
      ]
    },
    {
      "cell_type": "code",
      "execution_count": null,
      "metadata": {
        "id": "6i4JmyK6Udhh",
        "outputId": "de773886-b727-430d-db71-486d4bbc55d9"
      },
      "outputs": [
        {
          "name": "stdout",
          "output_type": "stream",
          "text": [
            "           genre  total_sales\n",
            "11      Strategy       172.57\n",
            "1      Adventure       233.33\n",
            "5         Puzzle       239.89\n",
            "9     Simulation       387.96\n",
            "2       Fighting       442.66\n",
            "6         Racing       723.49\n",
            "3           Misc       790.29\n",
            "4       Platform       825.55\n",
            "7   Role-Playing       931.08\n",
            "8        Shooter      1041.36\n",
            "10        Sports      1309.67\n",
            "0         Action      1716.52\n"
          ]
        }
      ],
      "source": [
        "# estudar as distribuições dos jogos por genero\n",
        "df_distribution = df.groupby(['genre'])['total_sales'].sum().reset_index().sort_values(by=['total_sales'])\n",
        "print(df_distribution)"
      ]
    },
    {
      "cell_type": "markdown",
      "metadata": {
        "id": "S3w-29S9Udhh"
      },
      "source": [
        "Etapa 4"
      ]
    },
    {
      "cell_type": "code",
      "execution_count": null,
      "metadata": {
        "id": "YxXAzGQNUdhh"
      },
      "outputs": [],
      "source": [
        "# Fazer um DF para cada plataforma escolhidos com o name, platform, gere e total_sale\n",
        "\n",
        "df_1 = df[df['platform'] == 'PS4'].drop(columns = ['rating','user_score','critic_score','other_sales','jp_sales','eu_sales','na_sales','year_of_release'])\n",
        "df_2 = df[df['platform'] == 'XOne'].drop(columns = ['rating','user_score','critic_score','other_sales','jp_sales','eu_sales','na_sales','year_of_release'])\n",
        "df_3 = df[df['platform'] == '3DS'].drop(columns = ['rating','user_score','critic_score','other_sales','jp_sales','eu_sales','na_sales','year_of_release'])\n",
        "df_4 = df[df['platform'] == 'PC'].drop(columns = ['rating','user_score','critic_score','other_sales','jp_sales','eu_sales','na_sales','year_of_release'])"
      ]
    },
    {
      "cell_type": "code",
      "execution_count": null,
      "metadata": {
        "id": "FIcWvIZHUdhi",
        "outputId": "f48441ec-b6b2-4e19-85c5-31cf48facc54"
      },
      "outputs": [
        {
          "name": "stdout",
          "output_type": "stream",
          "text": [
            "           genre  jogos_lancados_ps4  total_sales     media\n",
            "0         Puzzle                   1         0.02  0.020000\n",
            "2       Strategy                   6         0.62  0.103333\n",
            "1     Simulation                   6         1.23  0.205000\n",
            "7      Adventure                  28         6.34  0.226429\n",
            "6           Misc                  20         8.19  0.409500\n",
            "4       Fighting                  18         8.65  0.480556\n",
            "10  Role-Playing                  51        28.99  0.568431\n",
            "5         Racing                  19        12.14  0.638947\n",
            "3       Platform                  12         7.69  0.640833\n",
            "11        Action                 144        96.10  0.667361\n",
            "9         Sports                  46        55.61  1.208913\n",
            "8        Shooter                  41        88.56  2.160000\n"
          ]
        }
      ],
      "source": [
        "# Criar dois DataFrqmes para poder fazer um novo DataFrame\n",
        "df_1f = df[df['platform'] == 'PS4'].drop(columns = ['rating','user_score','critic_score','other_sales','jp_sales','eu_sales','na_sales','year_of_release'])\n",
        "df_1f = df_1f.groupby(['genre'])['name'].count().reset_index().sort_values(by=['name'])\n",
        "\n",
        "df_1 = df_1.groupby(['genre'])['total_sales'].sum().reset_index().sort_values(by=['total_sales'])\n",
        "\n",
        "dictionary = {'name':'jogos_lancados_ps4'}\n",
        "\n",
        "\n",
        "df_ps4_specific = pd.merge(df_1f,df_1,on=['genre'])\n",
        "df_ps4_specific.rename(columns = dictionary, inplace = True)\n",
        "df_ps4_specific['media'] = df_ps4_specific['total_sales']/df_ps4_specific['jogos_lancados_ps4']\n",
        "df_ps4_specific = df_ps4_specific.sort_values(by=['media'])\n",
        "print(df_ps4_specific)\n",
        "df_1f = df[df['platform'] == 'PS4'].drop(columns = ['rating','user_score','critic_score','other_sales','jp_sales','eu_sales','na_sales','year_of_release'])\n",
        "df_1f = df_1f.groupby(['genre'])['name'].count().reset_index().sort_values(by=['name'])"
      ]
    },
    {
      "cell_type": "code",
      "execution_count": null,
      "metadata": {
        "id": "Dq-mjFNiUdhi",
        "outputId": "255b79cb-5973-4df8-a10d-9ef90a3ac247"
      },
      "outputs": [
        {
          "name": "stdout",
          "output_type": "stream",
          "text": [
            "           genre  jogos_lancados_xone  total_sales     media\n",
            "0       Strategy                    3         0.42  0.140000\n",
            "1     Simulation                    4         0.69  0.172500\n",
            "2       Platform                    5         0.93  0.186000\n",
            "4      Adventure                   14         2.68  0.191429\n",
            "3       Fighting                    7         2.45  0.350000\n",
            "6           Misc                   19         7.43  0.391053\n",
            "10        Action                   85        37.31  0.438941\n",
            "7         Racing                   20         9.79  0.489500\n",
            "9         Sports                   38        26.74  0.703684\n",
            "5   Role-Playing                   14        10.55  0.753571\n",
            "8        Shooter                   38        60.33  1.587632\n"
          ]
        }
      ],
      "source": [
        "df_2f = df[df['platform'] == 'XOne'].drop(columns = ['rating','user_score','critic_score','other_sales','jp_sales','eu_sales','na_sales','year_of_release'])\n",
        "df_2f = df_2f.groupby(['genre'])['name'].count().reset_index().sort_values(by=['name'])\n",
        "\n",
        "df_2 = df_2.groupby(['genre'])['total_sales'].sum().reset_index().sort_values(by=['total_sales'])\n",
        "\n",
        "dictionary = {'name':'jogos_lancados_xone'}\n",
        "\n",
        "\n",
        "df_xone_specific = pd.merge(df_2f,df_2,on=['genre'])\n",
        "df_xone_specific.rename(columns = dictionary, inplace = True)\n",
        "df_xone_specific['media'] = df_xone_specific['total_sales']/df_xone_specific['jogos_lancados_xone']\n",
        "df_xone_specific = df_xone_specific.sort_values(by=['media'])\n",
        "print(df_xone_specific)\n",
        "df_2f = df[df['platform'] == 'XOne'].drop(columns = ['rating','user_score','critic_score','other_sales','jp_sales','eu_sales','na_sales','year_of_release'])\n",
        "df_2f = df_2f.groupby(['genre'])['name'].count().reset_index().sort_values(by=['name'])"
      ]
    },
    {
      "cell_type": "code",
      "execution_count": null,
      "metadata": {
        "id": "xo4y-fwLUdhi",
        "outputId": "fbc2d444-dd40-4d2f-ffef-1d16b76d4a61"
      },
      "outputs": [
        {
          "name": "stdout",
          "output_type": "stream",
          "text": [
            "           genre  jogos_lancados_3ds  total_sales     media\n",
            "8      Adventure                  37         4.83  0.130541\n",
            "3       Strategy                  15         2.09  0.139333\n",
            "0        Shooter                   6         1.22  0.203333\n",
            "9           Misc                  54        10.99  0.203519\n",
            "5         Sports                  25         6.15  0.246000\n",
            "4         Puzzle                  20         5.57  0.278500\n",
            "11        Action                 187        57.84  0.309305\n",
            "2       Fighting                  14        10.56  0.754286\n",
            "7     Simulation                  29        26.96  0.929655\n",
            "10  Role-Playing                  87        84.20  0.967816\n",
            "6       Platform                  28        32.53  1.161786\n",
            "1         Racing                  10        14.87  1.487000\n"
          ]
        }
      ],
      "source": [
        "df_3f = df[df['platform'] == '3DS'].drop(columns = ['rating','user_score','critic_score','other_sales','jp_sales','eu_sales','na_sales','year_of_release'])\n",
        "df_3f = df_3f.groupby(['genre'])['name'].count().reset_index().sort_values(by=['name'])\n",
        "\n",
        "df_3 = df_3.groupby(['genre'])['total_sales'].sum().reset_index().sort_values(by=['total_sales'])\n",
        "\n",
        "dictionary = {'name':'jogos_lancados_3ds'}\n",
        "\n",
        "\n",
        "df_3ds_specific = pd.merge(df_3f,df_3,on=['genre'])\n",
        "df_3ds_specific.rename(columns = dictionary, inplace = True)\n",
        "df_3ds_specific['media'] = df_3ds_specific['total_sales']/df_3ds_specific['jogos_lancados_3ds']\n",
        "df_3ds_specific = df_3ds_specific.sort_values(by=['media'])\n",
        "print(df_3ds_specific)\n",
        "df_3f = df[df['platform'] == '3DS'].drop(columns = ['rating','user_score','critic_score','other_sales','jp_sales','eu_sales','na_sales','year_of_release'])\n",
        "df_3f = df_3f.groupby(['genre'])['name'].count().reset_index().sort_values(by=['name'])"
      ]
    },
    {
      "cell_type": "code",
      "execution_count": null,
      "metadata": {
        "id": "5OaD1QAjUdhi",
        "outputId": "c2e2ba80-b9e2-4e39-810f-2ba82d7f6cb3"
      },
      "outputs": [
        {
          "name": "stdout",
          "output_type": "stream",
          "text": [
            "           genre  jogos_lancados_pc  total_sales     media\n",
            "0       Fighting                  5         0.15  0.030000\n",
            "3         Puzzle                 25         0.91  0.036400\n",
            "1       Platform                 11         0.46  0.041818\n",
            "5         Racing                 58         3.78  0.065172\n",
            "6      Adventure                 65        10.02  0.154154\n",
            "10        Action                166        30.71  0.185000\n",
            "4         Sports                 50        11.97  0.239400\n",
            "11      Strategy                185        45.70  0.247027\n",
            "9        Shooter                147        43.90  0.298639\n",
            "2           Misc                 22         8.40  0.381818\n",
            "8     Simulation                120        52.51  0.437583\n",
            "7   Role-Playing                103        47.25  0.458738\n"
          ]
        }
      ],
      "source": [
        "df_4f = df[df['platform'] == 'PC'].drop(columns = ['rating','user_score','critic_score','other_sales','jp_sales','eu_sales','na_sales','year_of_release'])\n",
        "df_4f = df_4f.groupby(['genre'])['name'].count().reset_index().sort_values(by=['name'])\n",
        "\n",
        "df_4 = df_4.groupby(['genre'])['total_sales'].sum().reset_index().sort_values(by=['total_sales'])\n",
        "\n",
        "dictionary = {'name':'jogos_lancados_pc'}\n",
        "\n",
        "\n",
        "df_pc_specific = pd.merge(df_4f,df_4,on=['genre'])\n",
        "df_pc_specific.rename(columns = dictionary, inplace = True)\n",
        "df_pc_specific['media'] = df_pc_specific['total_sales']/df_pc_specific['jogos_lancados_pc']\n",
        "df_pc_specific = df_pc_specific.sort_values(by=['media'])\n",
        "print(df_pc_specific)\n",
        "df_4f = df[df['platform'] == 'PC'].drop(columns = ['rating','user_score','critic_score','other_sales','jp_sales','eu_sales','na_sales','year_of_release'])\n",
        "df_4f = df_4f.groupby(['genre'])['name'].count().reset_index().sort_values(by=['name'])"
      ]
    },
    {
      "cell_type": "code",
      "execution_count": null,
      "metadata": {
        "id": "G8Hn-FjcUdhi"
      },
      "outputs": [],
      "source": []
    },
    {
      "cell_type": "markdown",
      "metadata": {
        "id": "U2Dmh2amUdhi"
      },
      "source": [
        "PS4:\n",
        "Shooter e Sports são os gêneros com a maior média de vendas por jogo lançado, com 2.16 e 1.21 milhões de USD respectivamente.\n",
        "Puzzle e Strategy têm as menores médias de vendas por jogo lançado, com apenas 0.02 e 0.10 milhões de USD respectivamente.\n",
        "Xbox One (XOne):\n",
        "Shooter é o gênero com a maior média de vendas por jogo lançado, com 1.59 milhões de USD.\n",
        "Strategy e Simulation têm as menores médias de vendas por jogo lançado, com 0.14 e 0.17 milhões de USD respectivamente.\n",
        "Nintendo 3DS:\n",
        "Role-Playing e Platform são os gêneros com a maior média de vendas por jogo lançado, com 0.97 e 1.16 milhões de USD respectivamente.\n",
        "Adventure tem a menor média de vendas por jogo lançado, com 0.13 milhões de USD.\n",
        "PC:\n",
        "Shooter e Strategy são os gêneros com a maior média de vendas por jogo lançado, com 0.30 e 0.25 milhões de USD respectivamente.\n",
        "Fighting tem a menor média de vendas por jogo lançado, com apenas 0.03 milhões de USD.\n",
        "Conclusão:\n",
        "As preferências por gêneros variam significativamente entre plataformas. Jogos do gênero Shooter tendem a ter um desempenho melhor em termos de média de vendas por jogo lançado na PS4 e XOne, enquanto Role-Playing e Platform são mais fortes na Nintendo 3DS. No PC, Shooter também se destaca, juntamente com jogos de Strategy."
      ]
    },
    {
      "cell_type": "markdown",
      "metadata": {
        "id": "GAWms2svUdhi"
      },
      "source": [
        "fazer a mesma coisa acima para os ooutros 3 jogos"
      ]
    },
    {
      "cell_type": "markdown",
      "metadata": {
        "id": "428sMUVVUdhi"
      },
      "source": [
        "/Etapa 4 - criar um perfil de usuarios para cada região"
      ]
    },
    {
      "cell_type": "code",
      "execution_count": null,
      "metadata": {
        "id": "Fdti4K9zUdhj",
        "outputId": "5e77c456-f3a6-457b-ecd2-512b99400c5d"
      },
      "outputs": [
        {
          "data": {
            "text/html": [
              "<div>\n",
              "<style scoped>\n",
              "    .dataframe tbody tr th:only-of-type {\n",
              "        vertical-align: middle;\n",
              "    }\n",
              "\n",
              "    .dataframe tbody tr th {\n",
              "        vertical-align: top;\n",
              "    }\n",
              "\n",
              "    .dataframe thead th {\n",
              "        text-align: right;\n",
              "    }\n",
              "</style>\n",
              "<table border=\"1\" class=\"dataframe\">\n",
              "  <thead>\n",
              "    <tr style=\"text-align: right;\">\n",
              "      <th></th>\n",
              "      <th>name</th>\n",
              "      <th>platform</th>\n",
              "      <th>year_of_release</th>\n",
              "      <th>genre</th>\n",
              "      <th>na_sales</th>\n",
              "      <th>eu_sales</th>\n",
              "      <th>jp_sales</th>\n",
              "      <th>other_sales</th>\n",
              "      <th>critic_score</th>\n",
              "      <th>user_score</th>\n",
              "      <th>rating</th>\n",
              "      <th>total_sales</th>\n",
              "    </tr>\n",
              "  </thead>\n",
              "  <tbody>\n",
              "    <tr>\n",
              "      <th>16</th>\n",
              "      <td>Grand Theft Auto V</td>\n",
              "      <td>PS3</td>\n",
              "      <td>2013</td>\n",
              "      <td>Action</td>\n",
              "      <td>7.02</td>\n",
              "      <td>9.09</td>\n",
              "      <td>0.98</td>\n",
              "      <td>3.96</td>\n",
              "      <td>97.0</td>\n",
              "      <td>8.2</td>\n",
              "      <td>M</td>\n",
              "      <td>21.05</td>\n",
              "    </tr>\n",
              "    <tr>\n",
              "      <th>23</th>\n",
              "      <td>Grand Theft Auto V</td>\n",
              "      <td>X360</td>\n",
              "      <td>2013</td>\n",
              "      <td>Action</td>\n",
              "      <td>9.66</td>\n",
              "      <td>5.14</td>\n",
              "      <td>0.06</td>\n",
              "      <td>1.41</td>\n",
              "      <td>97.0</td>\n",
              "      <td>8.1</td>\n",
              "      <td>M</td>\n",
              "      <td>16.27</td>\n",
              "    </tr>\n",
              "    <tr>\n",
              "      <th>31</th>\n",
              "      <td>Call of Duty: Black Ops 3</td>\n",
              "      <td>PS4</td>\n",
              "      <td>2015</td>\n",
              "      <td>Shooter</td>\n",
              "      <td>6.03</td>\n",
              "      <td>5.86</td>\n",
              "      <td>0.36</td>\n",
              "      <td>2.38</td>\n",
              "      <td>NaN</td>\n",
              "      <td>NaN</td>\n",
              "      <td>NaN</td>\n",
              "      <td>14.63</td>\n",
              "    </tr>\n",
              "    <tr>\n",
              "      <th>33</th>\n",
              "      <td>Pokemon X/Pokemon Y</td>\n",
              "      <td>3DS</td>\n",
              "      <td>2013</td>\n",
              "      <td>Role-Playing</td>\n",
              "      <td>5.28</td>\n",
              "      <td>4.19</td>\n",
              "      <td>4.35</td>\n",
              "      <td>0.78</td>\n",
              "      <td>NaN</td>\n",
              "      <td>NaN</td>\n",
              "      <td>NaN</td>\n",
              "      <td>14.60</td>\n",
              "    </tr>\n",
              "    <tr>\n",
              "      <th>34</th>\n",
              "      <td>Call of Duty: Black Ops II</td>\n",
              "      <td>PS3</td>\n",
              "      <td>2012</td>\n",
              "      <td>Shooter</td>\n",
              "      <td>4.99</td>\n",
              "      <td>5.73</td>\n",
              "      <td>0.65</td>\n",
              "      <td>2.42</td>\n",
              "      <td>83.0</td>\n",
              "      <td>5.3</td>\n",
              "      <td>M</td>\n",
              "      <td>13.79</td>\n",
              "    </tr>\n",
              "    <tr>\n",
              "      <th>...</th>\n",
              "      <td>...</td>\n",
              "      <td>...</td>\n",
              "      <td>...</td>\n",
              "      <td>...</td>\n",
              "      <td>...</td>\n",
              "      <td>...</td>\n",
              "      <td>...</td>\n",
              "      <td>...</td>\n",
              "      <td>...</td>\n",
              "      <td>...</td>\n",
              "      <td>...</td>\n",
              "      <td>...</td>\n",
              "    </tr>\n",
              "    <tr>\n",
              "      <th>16703</th>\n",
              "      <td>Strawberry Nauts</td>\n",
              "      <td>PSV</td>\n",
              "      <td>2016</td>\n",
              "      <td>Adventure</td>\n",
              "      <td>0.00</td>\n",
              "      <td>0.00</td>\n",
              "      <td>0.01</td>\n",
              "      <td>0.00</td>\n",
              "      <td>NaN</td>\n",
              "      <td>NaN</td>\n",
              "      <td>NaN</td>\n",
              "      <td>0.01</td>\n",
              "    </tr>\n",
              "    <tr>\n",
              "      <th>16707</th>\n",
              "      <td>Aiyoku no Eustia</td>\n",
              "      <td>PSV</td>\n",
              "      <td>2014</td>\n",
              "      <td>Misc</td>\n",
              "      <td>0.00</td>\n",
              "      <td>0.00</td>\n",
              "      <td>0.01</td>\n",
              "      <td>0.00</td>\n",
              "      <td>NaN</td>\n",
              "      <td>NaN</td>\n",
              "      <td>NaN</td>\n",
              "      <td>0.01</td>\n",
              "    </tr>\n",
              "    <tr>\n",
              "      <th>16710</th>\n",
              "      <td>Samurai Warriors: Sanada Maru</td>\n",
              "      <td>PS3</td>\n",
              "      <td>2016</td>\n",
              "      <td>Action</td>\n",
              "      <td>0.00</td>\n",
              "      <td>0.00</td>\n",
              "      <td>0.01</td>\n",
              "      <td>0.00</td>\n",
              "      <td>NaN</td>\n",
              "      <td>NaN</td>\n",
              "      <td>NaN</td>\n",
              "      <td>0.01</td>\n",
              "    </tr>\n",
              "    <tr>\n",
              "      <th>16712</th>\n",
              "      <td>Haitaka no Psychedelica</td>\n",
              "      <td>PSV</td>\n",
              "      <td>2016</td>\n",
              "      <td>Adventure</td>\n",
              "      <td>0.00</td>\n",
              "      <td>0.00</td>\n",
              "      <td>0.01</td>\n",
              "      <td>0.00</td>\n",
              "      <td>NaN</td>\n",
              "      <td>NaN</td>\n",
              "      <td>NaN</td>\n",
              "      <td>0.01</td>\n",
              "    </tr>\n",
              "    <tr>\n",
              "      <th>16714</th>\n",
              "      <td>Winning Post 8 2016</td>\n",
              "      <td>PSV</td>\n",
              "      <td>2016</td>\n",
              "      <td>Simulation</td>\n",
              "      <td>0.00</td>\n",
              "      <td>0.00</td>\n",
              "      <td>0.01</td>\n",
              "      <td>0.00</td>\n",
              "      <td>NaN</td>\n",
              "      <td>NaN</td>\n",
              "      <td>NaN</td>\n",
              "      <td>0.01</td>\n",
              "    </tr>\n",
              "  </tbody>\n",
              "</table>\n",
              "<p>2886 rows × 12 columns</p>\n",
              "</div>"
            ],
            "text/plain": [
              "                                name platform  year_of_release         genre  \\\n",
              "16                Grand Theft Auto V      PS3             2013        Action   \n",
              "23                Grand Theft Auto V     X360             2013        Action   \n",
              "31         Call of Duty: Black Ops 3      PS4             2015       Shooter   \n",
              "33               Pokemon X/Pokemon Y      3DS             2013  Role-Playing   \n",
              "34        Call of Duty: Black Ops II      PS3             2012       Shooter   \n",
              "...                              ...      ...              ...           ...   \n",
              "16703               Strawberry Nauts      PSV             2016     Adventure   \n",
              "16707               Aiyoku no Eustia      PSV             2014          Misc   \n",
              "16710  Samurai Warriors: Sanada Maru      PS3             2016        Action   \n",
              "16712        Haitaka no Psychedelica      PSV             2016     Adventure   \n",
              "16714            Winning Post 8 2016      PSV             2016    Simulation   \n",
              "\n",
              "       na_sales  eu_sales  jp_sales  other_sales  critic_score  user_score  \\\n",
              "16         7.02      9.09      0.98         3.96          97.0         8.2   \n",
              "23         9.66      5.14      0.06         1.41          97.0         8.1   \n",
              "31         6.03      5.86      0.36         2.38           NaN         NaN   \n",
              "33         5.28      4.19      4.35         0.78           NaN         NaN   \n",
              "34         4.99      5.73      0.65         2.42          83.0         5.3   \n",
              "...         ...       ...       ...          ...           ...         ...   \n",
              "16703      0.00      0.00      0.01         0.00           NaN         NaN   \n",
              "16707      0.00      0.00      0.01         0.00           NaN         NaN   \n",
              "16710      0.00      0.00      0.01         0.00           NaN         NaN   \n",
              "16712      0.00      0.00      0.01         0.00           NaN         NaN   \n",
              "16714      0.00      0.00      0.01         0.00           NaN         NaN   \n",
              "\n",
              "      rating  total_sales  \n",
              "16         M        21.05  \n",
              "23         M        16.27  \n",
              "31       NaN        14.63  \n",
              "33       NaN        14.60  \n",
              "34         M        13.79  \n",
              "...      ...          ...  \n",
              "16703    NaN         0.01  \n",
              "16707    NaN         0.01  \n",
              "16710    NaN         0.01  \n",
              "16712    NaN         0.01  \n",
              "16714    NaN         0.01  \n",
              "\n",
              "[2886 rows x 12 columns]"
            ]
          },
          "execution_count": 72,
          "metadata": {},
          "output_type": "execute_result"
        }
      ],
      "source": [
        "df_perfil = df[df['year_of_release'] >= 2012]\n",
        "df_perfil\n"
      ]
    },
    {
      "cell_type": "code",
      "execution_count": null,
      "metadata": {
        "id": "eiFAAXlPUdhj",
        "outputId": "156bef0a-c50b-4ac0-97bc-d9309e1317fa"
      },
      "outputs": [
        {
          "name": "stdout",
          "output_type": "stream",
          "text": [
            "   platform  na_sales\n",
            "9      X360    140.05\n",
            "4       PS4    108.74\n",
            "3       PS3    103.38\n",
            "10     XOne     93.12\n",
            "0       3DS     55.31\n"
          ]
        }
      ],
      "source": [
        "\n",
        "df_an_1plus = df_perfil.groupby(['platform'])['na_sales'].sum().reset_index().sort_values(by=['na_sales'], ascending = False)\n",
        "print(df_an_1plus.head())"
      ]
    },
    {
      "cell_type": "code",
      "execution_count": null,
      "metadata": {
        "id": "w8IictjxUdhj",
        "outputId": "92a5c240-1c4e-40b0-d59f-6334c0e1081e"
      },
      "outputs": [
        {
          "name": "stdout",
          "output_type": "stream",
          "text": [
            "           genre  na_sales\n",
            "0         Action    177.84\n",
            "8        Shooter    144.77\n",
            "10        Sports     81.53\n",
            "7   Role-Playing     64.00\n",
            "3           Misc     38.19\n"
          ]
        }
      ],
      "source": [
        "df_an_2plus = df_perfil.groupby(['genre'])['na_sales'].sum().reset_index().sort_values(by=['na_sales'], ascending = False)\n",
        "print(df_an_2plus.head())"
      ]
    },
    {
      "cell_type": "code",
      "execution_count": null,
      "metadata": {
        "id": "1ofMlg7bUdhj",
        "outputId": "91bff90e-9c5f-4943-904f-02ddb75c161d"
      },
      "outputs": [
        {
          "name": "stdout",
          "output_type": "stream",
          "text": [
            "  rating  na_sales\n",
            "2      M    231.57\n",
            "0      E    114.37\n",
            "1   E10+     75.70\n",
            "3      T     66.02\n"
          ]
        }
      ],
      "source": [
        "df_an_3plus = df_perfil.groupby(['rating'])['na_sales'].sum().reset_index().sort_values(by=['na_sales'], ascending = False)\n",
        "print(df_an_3plus.head())"
      ]
    },
    {
      "cell_type": "code",
      "execution_count": null,
      "metadata": {
        "id": "onV4pE3gUdhj",
        "outputId": "660c5e8d-3fc9-4813-df35-a02fd4a9418f"
      },
      "outputs": [
        {
          "name": "stdout",
          "output_type": "stream",
          "text": [
            "   platform  eu_sales\n",
            "4       PS4    141.09\n",
            "3       PS3    106.86\n",
            "9      X360     74.52\n",
            "10     XOne     51.59\n",
            "0       3DS     42.64\n"
          ]
        }
      ],
      "source": [
        "df_eu_1plus = df_perfil.groupby(['platform'])['eu_sales'].sum().reset_index().sort_values(by=['eu_sales'], ascending = False)\n",
        "print(df_eu_1plus.head())"
      ]
    },
    {
      "cell_type": "code",
      "execution_count": null,
      "metadata": {
        "id": "IqGynI5UUdhj",
        "outputId": "a0550638-e355-47bb-8eed-d04d19d848e7"
      },
      "outputs": [
        {
          "name": "stdout",
          "output_type": "stream",
          "text": [
            "           genre  eu_sales\n",
            "0         Action    159.34\n",
            "8        Shooter    113.47\n",
            "10        Sports     69.09\n",
            "7   Role-Playing     48.53\n",
            "6         Racing     27.29\n"
          ]
        }
      ],
      "source": [
        "df_eu_2plus = df_perfil.groupby(['genre'])['eu_sales'].sum().reset_index().sort_values(by=['eu_sales'], ascending = False)\n",
        "print(df_eu_2plus.head())"
      ]
    },
    {
      "cell_type": "code",
      "execution_count": null,
      "metadata": {
        "id": "utiAB6kdUdhk",
        "outputId": "77d027e6-0738-46a1-e795-b9239ad9702f"
      },
      "outputs": [
        {
          "name": "stdout",
          "output_type": "stream",
          "text": [
            "  rating  eu_sales\n",
            "2      M    193.96\n",
            "0      E    113.03\n",
            "1   E10+     55.37\n",
            "3      T     52.96\n"
          ]
        }
      ],
      "source": [
        "df_eu_3plus = df_perfil.groupby(['rating'])['eu_sales'].sum().reset_index().sort_values(by=['eu_sales'], ascending = False)\n",
        "print(df_eu_3plus.head())"
      ]
    },
    {
      "cell_type": "code",
      "execution_count": null,
      "metadata": {
        "id": "tDDiG_E1Udhk",
        "outputId": "b1ee81d4-1107-4a9f-87f9-164c08ddd7ad"
      },
      "outputs": [
        {
          "name": "stdout",
          "output_type": "stream",
          "text": [
            "  platform  jp_sales\n",
            "0      3DS     87.79\n",
            "3      PS3     35.29\n",
            "6      PSV     21.04\n",
            "4      PS4     15.96\n",
            "8     WiiU     13.01\n"
          ]
        }
      ],
      "source": [
        "df_jp_1plus = df_perfil.groupby(['platform'])['jp_sales'].sum().reset_index().sort_values(by=['jp_sales'], ascending = False)\n",
        "print(df_jp_1plus.head())"
      ]
    },
    {
      "cell_type": "code",
      "execution_count": null,
      "metadata": {
        "id": "9TiZly48Udhk",
        "outputId": "1cf5fb57-d174-48b0-c097-c90342ac9465"
      },
      "outputs": [
        {
          "name": "stdout",
          "output_type": "stream",
          "text": [
            "          genre  jp_sales\n",
            "7  Role-Playing     65.44\n",
            "0        Action     52.80\n",
            "3          Misc     12.86\n",
            "9    Simulation     10.41\n",
            "2      Fighting      9.44\n"
          ]
        }
      ],
      "source": [
        "df_jp_2plus = df_perfil.groupby(['genre'])['jp_sales'].sum().reset_index().sort_values(by=['jp_sales'], ascending = False)\n",
        "print(df_jp_2plus.head())"
      ]
    },
    {
      "cell_type": "code",
      "execution_count": null,
      "metadata": {
        "id": "VoNtm_ECUdhk",
        "outputId": "ce5df5ff-03ee-4162-effa-4e8865e4c733"
      },
      "outputs": [
        {
          "name": "stdout",
          "output_type": "stream",
          "text": [
            "  rating  jp_sales\n",
            "0      E     28.33\n",
            "3      T     26.02\n",
            "2      M     21.20\n",
            "1   E10+      8.19\n"
          ]
        }
      ],
      "source": [
        "df_jp_3plus = df_perfil.groupby(['rating'])['jp_sales'].sum().reset_index().sort_values(by=['jp_sales'], ascending = False)\n",
        "print(df_jp_3plus.head())"
      ]
    },
    {
      "cell_type": "code",
      "execution_count": null,
      "metadata": {
        "id": "GC9iRy8nUdhk",
        "outputId": "8f39deb7-eb0a-4518-cdc1-085e189fa187"
      },
      "outputs": [
        {
          "name": "stdout",
          "output_type": "stream",
          "text": [
            "   platform  other_sales\n",
            "4       PS4        48.35\n",
            "3       PS3        43.26\n",
            "9      X360        20.40\n",
            "10     XOne        14.27\n",
            "0       3DS         8.87\n"
          ]
        }
      ],
      "source": [
        "df_other_1plus = df_perfil.groupby(['platform'])['other_sales'].sum().reset_index().sort_values(by=['other_sales'], ascending = False)\n",
        "print(df_other_1plus.head())"
      ]
    },
    {
      "cell_type": "code",
      "execution_count": null,
      "metadata": {
        "id": "zxvwPLJNUdhk",
        "outputId": "95c66054-d160-4db6-a57a-a76d62bc6baf"
      },
      "outputs": [
        {
          "name": "stdout",
          "output_type": "stream",
          "text": [
            "           genre  other_sales\n",
            "0         Action        51.14\n",
            "8        Shooter        37.26\n",
            "10        Sports        22.44\n",
            "7   Role-Playing        14.83\n",
            "3           Misc         7.67\n"
          ]
        }
      ],
      "source": [
        "df_other_2plus = df_perfil.groupby(['genre'])['other_sales'].sum().reset_index().sort_values(by=['other_sales'], ascending = False)\n",
        "print(df_other_2plus.head())"
      ]
    },
    {
      "cell_type": "code",
      "execution_count": null,
      "metadata": {
        "id": "6mddnpe3Udhk",
        "outputId": "3ef7e09d-c73a-4ac6-d208-6823981628cd"
      },
      "outputs": [
        {
          "name": "stdout",
          "output_type": "stream",
          "text": [
            "  rating  other_sales\n",
            "2      M        63.38\n",
            "0      E        31.44\n",
            "3      T        17.94\n",
            "1   E10+        16.23\n"
          ]
        }
      ],
      "source": [
        "df_other_3plus = df_perfil.groupby(['rating'])['other_sales'].sum().reset_index().sort_values(by=['other_sales'], ascending = False)\n",
        "print(df_other_3plus.head())"
      ]
    },
    {
      "cell_type": "markdown",
      "metadata": {
        "id": "oMhewIg1Udhl"
      },
      "source": [
        "fazer isso para todas as regioes Japão , UE"
      ]
    },
    {
      "cell_type": "markdown",
      "metadata": {
        "id": "E0fgX0HvUdhl"
      },
      "source": [
        "Vendas na América do Norte (NA):\n",
        "Plataformas com mais vendas (em milhões de USD):\n",
        "\n",
        "X360: 140.05\n",
        "PS4: 108.74\n",
        "PS3: 103.38\n",
        "XOne: 93.12\n",
        "3DS: 55.31\n",
        "Gêneros com mais vendas:\n",
        "\n",
        "Action: 177.84\n",
        "Shooter: 144.77\n",
        "Sports: 81.53\n",
        "Role-Playing: 64.00\n",
        "Misc: 38.19\n",
        "Classificações etárias com mais vendas:\n",
        "\n",
        "M (Mature): 231.57\n",
        "E (Everyone): 114.37\n",
        "E10+ (Everyone 10 and older): 75.70\n",
        "T (Teen): 66.02\n",
        "Vendas na Europa (EU):\n",
        "Plataformas com mais vendas (em milhões de USD):\n",
        "\n",
        "PS4: 141.09\n",
        "PS3: 106.86\n",
        "X360: 74.52\n",
        "XOne: 51.59\n",
        "3DS: 42.64\n",
        "Gêneros com mais vendas:\n",
        "\n",
        "Action: 159.34\n",
        "Shooter: 113.47\n",
        "Sports: 69.09\n",
        "Role-Playing: 48.53\n",
        "Racing: 27.29\n",
        "Classificações etárias com mais vendas:\n",
        "\n",
        "M (Mature): 193.96\n",
        "E (Everyone): 113.03\n",
        "E10+ (Everyone 10 and older): 55.37\n",
        "T (Teen): 52.96\n",
        "Vendas no Japão (JP):\n",
        "Plataformas com mais vendas (em milhões de USD):\n",
        "\n",
        "3DS: 87.79\n",
        "PS3: 35.29\n",
        "PSV: 21.04\n",
        "PS4: 15.96\n",
        "WiiU: 13.01\n",
        "Gêneros com mais vendas:\n",
        "\n",
        "Role-Playing: 65.44\n",
        "Action: 52.80\n",
        "Misc: 12.86\n",
        "Simulation: 10.41\n",
        "Fighting: 9.44\n",
        "Classificações etárias com mais vendas:\n",
        "\n",
        "E (Everyone): 28.33\n",
        "T (Teen): 26.02\n",
        "M (Mature): 21.20\n",
        "E10+ (Everyone 10 and older): 8.19\n",
        "Outras regiões (Other):\n",
        "Plataformas com mais vendas (em milhões de USD):\n",
        "\n",
        "PS4: 48.35\n",
        "PS3: 43.26\n",
        "X360: 20.40\n",
        "XOne: 14.27\n",
        "3DS: 8.87\n",
        "Gêneros com mais vendas:\n",
        "\n",
        "Action: 51.14\n",
        "Shooter: 37.26\n",
        "Sports: 22.44\n",
        "Role-Playing: 14.83\n",
        "Misc: 7.67\n",
        "Classificações etárias com mais vendas:\n",
        "\n",
        "M (Mature): 63.38\n",
        "E (Everyone): 31.44\n",
        "T (Teen): 17.94\n",
        "E10+ (Everyone 10 and older): 16.23\n",
        "\n",
        "As cinco plataformas principais. Descreva as variações das suas quotas de mercado de região para região.\n",
        "Para descrever as variações nas quotas de mercado das cinco plataformas principais (PS4, PS3, X360, XOne, 3DS) em diferentes regiões (América do Norte, Europa, Japão e outras regiões), podemos analisar os dados das vendas de jogos a partir de 2012 conforme os grupos que foram anteriormente calculados.\n",
        "\n",
        "PlayStation 4 (PS4):\n",
        "América do Norte: Lidera com 108.74 milhões de dólares em vendas.\n",
        "Europa: Também lidera com 141.09 milhões de dólares em vendas.\n",
        "Japão: Segue com 15.96 milhões de dólares em vendas.\n",
        "Outras regiões: Lidera com 48.35 milhões de dólares em vendas.\n",
        "Variações de quotas de mercado:\n",
        "\n",
        "PS4 mostra uma forte presença na América do Norte e na Europa, com significativa liderança em ambas as regiões. No entanto, suas vendas no Japão são menores em comparação com outras plataformas como 3DS e PS3.\n",
        "PlayStation 3 (PS3):\n",
        "América do Norte: 103.38 milhões de dólares em vendas.\n",
        "Europa: 106.86 milhões de dólares em vendas.\n",
        "Japão: 35.29 milhões de dólares em vendas.\n",
        "Outras regiões: 43.26 milhões de dólares em vendas.\n",
        "Variações de quotas de mercado:\n",
        "\n",
        "PS3 mantém uma posição forte tanto na América do Norte quanto na Europa, com vendas robustas. No Japão, sua performance é considerável, mas menor do que a de 3DS. Nas outras regiões, suas vendas são significativas, mas também superadas por PS4.\n",
        "Xbox 360 (X360):\n",
        "América do Norte: Lidera com 140.05 milhões de dólares em vendas.\n",
        "Europa: 74.52 milhões de dólares em vendas.\n",
        "Japão: Não está entre os líderes com 0 milhões de dólares em vendas.\n",
        "Outras regiões: 20.40 milhões de dólares em vendas.\n",
        "Variações de quotas de mercado:\n",
        "\n",
        "X360 domina a América do Norte com uma liderança clara. Na Europa, suas vendas são significativas, mas consideravelmente menores do que na América do Norte. No Japão e outras regiões, suas vendas são muito limitadas.\n",
        "Xbox One (XOne):\n",
        "América do Norte: 93.12 milhões de dólares em vendas.\n",
        "Europa: 51.59 milhões de dólares em vendas.\n",
        "Japão: 15.96 milhões de dólares em vendas.\n",
        "Outras regiões: 14.27 milhões de dólares em vendas.\n",
        "Variações de quotas de mercado:\n",
        "\n",
        "XOne possui vendas consideráveis na América do Norte, embora inferiores às do PS4 e X360. Na Europa, suas vendas são significativas, mas também inferiores às de PS4 e PS3. No Japão e outras regiões, suas vendas são limitadas em comparação com as outras plataformas.\n",
        "Nintendo 3DS (3DS):\n",
        "América do Norte: 55.31 milhões de dólares em vendas.\n",
        "Europa: 42.64 milhões de dólares em vendas.\n",
        "Japão: Lidera com 87.79 milhões de dólares em vendas.\n",
        "Outras regiões: 8.87 milhões de dólares em vendas.\n",
        "Variações de quotas de mercado:\n",
        "\n",
        "3DS lidera de forma destacada no Japão, com vendas muito superiores às das outras plataformas. Nas Américas e Europa, suas vendas são significativas, mas menores em comparação com PS4 e PS3. Nas outras regiões, suas vendas são muito limitadas.\n",
        "Conclusão:\n",
        "Cada plataforma mostra variações distintas em suas quotas de mercado ao longo das diferentes regiões. As diferenças refletem as preferências regionais e estratégias de marketing implementadas pelas fabricantes de consoles e desenvolvedoras de jogos. Enquanto algumas plataformas como PS4 e X360 dominam certas regiões, outras como 3DS têm um desempenho muito forte em mercados específicos, como o Japão. Essas análises são cruciais para entender o panorama global das vendas de jogos e podem orientar decisões estratégicas para lançamentos futuros.\n",
        "\n",
        "\n",
        "Os cinco principais gêneros. Explique a diferença.\n",
        "\n",
        "Com base nos dados fornecidos, os cinco principais gêneros de jogos são Action, Shooter, Sports, Role-Playing e Misc (Miscellaneous, que engloba jogos de diversos gêneros não especificados de forma clara).\n",
        "\n",
        "Action:\n",
        "América do Norte: Lidera com 177.84 milhões de dólares em vendas.\n",
        "Europa: 159.34 milhões de dólares em vendas.\n",
        "Japão: 52.80 milhões de dólares em vendas.\n",
        "Outras regiões: 51.14 milhões de dólares em vendas.\n",
        "Explicação: O gênero Action é universalmente popular, liderando em vendas tanto na América do Norte quanto na Europa. No entanto, suas vendas no Japão são consideravelmente menores em comparação com as outras regiões.\n",
        "\n",
        "Shooter:\n",
        "América do Norte: Segue com 144.77 milhões de dólares em vendas.\n",
        "Europa: 113.47 milhões de dólares em vendas.\n",
        "Japão: 37.26 milhões de dólares em vendas.\n",
        "Outras regiões: 14.83 milhões de dólares em vendas.\n",
        "Explicação: O gênero Shooter é muito popular na América do Norte e Europa, com vendas significativas. No entanto, suas vendas no Japão são substancialmente menores. Nas outras regiões, o gênero também é popular, mas não tanto quanto nas Américas e Europa.\n",
        "\n",
        "Sports:\n",
        "América do Norte: 81.53 milhões de dólares em vendas.\n",
        "Europa: 69.09 milhões de dólares em vendas.\n",
        "Japão: 10.55 milhões de dólares em vendas.\n",
        "Outras regiões: 22.44 milhões de dólares em vendas.\n",
        "Explicação: Sports é um gênero que tem um bom desempenho nas Américas e Europa, com vendas consideráveis. No entanto, suas vendas no Japão são notavelmente menores. Nas outras regiões, o gênero tem uma presença, mas também não é dominante como nas Américas e Europa.\n",
        "\n",
        "Role-Playing (RPG):\n",
        "América do Norte: 64.00 milhões de dólares em vendas.\n",
        "Europa: 48.53 milhões de dólares em vendas.\n",
        "Japão: 65.44 milhões de dólares em vendas.\n",
        "Outras regiões: 10.41 milhões de dólares em vendas.\n",
        "Explicação: RPG é extremamente popular no Japão, liderando as vendas nessa região. Nas Américas e Europa, suas vendas são boas, mas menores em comparação com o Japão. Nas outras regiões, o gênero tem vendas limitadas.\n",
        "\n",
        "Misc (Miscellaneous):\n",
        "América do Norte: 38.19 milhões de dólares em vendas.\n",
        "Europa: 27.29 milhões de dólares em vendas.\n",
        "Japão: 12.86 milhões de dólares em vendas.\n",
        "Outras regiões: 7.67 milhões de dólares em vendas.\n",
        "Explicação: Misc engloba uma variedade de gêneros não especificados detalhadamente, refletindo uma diversidade de preferências nas diferentes regiões. Seu desempenho é moderado em todas as regiões, sem dominar particularmente em nenhuma.\n",
        "\n",
        "Conclusão:\n",
        "Cada gênero mostra variações distintas em suas vendas e popularidade em diferentes regiões. A preferência por determinados gêneros pode ser influenciada por fatores culturais, históricos e demográficos específicos de cada região. Essas diferenças são fundamentais para entender o mercado global de jogos e podem orientar estratégias de desenvolvimento e marketing para atender às demandas específicas de cada mercado regional.\n",
        "\n",
        "As classificações do ESRB afetam as vendas em regiões individuais?\n",
        "\n",
        "Sim, as classificações do ESRB podem afetar as vendas de jogos em diferentes regiões devido a vários fatores que incluem preferências culturais, restrições legais e expectativas dos consumidores. Aqui estão alguns pontos importantes a considerar:\n",
        "\n",
        "América do Norte\n",
        "Nos Estados Unidos e no Canadá, as classificações do ESRB são amplamente reconhecidas e seguidas pelos consumidores. As vendas de jogos com classificações mais baixas (E, E10+) tendem a ser mais altas devido à acessibilidade para um público mais amplo, que inclui crianças e adolescentes. Jogos com classificações mais altas (Mature - M, Adults Only - AO) podem enfrentar restrições em termos de marketing e distribuição para menores de idade, afetando suas vendas, embora ainda possam ter um mercado significativo entre adultos.\n",
        "\n",
        "Europa\n",
        "Na Europa, as classificações do ESRB são menos prevalentes do que as classificações PEGI (Pan European Game Information), que são mais comuns e amplamente adotadas. Ainda assim, a influência das classificações ESRB é relevante, especialmente para jogos importados e para consumidores familiarizados com as classificações americanas. Jogos com classificações mais baixas podem ter uma vantagem semelhante à América do Norte, enquanto jogos com classificações mais altas podem enfrentar desafios semelhantes em termos de restrições etárias.\n",
        "\n",
        "Japão\n",
        "No Japão, a classificação CERO (Computer Entertainment Rating Organization) é mais prevalente e influente. As classificações do ESRB podem ser menos significativas, mas jogos importados dos EUA com classificações baixas podem atrair um público específico interessado em conteúdo mais acessível e familiar. Classificações mais altas podem não ter um impacto tão direto nas vendas, pois o mercado japonês tende a valorizar outros critérios além das classificações etárias.\n",
        "\n",
        "Outras Regiões\n",
        "Em outras regiões, como Ásia, América do Sul e Oceania, a influência das classificações do ESRB pode variar. Dependendo da localização específica, as classificações do ESRB podem ser reconhecidas, mas não são necessariamente decisivas para as vendas. A preferência cultural e a disponibilidade de jogos localizados podem influenciar mais as decisões de compra.\n",
        "\n",
        "Conclusão\n",
        "Embora as classificações do ESRB tenham impacto nas vendas de jogos, especialmente em regiões onde são amplamente reconhecidas, sua influência pode ser mais forte em algumas regiões do que em outras devido a diferentes sistemas de classificação, culturas de consumo e preferências de mercado. Entender essas nuances é essencial para desenvolver estratégias de marketing e distribuição eficazes para maximizar as vendas globais de jogos.\n",
        "\n",
        "\n",
        "\n"
      ]
    },
    {
      "cell_type": "code",
      "execution_count": null,
      "metadata": {
        "id": "ZwFrNbcPUdhl",
        "outputId": "73ca722f-ef02-490f-84b7-18418dfc234d"
      },
      "outputs": [
        {
          "name": "stdout",
          "output_type": "stream",
          "text": [
            "valor-p:  1.3037979620149106e-05\n",
            "Rejeitamos a hipótese nula\n"
          ]
        }
      ],
      "source": [
        "# Hipoteses\n",
        "# Hipótese nula (H0): as classificações médias dos usuários das plataformas Xbox One e PC são as mesmas.\n",
        "\n",
        "# Hipótese alternativa (H1): as classificações médias dos usuários das plataformas Xbox One e PC não são as mesmas.\n",
        "\n",
        "df_sales_total_pc = df_sales_total_pc.dropna(subset=['user_score'])\n",
        "df_sales_total_xone = df_sales_total_xone.dropna(subset=['user_score'])\n",
        "alpha = 0.05\n",
        "results = st.ttest_ind(df_sales_total_pc['user_score'] , df_sales_total_xone['user_score'])\n",
        "print('valor-p: ', results.pvalue)\n",
        "\n",
        "if results.pvalue < alpha:\n",
        "    print(\"Rejeitamos a hipótese nula\")\n",
        "else:\n",
        "    print(\"Não podemos rejeitar a hipótese nula\")"
      ]
    },
    {
      "cell_type": "code",
      "execution_count": null,
      "metadata": {
        "id": "a705tDHYUdhl"
      },
      "outputs": [],
      "source": [
        "# TTTTTTTT\n",
        "\n",
        "# para as plataformas Xbox One e PC.\n",
        "\n",
        "# Filtrar os dados para as plataformas Xbox One e PC\n",
        "df_xbox_one = df[df['platform'] == 'XOne'].dropna(subset=['user_score'])\n",
        "df_pc = df[df['platform'] == 'PC'].dropna(subset=['user_score'])\n",
        "\n"
      ]
    },
    {
      "cell_type": "markdown",
      "metadata": {
        "id": "p3u_y3ySUdhl"
      },
      "source": [
        "TTTTTTTTTTTTTTTTTTTTTTTTTTTTTTTTTTTTTTTTTTTTTTTTTT\n",
        "\n",
        "#  Verificar as condições para o teste t de duas amostras\n",
        "Antes de aplicar o teste t, é importante verificar se as variâncias das amostras são aproximadamente iguais. Isso pode ser feito usando o teste de Levene, por exemplo."
      ]
    },
    {
      "cell_type": "code",
      "execution_count": null,
      "metadata": {
        "id": "a4bN8xgXUdhl",
        "outputId": "69435801-4d8b-4ec0-811e-44fcf6b592fb"
      },
      "outputs": [
        {
          "name": "stdout",
          "output_type": "stream",
          "text": [
            "Teste de Levene:\n",
            "Estatística de Levene: 1.1706180824505048\n",
            "Valor-p: 0.2795532372785057\n"
          ]
        }
      ],
      "source": [
        "# TTTTTTTTTTTTTTTTTTTTTTTTTTTTTTTTTTT\n",
        "\n",
        "from scipy.stats import levene\n",
        "\n",
        "# Teste de Levene para verificar igualdade das variâncias\n",
        "statistic, p_value = levene(df_xbox_one['user_score'], df_pc['user_score'])\n",
        "print('Teste de Levene:')\n",
        "print('Estatística de Levene:', statistic)\n",
        "print('Valor-p:', p_value)"
      ]
    },
    {
      "cell_type": "markdown",
      "metadata": {
        "id": "tSozuuFnUdhl"
      },
      "source": [
        "TTTTTTTTTTTTTTTTTTTTTTTTTTTTTTTTTTTTTTTTT\n",
        "\n",
        "Com base no resultado do Teste de Levene, não há evidências suficientes para afirmar que as variâncias das classificações dos usuários das plataformas Xbox One e PC são diferentes. Isso significa que podemos proceder com o teste t de duas amostras assumindo igualdade de variâncias (equal_var=True). No entanto, se necessário, você também pode realizar o teste t de duas amostras com a opção equal_var=False para lidar com variâncias desiguais, embora o resultado do teste de Levene indique que isso pode não ser estritamente necessário neste caso."
      ]
    },
    {
      "cell_type": "code",
      "execution_count": null,
      "metadata": {
        "id": "E64LJJx1Udhm",
        "outputId": "3dfb192e-057d-4502-e76a-a49fe7808611"
      },
      "outputs": [
        {
          "name": "stdout",
          "output_type": "stream",
          "text": [
            "equal_var=True\n",
            "Valor-p: 1.3037979620149106e-05\n",
            "Rejeitamos a hipótese nula\n"
          ]
        }
      ],
      "source": [
        "# TTTTTTTTTTTTTTTTTTTTTTTTTTTTTTTTTTTTTTT\n",
        "\n",
        "# Realizar o teste t de duas amostras\n",
        "\n",
        "from scipy.stats import ttest_ind\n",
        "\n",
        "alpha = 0.05  # Nível de significância\n",
        "\n",
        "# Realizar o teste t de duas amostras independentes\n",
        "if p_value >= alpha:\n",
        "    # Variâncias iguais, usar equal_var=True\n",
        "    results = ttest_ind(df_xbox_one['user_score'], df_pc['user_score'], equal_var=True)\n",
        "    print('equal_var=True')\n",
        "else:\n",
        "    # Variâncias diferentes, usar equal_var=False\n",
        "    results = ttest_ind(df_xbox_one['user_score'], df_pc['user_score'], equal_var=False)\n",
        "    print('equal_var=True')\n",
        "\n",
        "\n",
        "# Imprimir o valor-p\n",
        "print('Valor-p:', results.pvalue)\n",
        "\n",
        "# Interpretar o resultado\n",
        "if results.pvalue < alpha:\n",
        "    print(\"Rejeitamos a hipótese nula\")\n",
        "else:\n",
        "    print(\"Não podemos rejeitar a hipótese nula\")"
      ]
    },
    {
      "cell_type": "markdown",
      "metadata": {
        "id": "u2sXWlcZUdhm"
      },
      "source": [
        "# TTTTTTTTTTTTTTTTTTTTTTTTTTTTTTTTTTTTTTTTT\n",
        "\n",
        "Como o valor-p é muito baixo (menor que 0.05), isso nos leva a rejeitar a hipótese nula (H0). Portanto, há evidências estatísticas suficientes para suportar a hipótese alternativa (H1), que afirma que as classificações médias dos usuários das plataformas Xbox One e PC não são as mesmas."
      ]
    },
    {
      "cell_type": "markdown",
      "metadata": {
        "id": "FbK7h6L2Udhm"
      },
      "source": [
        "<div class=\"alert alert-block alert-danger\">\n",
        "<b> Comentário do revisor: </b> <a class=\"tocSkip\"></a>\n",
        "\n",
        "Precisamos melhorar a seção de teste de  hipótese:\n",
        "Para isso você precisa seguir esses passos:\n",
        "\n",
        "- Avaliar se as variâncias são iguais, por exemplo, calculando a variãncia da amostra e verificando a igualdade\n",
        "- Em seguida, ajustar equal_var=True no teste T se as variâncias forem iguais, senão usamos equal_var=False no teste T.\n",
        "- Avaliar o resultado do teste T\n",
        "\n",
        "</div>"
      ]
    },
    {
      "cell_type": "markdown",
      "metadata": {
        "id": "q2KaWsXlUdhm"
      },
      "source": [
        "<div class=\"alert alert-block alert-success\">\n",
        "<b> Comentário do revisor: </b> <a class=\"tocSkip\"></a>\n",
        "\n",
        "Correto\n",
        "</div>\n"
      ]
    },
    {
      "cell_type": "markdown",
      "metadata": {
        "id": "zgtdXUPaUdhm"
      },
      "source": [
        "Definir as hipóteses:\n",
        "\n",
        "Hipótese nula (H0): As classificações médias dos usuários para o gênero Action são iguais entre Xbox One e PC.\n",
        "Hipótese alternativa (H1): As classificações médias dos usuários para o gênero Action são diferentes entre Xbox One e PC."
      ]
    },
    {
      "cell_type": "code",
      "execution_count": null,
      "metadata": {
        "id": "raSpxda7Udhm",
        "outputId": "9e74536c-3dfb-4a60-cd83-6c4255704cb8"
      },
      "outputs": [
        {
          "name": "stdout",
          "output_type": "stream",
          "text": [
            "Valor-p (Ação): 0.1082803385733695\n",
            "Não podemos rejeitar a hipótese nula para o gênero Ação\n"
          ]
        }
      ],
      "source": [
        "#  As classificações médias de usuários para os gêneros Action (ação) e Sports (esportes) são diferentes.\n",
        "# Para o gênero \"Ação\" (Action):\n",
        "\n",
        "df_action = df[df['genre'] == 'Action']\n",
        "\n",
        "# Remover linhas onde a coluna 'user_score' é NaN (para ambas as plataformas):\n",
        "df_action_pc = df_action[df_action['platform'] == 'PC'].dropna(subset=['user_score'])\n",
        "df_action_xone = df_action[df_action['platform'] == 'XOne'].dropna(subset=['user_score'])\n",
        "\n",
        "alpha = 0.05\n",
        "\n",
        "# Realizar o teste t de duas amostras independentes:\n",
        "\n",
        "results_action = st.ttest_ind(df_action_pc['user_score'], df_action_xone['user_score'])\n",
        "print('Valor-p (Ação):', results_action.pvalue)\n",
        "\n",
        "if results_action.pvalue < alpha:\n",
        "    print(\"Rejeitamos a hipótese nula para o gênero Ação\")\n",
        "else:\n",
        "    print(\"Não podemos rejeitar a hipótese nula para o gênero Ação\")\n",
        "\n",
        "\n"
      ]
    },
    {
      "cell_type": "code",
      "execution_count": null,
      "metadata": {
        "id": "UDyQS8IsUdhm",
        "outputId": "018fc744-65f7-4bb7-bfbd-a4b232374d4d"
      },
      "outputs": [
        {
          "name": "stdout",
          "output_type": "stream",
          "text": [
            "Teste de Levene para gênero Action:\n",
            "Estatística de Levene: 2.966987456529862\n",
            "Valor-p: 0.08652580849554077\n",
            "Variâncias iguais (p >= alpha). Usar equal_var=True no teste T.\n"
          ]
        }
      ],
      "source": [
        "#  TTTTTTTTTTTTTTTTTTTTTTTTTTTTTTTTTTTTTTTTTTTTTTTTTTTTTT\n",
        "\n",
        "from scipy.stats import levene\n",
        "\n",
        "# Teste de Levene para verificar igualdade das variâncias\n",
        "statistic_action, p_value_action = levene(df_action_pc['user_score'], df_action_xone['user_score'])\n",
        "print('Teste de Levene para gênero Action:')\n",
        "print('Estatística de Levene:', statistic_action)\n",
        "print('Valor-p:', p_value_action)\n",
        "\n",
        "alpha = 0.05\n",
        "\n",
        "if p_value_action >= alpha:\n",
        "    print(\"Variâncias iguais (p >= alpha). Usar equal_var=True no teste T.\")\n",
        "else:\n",
        "    print(\"Variâncias diferentes (p < alpha). Usar equal_var=False no teste T.\")"
      ]
    },
    {
      "cell_type": "code",
      "execution_count": null,
      "metadata": {
        "id": "ODzkcx8ZUdhm",
        "outputId": "96739160-52ec-4077-b26d-859cbabf2793"
      },
      "outputs": [
        {
          "name": "stdout",
          "output_type": "stream",
          "text": [
            "\n",
            "Teste t de duas amostras para gênero Action:\n",
            "Valor-p: 0.1082803385733695\n",
            "Não podemos rejeitar a hipótese nula para o gênero Action\n"
          ]
        }
      ],
      "source": [
        "from scipy.stats import ttest_ind\n",
        "\n",
        "# Realizar o teste t de duas amostras independentes\n",
        "if p_value_action >= alpha:\n",
        "    # Variâncias iguais, usar equal_var=True\n",
        "    results_action = ttest_ind(df_action_pc['user_score'], df_action_xone['user_score'], equal_var=True)\n",
        "else:\n",
        "    # Variâncias diferentes, usar equal_var=False\n",
        "    results_action = ttest_ind(df_action_pc['user_score'], df_action_xone['user_score'], equal_var=False)\n",
        "\n",
        "# Imprimir o valor-p do teste t de duas amostras\n",
        "print('\\nTeste t de duas amostras para gênero Action:')\n",
        "print('Valor-p:', results_action.pvalue)\n",
        "\n",
        "# Interpretar o resultado do teste t\n",
        "if results_action.pvalue < alpha:\n",
        "    print(\"Rejeitamos a hipótese nula para o gênero Action\")\n",
        "else:\n",
        "    print(\"Não podemos rejeitar a hipótese nula para o gênero Action\")"
      ]
    },
    {
      "cell_type": "markdown",
      "metadata": {
        "id": "Fsxy9f8wUdhn"
      },
      "source": [
        "Isso significa que não há diferença estatisticamente significativa nas classificações médias dos usuários entre Xbox One e PC para o gênero Action. Em outras palavras, os dados não fornecem suporte estatístico para afirmar que as médias das classificações dos usuários são diferentes entre as duas plataformas para esse gênero específico."
      ]
    },
    {
      "cell_type": "markdown",
      "metadata": {
        "id": "KOhf33y4Udhn"
      },
      "source": [
        "<div class=\"alert alert-block alert-danger\">\n",
        "<b> Comentário do revisor: </b> <a class=\"tocSkip\"></a>\n",
        "\n",
        "Precisamos melhorar a seção de teste de  hipótese:\n",
        "Para isso você precisa seguir esses passos:\n",
        "\n",
        "- Avaliar se as variâncias são iguais, por exemplo, calculando a variãncia da amostra e verificando a igualdade\n",
        "- Em seguida, ajustar equal_var=True no teste T se as variâncias forem iguais, senão usamos equal_var=False no teste T.\n",
        "- Avaliar o resultado do teste T\n",
        "\n",
        "</div>"
      ]
    },
    {
      "cell_type": "markdown",
      "metadata": {
        "id": "Rovh-seGUdhn"
      },
      "source": [
        "<div class=\"alert alert-block alert-success\">\n",
        "<b> Comentário do revisor: </b> <a class=\"tocSkip\"></a>\n",
        "\n",
        "Correto\n",
        "</div>\n"
      ]
    },
    {
      "cell_type": "markdown",
      "metadata": {
        "id": "uzUxVgpYUdhn"
      },
      "source": [
        "Isso significa que não encontramos diferenças estatisticamente significativas nas classificações médias dos usuários para o gênero \"Action\" entre as plataformas Xbox One e PC. Assim, não podemos concluir que há uma diferença real nas classificações médias dos usuários com base nos dados disponíveis e no teste estatístico realizado."
      ]
    },
    {
      "cell_type": "code",
      "execution_count": null,
      "metadata": {
        "id": "_uDx783OUdhn"
      },
      "outputs": [],
      "source": [
        "# Para o gênero \"Esportes\" (Sports):\n",
        "df_sports = df[df['genre'] == 'Sports']\n",
        "\n",
        "df_sports_pc = df_sports[df_sports['platform'] == 'PC'].dropna(subset=['user_score'])\n",
        "df_sports_xone = df_sports[df_sports['platform'] == 'XOne'].dropna(subset=['user_score'])"
      ]
    },
    {
      "cell_type": "markdown",
      "metadata": {
        "id": "O0YZU-WIUdhn"
      },
      "source": [
        "Hipótese nula (H0): As classificações médias dos usuários para o gênero Sports são iguais entre Xbox One e PC.\n",
        "Hipótese alternativa (H1): As classificações médias dos usuários para o gênero Sports são diferentes entre Xbox One e PC."
      ]
    },
    {
      "cell_type": "code",
      "execution_count": null,
      "metadata": {
        "id": "3ORPQuUtUdhn",
        "outputId": "6f6f6bba-61db-4463-922d-aceb87c7d8b0"
      },
      "outputs": [
        {
          "name": "stdout",
          "output_type": "stream",
          "text": [
            "Teste de Levene para gênero Action:\n",
            "Estatística de Levene: 2.966987456529862\n",
            "Valor-p: 0.08652580849554077\n",
            "Variâncias iguais (p >= alpha). Usar equal_var=True no teste T.\n"
          ]
        }
      ],
      "source": [
        "from scipy.stats import levene\n",
        "\n",
        "# Teste de Levene para verificar igualdade das variâncias\n",
        "statistic_action, p_value_action = levene(df_action_pc['user_score'], df_action_xone['user_score'])\n",
        "print('Teste de Levene para gênero Action:')\n",
        "print('Estatística de Levene:', statistic_action)\n",
        "print('Valor-p:', p_value_action)\n",
        "\n",
        "alpha = 0.05\n",
        "\n",
        "if p_value_action >= alpha:\n",
        "    print(\"Variâncias iguais (p >= alpha). Usar equal_var=True no teste T.\")\n",
        "else:\n",
        "    print(\"Variâncias diferentes (p < alpha). Usar equal_var=False no teste T.\")"
      ]
    },
    {
      "cell_type": "code",
      "execution_count": null,
      "metadata": {
        "id": "iwihaY2kUdhn",
        "outputId": "51ca6536-f5a0-4e8e-9b03-a8d3d65826a2"
      },
      "outputs": [
        {
          "name": "stdout",
          "output_type": "stream",
          "text": [
            "Valor-p (Esportes): 0.39935892947707974\n",
            "Não podemos rejeitar a hipótese nula para o gênero Esportes\n"
          ]
        }
      ],
      "source": [
        "# Realizar o teste t de duas amostras independentes:\n",
        "\n",
        "results_sports = st.ttest_ind(df_sports_pc['user_score'], df_sports_xone['user_score'])\n",
        "print('Valor-p (Esportes):', results_sports.pvalue)\n",
        "\n",
        "if results_sports.pvalue < alpha:\n",
        "    print(\"Rejeitamos a hipótese nula para o gênero Esportes\")\n",
        "else:\n",
        "    print(\"Não podemos rejeitar a hipótese nula para o gênero Esportes\")\n"
      ]
    },
    {
      "cell_type": "markdown",
      "metadata": {
        "id": "mu5y1BZ2Udho"
      },
      "source": [
        "Valor-p (Esportes): 0.39935892947707974\n",
        "O valor-p obtido (0.39935892947707974) Isso indica que não encontramos diferenças estatisticamente significativas nas classificações médias dos usuários para o gênero \"Sports\" entre as plataformas Xbox One e PC. Consequentemente, com base nos dados e no teste estatístico realizado, não podemos afirmar que há uma diferença real nas classificações médias dos usuários entre essas duas plataformas para o gênero \"Sports\".\n"
      ]
    },
    {
      "cell_type": "markdown",
      "metadata": {
        "id": "IltiSXFHUdho"
      },
      "source": [
        "Etapa 6. Escreva uma conclusão geral"
      ]
    }
  ],
  "metadata": {
    "ExecuteTimeLog": [
      {
        "duration": 3,
        "start_time": "2024-07-10T02:23:13.425Z"
      },
      {
        "duration": 794,
        "start_time": "2024-07-10T02:24:00.448Z"
      },
      {
        "duration": 124,
        "start_time": "2024-07-10T02:24:18.474Z"
      },
      {
        "duration": 130,
        "start_time": "2024-07-10T02:25:29.295Z"
      },
      {
        "duration": 127,
        "start_time": "2024-07-10T02:26:03.506Z"
      },
      {
        "duration": 4,
        "start_time": "2024-07-10T02:26:14.445Z"
      },
      {
        "duration": 124,
        "start_time": "2024-07-10T02:26:16.366Z"
      },
      {
        "duration": 133,
        "start_time": "2024-07-10T02:26:49.317Z"
      },
      {
        "duration": 59,
        "start_time": "2024-07-10T02:28:11.718Z"
      },
      {
        "duration": 37,
        "start_time": "2024-07-10T02:28:14.632Z"
      },
      {
        "duration": 25,
        "start_time": "2024-07-10T02:28:34.102Z"
      },
      {
        "duration": 3,
        "start_time": "2024-07-10T02:32:41.950Z"
      },
      {
        "duration": 3,
        "start_time": "2024-07-10T02:36:05.359Z"
      },
      {
        "duration": 3,
        "start_time": "2024-07-10T02:42:36.242Z"
      },
      {
        "duration": 3,
        "start_time": "2024-07-10T02:48:17.305Z"
      },
      {
        "duration": 3,
        "start_time": "2024-07-10T02:49:23.488Z"
      },
      {
        "duration": 3,
        "start_time": "2024-07-10T02:49:37.714Z"
      },
      {
        "duration": 4,
        "start_time": "2024-07-10T02:52:10.376Z"
      },
      {
        "duration": 3,
        "start_time": "2024-07-10T02:53:27.603Z"
      },
      {
        "duration": 3,
        "start_time": "2024-07-10T03:00:45.294Z"
      },
      {
        "duration": 3,
        "start_time": "2024-07-10T03:17:58.538Z"
      },
      {
        "duration": 19,
        "start_time": "2024-07-10T03:31:06.724Z"
      },
      {
        "duration": 1364,
        "start_time": "2024-07-10T03:37:32.512Z"
      },
      {
        "duration": 95,
        "start_time": "2024-07-10T03:37:55.937Z"
      },
      {
        "duration": 6,
        "start_time": "2024-07-10T03:40:07.162Z"
      },
      {
        "duration": 6,
        "start_time": "2024-07-10T03:40:10.372Z"
      },
      {
        "duration": 19,
        "start_time": "2024-07-10T03:40:32.717Z"
      },
      {
        "duration": 8,
        "start_time": "2024-07-10T03:41:58.039Z"
      },
      {
        "duration": 23,
        "start_time": "2024-07-10T03:42:05.871Z"
      },
      {
        "duration": 10,
        "start_time": "2024-07-10T03:48:25.409Z"
      },
      {
        "duration": 8,
        "start_time": "2024-07-10T03:54:03.633Z"
      },
      {
        "duration": 17,
        "start_time": "2024-07-10T03:57:14.703Z"
      },
      {
        "duration": 15,
        "start_time": "2024-07-10T03:57:50.150Z"
      },
      {
        "duration": 11,
        "start_time": "2024-07-10T03:58:33.699Z"
      },
      {
        "duration": 19,
        "start_time": "2024-07-10T03:59:34.141Z"
      },
      {
        "duration": 499,
        "start_time": "2024-07-10T04:13:52.878Z"
      },
      {
        "duration": 47,
        "start_time": "2024-07-10T04:13:53.381Z"
      },
      {
        "duration": 27,
        "start_time": "2024-07-10T04:13:53.430Z"
      },
      {
        "duration": 23,
        "start_time": "2024-07-10T04:13:53.490Z"
      },
      {
        "duration": 25,
        "start_time": "2024-07-10T04:13:53.520Z"
      },
      {
        "duration": 43,
        "start_time": "2024-07-10T04:13:53.548Z"
      },
      {
        "duration": 21,
        "start_time": "2024-07-10T04:13:53.596Z"
      },
      {
        "duration": 16,
        "start_time": "2024-07-10T04:13:53.620Z"
      },
      {
        "duration": 57,
        "start_time": "2024-07-10T04:13:53.639Z"
      },
      {
        "duration": 8,
        "start_time": "2024-07-10T04:21:14.724Z"
      },
      {
        "duration": 4,
        "start_time": "2024-07-10T04:21:26.416Z"
      },
      {
        "duration": 7,
        "start_time": "2024-07-10T04:21:52.549Z"
      },
      {
        "duration": 1200,
        "start_time": "2024-07-10T04:45:24.527Z"
      },
      {
        "duration": 6,
        "start_time": "2024-07-10T04:45:44.577Z"
      },
      {
        "duration": 76,
        "start_time": "2024-07-10T04:56:25.628Z"
      },
      {
        "duration": 25,
        "start_time": "2024-07-10T04:56:33.431Z"
      },
      {
        "duration": 76,
        "start_time": "2024-07-10T04:57:11.009Z"
      },
      {
        "duration": 5,
        "start_time": "2024-07-10T04:57:16.565Z"
      },
      {
        "duration": 79,
        "start_time": "2024-07-10T04:58:24.809Z"
      },
      {
        "duration": 78,
        "start_time": "2024-07-10T04:58:47.416Z"
      },
      {
        "duration": 88,
        "start_time": "2024-07-10T04:58:49.324Z"
      },
      {
        "duration": 11,
        "start_time": "2024-07-10T04:59:30.085Z"
      },
      {
        "duration": 38,
        "start_time": "2024-07-10T05:02:04.592Z"
      },
      {
        "duration": 17,
        "start_time": "2024-07-10T05:02:11.439Z"
      },
      {
        "duration": 13,
        "start_time": "2024-07-10T05:02:28.772Z"
      },
      {
        "duration": 12,
        "start_time": "2024-07-10T05:03:03.504Z"
      },
      {
        "duration": 6,
        "start_time": "2024-07-10T05:03:42.416Z"
      },
      {
        "duration": 469,
        "start_time": "2024-07-10T05:03:59.091Z"
      },
      {
        "duration": 48,
        "start_time": "2024-07-10T05:03:59.564Z"
      },
      {
        "duration": 26,
        "start_time": "2024-07-10T05:03:59.615Z"
      },
      {
        "duration": 20,
        "start_time": "2024-07-10T05:03:59.645Z"
      },
      {
        "duration": 5,
        "start_time": "2024-07-10T05:03:59.692Z"
      },
      {
        "duration": 7,
        "start_time": "2024-07-10T05:03:59.700Z"
      },
      {
        "duration": 1189,
        "start_time": "2024-07-10T05:03:59.710Z"
      },
      {
        "duration": 0,
        "start_time": "2024-07-10T05:04:00.903Z"
      },
      {
        "duration": 0,
        "start_time": "2024-07-10T05:04:00.905Z"
      },
      {
        "duration": 0,
        "start_time": "2024-07-10T05:04:00.909Z"
      },
      {
        "duration": 0,
        "start_time": "2024-07-10T05:04:00.912Z"
      },
      {
        "duration": 0,
        "start_time": "2024-07-10T05:04:00.914Z"
      },
      {
        "duration": 0,
        "start_time": "2024-07-10T05:04:00.919Z"
      },
      {
        "duration": 0,
        "start_time": "2024-07-10T05:04:00.922Z"
      },
      {
        "duration": 4,
        "start_time": "2024-07-10T05:04:50.718Z"
      },
      {
        "duration": 37,
        "start_time": "2024-07-10T05:04:53.532Z"
      },
      {
        "duration": 38,
        "start_time": "2024-07-10T05:04:57.776Z"
      },
      {
        "duration": 21,
        "start_time": "2024-07-10T05:04:59.830Z"
      },
      {
        "duration": 20,
        "start_time": "2024-07-10T05:05:03.119Z"
      },
      {
        "duration": 4,
        "start_time": "2024-07-10T05:05:10.090Z"
      },
      {
        "duration": 6,
        "start_time": "2024-07-10T05:05:16.214Z"
      },
      {
        "duration": 24,
        "start_time": "2024-07-10T05:05:40.423Z"
      },
      {
        "duration": 5,
        "start_time": "2024-07-10T05:05:49.361Z"
      },
      {
        "duration": 7,
        "start_time": "2024-07-10T05:06:18.487Z"
      },
      {
        "duration": 5,
        "start_time": "2024-07-10T05:06:36.961Z"
      },
      {
        "duration": 13,
        "start_time": "2024-07-10T05:06:48.698Z"
      },
      {
        "duration": 20,
        "start_time": "2024-07-10T05:08:10.431Z"
      },
      {
        "duration": 13,
        "start_time": "2024-07-10T05:09:44.516Z"
      },
      {
        "duration": 288,
        "start_time": "2024-07-10T05:10:52.245Z"
      },
      {
        "duration": 14,
        "start_time": "2024-07-10T05:13:22.827Z"
      },
      {
        "duration": 444,
        "start_time": "2024-07-10T05:14:55.631Z"
      },
      {
        "duration": 40,
        "start_time": "2024-07-10T05:14:56.080Z"
      },
      {
        "duration": 30,
        "start_time": "2024-07-10T05:14:56.123Z"
      },
      {
        "duration": 48,
        "start_time": "2024-07-10T05:14:56.156Z"
      },
      {
        "duration": 5,
        "start_time": "2024-07-10T05:14:56.210Z"
      },
      {
        "duration": 7,
        "start_time": "2024-07-10T05:14:56.218Z"
      },
      {
        "duration": 70,
        "start_time": "2024-07-10T05:14:56.228Z"
      },
      {
        "duration": 6,
        "start_time": "2024-07-10T05:14:56.301Z"
      },
      {
        "duration": 12,
        "start_time": "2024-07-10T05:14:56.311Z"
      },
      {
        "duration": 17,
        "start_time": "2024-07-10T05:14:56.327Z"
      },
      {
        "duration": 53,
        "start_time": "2024-07-10T05:14:56.347Z"
      },
      {
        "duration": 25,
        "start_time": "2024-07-10T05:14:56.404Z"
      },
      {
        "duration": 18,
        "start_time": "2024-07-10T05:14:56.433Z"
      },
      {
        "duration": 19,
        "start_time": "2024-07-10T05:14:56.492Z"
      },
      {
        "duration": 8,
        "start_time": "2024-07-10T05:15:48.091Z"
      },
      {
        "duration": 7,
        "start_time": "2024-07-10T05:17:08.444Z"
      },
      {
        "duration": 6,
        "start_time": "2024-07-10T05:18:05.601Z"
      },
      {
        "duration": 33,
        "start_time": "2024-07-10T05:29:44.291Z"
      },
      {
        "duration": 9,
        "start_time": "2024-07-10T05:37:00.183Z"
      },
      {
        "duration": 19,
        "start_time": "2024-07-10T05:37:14.886Z"
      },
      {
        "duration": 509,
        "start_time": "2024-07-10T05:40:41.981Z"
      },
      {
        "duration": 49,
        "start_time": "2024-07-10T05:40:42.495Z"
      },
      {
        "duration": 26,
        "start_time": "2024-07-10T05:40:42.547Z"
      },
      {
        "duration": 22,
        "start_time": "2024-07-10T05:40:42.593Z"
      },
      {
        "duration": 5,
        "start_time": "2024-07-10T05:40:42.618Z"
      },
      {
        "duration": 5,
        "start_time": "2024-07-10T05:40:42.627Z"
      },
      {
        "duration": 77,
        "start_time": "2024-07-10T05:40:42.635Z"
      },
      {
        "duration": 6,
        "start_time": "2024-07-10T05:40:42.716Z"
      },
      {
        "duration": 13,
        "start_time": "2024-07-10T05:40:42.725Z"
      },
      {
        "duration": 59,
        "start_time": "2024-07-10T05:40:42.747Z"
      },
      {
        "duration": 9,
        "start_time": "2024-07-10T05:40:42.809Z"
      },
      {
        "duration": 8,
        "start_time": "2024-07-10T05:40:42.822Z"
      },
      {
        "duration": 8,
        "start_time": "2024-07-10T05:40:42.834Z"
      },
      {
        "duration": 15,
        "start_time": "2024-07-10T05:40:42.890Z"
      },
      {
        "duration": 9,
        "start_time": "2024-07-10T05:40:42.910Z"
      },
      {
        "duration": 0,
        "start_time": "2024-07-10T05:40:42.923Z"
      },
      {
        "duration": 0,
        "start_time": "2024-07-10T05:40:42.925Z"
      },
      {
        "duration": 0,
        "start_time": "2024-07-10T05:40:42.927Z"
      },
      {
        "duration": 0,
        "start_time": "2024-07-10T05:40:42.931Z"
      },
      {
        "duration": 0,
        "start_time": "2024-07-10T05:40:42.933Z"
      },
      {
        "duration": 479,
        "start_time": "2024-07-10T05:41:50.182Z"
      },
      {
        "duration": 47,
        "start_time": "2024-07-10T05:41:50.664Z"
      },
      {
        "duration": 27,
        "start_time": "2024-07-10T05:41:50.713Z"
      },
      {
        "duration": 46,
        "start_time": "2024-07-10T05:41:50.744Z"
      },
      {
        "duration": 5,
        "start_time": "2024-07-10T05:41:50.793Z"
      },
      {
        "duration": 6,
        "start_time": "2024-07-10T05:41:50.801Z"
      },
      {
        "duration": 24,
        "start_time": "2024-07-10T05:41:50.811Z"
      },
      {
        "duration": 7,
        "start_time": "2024-07-10T05:41:50.838Z"
      },
      {
        "duration": 53,
        "start_time": "2024-07-10T05:41:50.848Z"
      },
      {
        "duration": 14,
        "start_time": "2024-07-10T05:41:50.906Z"
      },
      {
        "duration": 7,
        "start_time": "2024-07-10T05:41:50.923Z"
      },
      {
        "duration": 8,
        "start_time": "2024-07-10T05:41:50.933Z"
      },
      {
        "duration": 7,
        "start_time": "2024-07-10T05:41:50.991Z"
      },
      {
        "duration": 12,
        "start_time": "2024-07-10T05:41:51.001Z"
      },
      {
        "duration": 19,
        "start_time": "2024-07-10T05:41:51.015Z"
      },
      {
        "duration": 52,
        "start_time": "2024-07-10T05:41:51.038Z"
      },
      {
        "duration": 17,
        "start_time": "2024-07-10T05:41:51.094Z"
      },
      {
        "duration": 21,
        "start_time": "2024-07-10T05:41:51.114Z"
      },
      {
        "duration": 61,
        "start_time": "2024-07-10T05:41:51.138Z"
      },
      {
        "duration": 468,
        "start_time": "2024-07-10T05:43:31.918Z"
      },
      {
        "duration": 39,
        "start_time": "2024-07-10T05:43:32.391Z"
      },
      {
        "duration": 27,
        "start_time": "2024-07-10T05:43:32.433Z"
      },
      {
        "duration": 39,
        "start_time": "2024-07-10T05:43:32.466Z"
      },
      {
        "duration": 5,
        "start_time": "2024-07-10T05:43:32.510Z"
      },
      {
        "duration": 12,
        "start_time": "2024-07-10T05:43:32.520Z"
      },
      {
        "duration": 67,
        "start_time": "2024-07-10T05:43:32.537Z"
      },
      {
        "duration": 6,
        "start_time": "2024-07-10T05:43:32.607Z"
      },
      {
        "duration": 14,
        "start_time": "2024-07-10T05:43:32.617Z"
      },
      {
        "duration": 56,
        "start_time": "2024-07-10T05:43:32.636Z"
      },
      {
        "duration": 7,
        "start_time": "2024-07-10T05:43:32.696Z"
      },
      {
        "duration": 10,
        "start_time": "2024-07-10T05:43:32.708Z"
      },
      {
        "duration": 7,
        "start_time": "2024-07-10T05:43:32.721Z"
      },
      {
        "duration": 65,
        "start_time": "2024-07-10T05:43:32.731Z"
      },
      {
        "duration": 23,
        "start_time": "2024-07-10T05:43:32.800Z"
      },
      {
        "duration": 19,
        "start_time": "2024-07-10T05:43:32.825Z"
      },
      {
        "duration": 57,
        "start_time": "2024-07-10T05:43:32.848Z"
      },
      {
        "duration": 24,
        "start_time": "2024-07-10T05:43:32.908Z"
      },
      {
        "duration": 54,
        "start_time": "2024-07-10T05:43:32.936Z"
      },
      {
        "duration": 1143,
        "start_time": "2024-07-10T05:45:56.899Z"
      },
      {
        "duration": 8,
        "start_time": "2024-07-10T05:46:09.985Z"
      },
      {
        "duration": 8,
        "start_time": "2024-07-10T05:52:41.295Z"
      },
      {
        "duration": 13,
        "start_time": "2024-07-10T05:57:14.965Z"
      },
      {
        "duration": 8,
        "start_time": "2024-07-10T05:58:28.917Z"
      },
      {
        "duration": 5,
        "start_time": "2024-07-10T06:00:15.873Z"
      },
      {
        "duration": 10,
        "start_time": "2024-07-10T06:00:37.434Z"
      },
      {
        "duration": 6,
        "start_time": "2024-07-10T06:02:05.247Z"
      },
      {
        "duration": 341,
        "start_time": "2024-07-10T06:05:29.669Z"
      },
      {
        "duration": 13,
        "start_time": "2024-07-10T06:05:38.519Z"
      },
      {
        "duration": 7,
        "start_time": "2024-07-10T06:10:44.135Z"
      },
      {
        "duration": 7,
        "start_time": "2024-07-10T06:10:53.065Z"
      },
      {
        "duration": 6,
        "start_time": "2024-07-10T06:13:17.703Z"
      },
      {
        "duration": 75,
        "start_time": "2024-07-10T06:13:27.049Z"
      },
      {
        "duration": 6,
        "start_time": "2024-07-10T06:13:37.125Z"
      },
      {
        "duration": 80,
        "start_time": "2024-07-10T06:16:18.963Z"
      },
      {
        "duration": 151,
        "start_time": "2024-07-10T06:16:34.414Z"
      },
      {
        "duration": 9,
        "start_time": "2024-07-10T06:18:52.233Z"
      },
      {
        "duration": 4359,
        "start_time": "2024-07-10T06:19:39.798Z"
      },
      {
        "duration": 8,
        "start_time": "2024-07-10T06:22:33.618Z"
      },
      {
        "duration": 7,
        "start_time": "2024-07-10T06:22:38.184Z"
      },
      {
        "duration": 10,
        "start_time": "2024-07-10T06:22:42.482Z"
      },
      {
        "duration": 600,
        "start_time": "2024-07-10T06:22:45.193Z"
      },
      {
        "duration": 7,
        "start_time": "2024-07-10T06:23:16.142Z"
      },
      {
        "duration": 6,
        "start_time": "2024-07-10T06:23:17.967Z"
      },
      {
        "duration": 8,
        "start_time": "2024-07-10T06:23:19.777Z"
      },
      {
        "duration": 575,
        "start_time": "2024-07-10T06:23:21.386Z"
      },
      {
        "duration": 5,
        "start_time": "2024-07-10T06:31:43.707Z"
      },
      {
        "duration": 313,
        "start_time": "2024-07-10T16:06:53.345Z"
      },
      {
        "duration": 475,
        "start_time": "2024-07-10T16:07:08.589Z"
      },
      {
        "duration": 73,
        "start_time": "2024-07-10T16:07:09.069Z"
      },
      {
        "duration": 30,
        "start_time": "2024-07-10T16:07:09.147Z"
      },
      {
        "duration": 46,
        "start_time": "2024-07-10T16:07:09.183Z"
      },
      {
        "duration": 5,
        "start_time": "2024-07-10T16:07:09.234Z"
      },
      {
        "duration": 9,
        "start_time": "2024-07-10T16:07:09.244Z"
      },
      {
        "duration": 27,
        "start_time": "2024-07-10T16:07:09.260Z"
      },
      {
        "duration": 5,
        "start_time": "2024-07-10T16:07:09.330Z"
      },
      {
        "duration": 15,
        "start_time": "2024-07-10T16:07:09.339Z"
      },
      {
        "duration": 17,
        "start_time": "2024-07-10T16:07:09.361Z"
      },
      {
        "duration": 51,
        "start_time": "2024-07-10T16:07:09.381Z"
      },
      {
        "duration": 8,
        "start_time": "2024-07-10T16:07:09.436Z"
      },
      {
        "duration": 10,
        "start_time": "2024-07-10T16:07:09.447Z"
      },
      {
        "duration": 17,
        "start_time": "2024-07-10T16:07:09.461Z"
      },
      {
        "duration": 65,
        "start_time": "2024-07-10T16:07:09.481Z"
      },
      {
        "duration": 17,
        "start_time": "2024-07-10T16:07:09.549Z"
      },
      {
        "duration": 60,
        "start_time": "2024-07-10T16:07:09.571Z"
      },
      {
        "duration": 27,
        "start_time": "2024-07-10T16:07:09.634Z"
      },
      {
        "duration": 24,
        "start_time": "2024-07-10T16:07:09.665Z"
      },
      {
        "duration": 39,
        "start_time": "2024-07-10T16:07:09.694Z"
      },
      {
        "duration": 13,
        "start_time": "2024-07-10T16:07:09.736Z"
      },
      {
        "duration": 9,
        "start_time": "2024-07-10T16:07:09.752Z"
      },
      {
        "duration": 11,
        "start_time": "2024-07-10T16:07:09.764Z"
      },
      {
        "duration": 10,
        "start_time": "2024-07-10T16:07:09.777Z"
      },
      {
        "duration": 4727,
        "start_time": "2024-07-10T16:07:09.832Z"
      },
      {
        "duration": 8,
        "start_time": "2024-07-10T16:08:28.390Z"
      },
      {
        "duration": 8,
        "start_time": "2024-07-10T16:10:05.921Z"
      },
      {
        "duration": 7,
        "start_time": "2024-07-10T16:10:14.877Z"
      },
      {
        "duration": 7,
        "start_time": "2024-07-10T16:10:36.518Z"
      },
      {
        "duration": 8,
        "start_time": "2024-07-10T16:10:49.486Z"
      },
      {
        "duration": 7,
        "start_time": "2024-07-10T16:11:46.472Z"
      },
      {
        "duration": 10,
        "start_time": "2024-07-10T16:11:48.935Z"
      },
      {
        "duration": 9,
        "start_time": "2024-07-10T16:11:51.034Z"
      },
      {
        "duration": 1098,
        "start_time": "2024-07-10T16:11:53.362Z"
      },
      {
        "duration": 8,
        "start_time": "2024-07-10T16:13:12.796Z"
      },
      {
        "duration": 7,
        "start_time": "2024-07-10T16:13:15.623Z"
      },
      {
        "duration": 7,
        "start_time": "2024-07-10T16:14:01.817Z"
      },
      {
        "duration": 8,
        "start_time": "2024-07-10T16:14:03.137Z"
      },
      {
        "duration": 9,
        "start_time": "2024-07-10T16:14:04.698Z"
      },
      {
        "duration": 725,
        "start_time": "2024-07-10T16:14:08.042Z"
      },
      {
        "duration": 18,
        "start_time": "2024-07-10T16:14:52.517Z"
      },
      {
        "duration": 16,
        "start_time": "2024-07-10T16:19:04.375Z"
      },
      {
        "duration": 700,
        "start_time": "2024-07-10T16:19:19.175Z"
      },
      {
        "duration": 1014,
        "start_time": "2024-07-10T16:25:54.536Z"
      },
      {
        "duration": 16,
        "start_time": "2024-07-10T16:29:19.912Z"
      },
      {
        "duration": 22,
        "start_time": "2024-07-10T16:37:44.806Z"
      },
      {
        "duration": 13,
        "start_time": "2024-07-10T16:38:09.948Z"
      },
      {
        "duration": 24,
        "start_time": "2024-07-10T16:51:06.065Z"
      },
      {
        "duration": 4,
        "start_time": "2024-07-10T16:55:39.915Z"
      },
      {
        "duration": 37,
        "start_time": "2024-07-10T16:55:43.546Z"
      },
      {
        "duration": 20,
        "start_time": "2024-07-10T16:55:47.955Z"
      },
      {
        "duration": 18,
        "start_time": "2024-07-10T16:55:58.323Z"
      },
      {
        "duration": 3,
        "start_time": "2024-07-10T17:02:33.334Z"
      },
      {
        "duration": 38,
        "start_time": "2024-07-10T17:02:35.053Z"
      },
      {
        "duration": 18,
        "start_time": "2024-07-10T17:02:36.679Z"
      },
      {
        "duration": 18,
        "start_time": "2024-07-10T17:02:41.367Z"
      },
      {
        "duration": 4,
        "start_time": "2024-07-10T17:02:51.393Z"
      },
      {
        "duration": 6,
        "start_time": "2024-07-10T17:02:53.860Z"
      },
      {
        "duration": 798,
        "start_time": "2024-07-10T17:03:06.651Z"
      },
      {
        "duration": 22,
        "start_time": "2024-07-10T17:03:16.890Z"
      },
      {
        "duration": 5,
        "start_time": "2024-07-10T17:03:32.719Z"
      },
      {
        "duration": 11,
        "start_time": "2024-07-10T17:03:35.807Z"
      },
      {
        "duration": 14,
        "start_time": "2024-07-10T17:03:43.104Z"
      },
      {
        "duration": 6,
        "start_time": "2024-07-10T17:03:46.003Z"
      },
      {
        "duration": 7,
        "start_time": "2024-07-10T17:03:49.469Z"
      },
      {
        "duration": 5,
        "start_time": "2024-07-10T17:03:52.719Z"
      },
      {
        "duration": 15,
        "start_time": "2024-07-10T17:03:56.048Z"
      },
      {
        "duration": 638,
        "start_time": "2024-07-10T17:09:27.021Z"
      },
      {
        "duration": 73,
        "start_time": "2024-07-10T17:09:47.114Z"
      },
      {
        "duration": 76,
        "start_time": "2024-07-10T17:10:19.376Z"
      },
      {
        "duration": 684,
        "start_time": "2024-07-10T17:10:37.584Z"
      },
      {
        "duration": 4,
        "start_time": "2024-07-10T17:13:05.894Z"
      },
      {
        "duration": 43,
        "start_time": "2024-07-10T17:13:08.648Z"
      },
      {
        "duration": 19,
        "start_time": "2024-07-10T17:13:10.003Z"
      },
      {
        "duration": 19,
        "start_time": "2024-07-10T17:13:12.116Z"
      },
      {
        "duration": 18,
        "start_time": "2024-07-10T17:13:15.695Z"
      },
      {
        "duration": 5,
        "start_time": "2024-07-10T17:13:25.058Z"
      },
      {
        "duration": 5,
        "start_time": "2024-07-10T17:13:27.903Z"
      },
      {
        "duration": 7,
        "start_time": "2024-07-10T17:13:29.731Z"
      },
      {
        "duration": 21,
        "start_time": "2024-07-10T17:13:37.181Z"
      },
      {
        "duration": 102,
        "start_time": "2024-07-10T17:13:52.055Z"
      },
      {
        "duration": 6,
        "start_time": "2024-07-10T17:14:16.727Z"
      },
      {
        "duration": 7,
        "start_time": "2024-07-10T17:14:24.105Z"
      },
      {
        "duration": 4,
        "start_time": "2024-07-10T17:14:26.559Z"
      },
      {
        "duration": 6,
        "start_time": "2024-07-10T17:14:33.142Z"
      },
      {
        "duration": 11,
        "start_time": "2024-07-10T17:14:36.000Z"
      },
      {
        "duration": 21,
        "start_time": "2024-07-10T17:15:46.510Z"
      },
      {
        "duration": 5,
        "start_time": "2024-07-10T17:16:11.949Z"
      },
      {
        "duration": 11,
        "start_time": "2024-07-10T17:16:14.926Z"
      },
      {
        "duration": 13,
        "start_time": "2024-07-10T17:16:19.874Z"
      },
      {
        "duration": 6,
        "start_time": "2024-07-10T17:16:24.050Z"
      },
      {
        "duration": 7,
        "start_time": "2024-07-10T17:16:27.667Z"
      },
      {
        "duration": 6,
        "start_time": "2024-07-10T17:16:46.214Z"
      },
      {
        "duration": 16,
        "start_time": "2024-07-10T17:16:57.378Z"
      },
      {
        "duration": 6,
        "start_time": "2024-07-10T17:31:50.299Z"
      },
      {
        "duration": 29,
        "start_time": "2024-07-10T17:32:29.754Z"
      },
      {
        "duration": 5658,
        "start_time": "2024-07-10T17:36:11.114Z"
      },
      {
        "duration": 5466,
        "start_time": "2024-07-10T17:37:02.547Z"
      },
      {
        "duration": 16,
        "start_time": "2024-07-10T17:37:30.856Z"
      },
      {
        "duration": 5738,
        "start_time": "2024-07-10T17:37:30.875Z"
      },
      {
        "duration": 3754,
        "start_time": "2024-07-10T17:51:04.173Z"
      },
      {
        "duration": 3720,
        "start_time": "2024-07-10T17:51:24.965Z"
      },
      {
        "duration": 7,
        "start_time": "2024-07-10T17:53:14.805Z"
      },
      {
        "duration": 21,
        "start_time": "2024-07-10T17:55:36.431Z"
      },
      {
        "duration": 443,
        "start_time": "2024-07-10T17:56:14.697Z"
      },
      {
        "duration": 40,
        "start_time": "2024-07-10T17:56:15.144Z"
      },
      {
        "duration": 44,
        "start_time": "2024-07-10T17:56:15.187Z"
      },
      {
        "duration": 20,
        "start_time": "2024-07-10T17:56:15.235Z"
      },
      {
        "duration": 4,
        "start_time": "2024-07-10T17:56:15.258Z"
      },
      {
        "duration": 7,
        "start_time": "2024-07-10T17:56:15.266Z"
      },
      {
        "duration": 61,
        "start_time": "2024-07-10T17:56:15.276Z"
      },
      {
        "duration": 7,
        "start_time": "2024-07-10T17:56:15.340Z"
      },
      {
        "duration": 21,
        "start_time": "2024-07-10T17:56:15.349Z"
      },
      {
        "duration": 5,
        "start_time": "2024-07-10T17:56:15.377Z"
      },
      {
        "duration": 48,
        "start_time": "2024-07-10T17:56:15.385Z"
      },
      {
        "duration": 17,
        "start_time": "2024-07-10T17:56:15.437Z"
      },
      {
        "duration": 7,
        "start_time": "2024-07-10T17:56:15.456Z"
      },
      {
        "duration": 7,
        "start_time": "2024-07-10T17:56:15.466Z"
      },
      {
        "duration": 58,
        "start_time": "2024-07-10T17:56:15.476Z"
      },
      {
        "duration": 5521,
        "start_time": "2024-07-10T17:56:15.538Z"
      },
      {
        "duration": 3726,
        "start_time": "2024-07-10T17:56:21.062Z"
      },
      {
        "duration": 7,
        "start_time": "2024-07-10T17:56:24.791Z"
      },
      {
        "duration": 6,
        "start_time": "2024-07-10T17:56:24.801Z"
      },
      {
        "duration": 12,
        "start_time": "2024-07-10T17:56:24.832Z"
      },
      {
        "duration": 19,
        "start_time": "2024-07-10T17:56:24.850Z"
      },
      {
        "duration": 17,
        "start_time": "2024-07-10T17:56:24.872Z"
      },
      {
        "duration": 57,
        "start_time": "2024-07-10T17:56:24.891Z"
      },
      {
        "duration": 26,
        "start_time": "2024-07-10T17:56:24.951Z"
      },
      {
        "duration": 53,
        "start_time": "2024-07-10T17:56:24.980Z"
      },
      {
        "duration": 10,
        "start_time": "2024-07-10T17:56:25.036Z"
      },
      {
        "duration": 12,
        "start_time": "2024-07-10T17:56:25.049Z"
      },
      {
        "duration": 7,
        "start_time": "2024-07-10T17:56:25.067Z"
      },
      {
        "duration": 7,
        "start_time": "2024-07-10T17:56:25.077Z"
      },
      {
        "duration": 19,
        "start_time": "2024-07-10T17:56:25.130Z"
      },
      {
        "duration": 6,
        "start_time": "2024-07-10T17:56:25.151Z"
      },
      {
        "duration": 0,
        "start_time": "2024-07-10T17:56:25.160Z"
      },
      {
        "duration": 0,
        "start_time": "2024-07-10T17:56:25.163Z"
      },
      {
        "duration": 13,
        "start_time": "2024-07-10T17:58:00.496Z"
      },
      {
        "duration": 5531,
        "start_time": "2024-07-10T17:58:53.667Z"
      },
      {
        "duration": 454,
        "start_time": "2024-07-10T18:00:24.609Z"
      },
      {
        "duration": 42,
        "start_time": "2024-07-10T18:00:25.067Z"
      },
      {
        "duration": 34,
        "start_time": "2024-07-10T18:00:25.111Z"
      },
      {
        "duration": 20,
        "start_time": "2024-07-10T18:00:25.149Z"
      },
      {
        "duration": 5,
        "start_time": "2024-07-10T18:00:25.171Z"
      },
      {
        "duration": 6,
        "start_time": "2024-07-10T18:00:25.179Z"
      },
      {
        "duration": 25,
        "start_time": "2024-07-10T18:00:25.230Z"
      },
      {
        "duration": 6,
        "start_time": "2024-07-10T18:00:25.258Z"
      },
      {
        "duration": 21,
        "start_time": "2024-07-10T18:00:25.268Z"
      },
      {
        "duration": 6,
        "start_time": "2024-07-10T18:00:25.329Z"
      },
      {
        "duration": 15,
        "start_time": "2024-07-10T18:00:25.337Z"
      },
      {
        "duration": 19,
        "start_time": "2024-07-10T18:00:25.355Z"
      },
      {
        "duration": 13,
        "start_time": "2024-07-10T18:00:25.377Z"
      },
      {
        "duration": 7,
        "start_time": "2024-07-10T18:00:25.430Z"
      },
      {
        "duration": 17,
        "start_time": "2024-07-10T18:00:25.440Z"
      },
      {
        "duration": 5520,
        "start_time": "2024-07-10T18:00:25.461Z"
      },
      {
        "duration": 3741,
        "start_time": "2024-07-10T18:00:30.984Z"
      },
      {
        "duration": 7,
        "start_time": "2024-07-10T18:00:34.731Z"
      },
      {
        "duration": 7,
        "start_time": "2024-07-10T18:00:34.742Z"
      },
      {
        "duration": 11,
        "start_time": "2024-07-10T18:00:34.752Z"
      },
      {
        "duration": 18,
        "start_time": "2024-07-10T18:00:34.766Z"
      },
      {
        "duration": 59,
        "start_time": "2024-07-10T18:00:34.787Z"
      },
      {
        "duration": 17,
        "start_time": "2024-07-10T18:00:34.849Z"
      },
      {
        "duration": 61,
        "start_time": "2024-07-10T18:00:34.869Z"
      },
      {
        "duration": 22,
        "start_time": "2024-07-10T18:00:34.933Z"
      },
      {
        "duration": 7,
        "start_time": "2024-07-10T18:00:34.958Z"
      },
      {
        "duration": 12,
        "start_time": "2024-07-10T18:00:34.968Z"
      },
      {
        "duration": 44,
        "start_time": "2024-07-10T18:00:34.987Z"
      },
      {
        "duration": 10,
        "start_time": "2024-07-10T18:00:35.033Z"
      },
      {
        "duration": 20,
        "start_time": "2024-07-10T18:00:35.046Z"
      },
      {
        "duration": 13,
        "start_time": "2024-07-10T18:00:35.069Z"
      },
      {
        "duration": 67,
        "start_time": "2024-07-10T18:00:35.086Z"
      },
      {
        "duration": 1053,
        "start_time": "2024-07-10T18:00:35.156Z"
      },
      {
        "duration": 6,
        "start_time": "2024-07-10T18:07:44.464Z"
      },
      {
        "duration": 9589,
        "start_time": "2024-07-10T18:09:46.457Z"
      },
      {
        "duration": 6,
        "start_time": "2024-07-10T18:10:22.799Z"
      },
      {
        "duration": 6,
        "start_time": "2024-07-10T18:10:30.752Z"
      },
      {
        "duration": 9,
        "start_time": "2024-07-10T18:16:28.922Z"
      },
      {
        "duration": 22,
        "start_time": "2024-07-10T18:16:45.957Z"
      },
      {
        "duration": 18,
        "start_time": "2024-07-10T18:16:48.704Z"
      },
      {
        "duration": 16,
        "start_time": "2024-07-10T18:16:53.856Z"
      },
      {
        "duration": 457,
        "start_time": "2024-07-10T18:17:49.449Z"
      },
      {
        "duration": 44,
        "start_time": "2024-07-10T18:17:49.909Z"
      },
      {
        "duration": 25,
        "start_time": "2024-07-10T18:17:49.956Z"
      },
      {
        "duration": 20,
        "start_time": "2024-07-10T18:17:49.985Z"
      },
      {
        "duration": 4,
        "start_time": "2024-07-10T18:17:50.032Z"
      },
      {
        "duration": 7,
        "start_time": "2024-07-10T18:17:50.039Z"
      },
      {
        "duration": 22,
        "start_time": "2024-07-10T18:17:50.049Z"
      },
      {
        "duration": 8,
        "start_time": "2024-07-10T18:17:50.075Z"
      },
      {
        "duration": 22,
        "start_time": "2024-07-10T18:17:50.132Z"
      },
      {
        "duration": 6,
        "start_time": "2024-07-10T18:17:50.160Z"
      },
      {
        "duration": 14,
        "start_time": "2024-07-10T18:17:50.169Z"
      },
      {
        "duration": 55,
        "start_time": "2024-07-10T18:17:50.186Z"
      },
      {
        "duration": 8,
        "start_time": "2024-07-10T18:17:50.244Z"
      },
      {
        "duration": 7,
        "start_time": "2024-07-10T18:17:50.255Z"
      },
      {
        "duration": 18,
        "start_time": "2024-07-10T18:17:50.265Z"
      },
      {
        "duration": 9382,
        "start_time": "2024-07-10T18:17:50.286Z"
      },
      {
        "duration": 6,
        "start_time": "2024-07-10T18:17:59.671Z"
      },
      {
        "duration": 10,
        "start_time": "2024-07-10T18:17:59.680Z"
      },
      {
        "duration": 45,
        "start_time": "2024-07-10T18:17:59.695Z"
      },
      {
        "duration": 16,
        "start_time": "2024-07-10T18:17:59.743Z"
      },
      {
        "duration": 17,
        "start_time": "2024-07-10T18:17:59.762Z"
      },
      {
        "duration": 58,
        "start_time": "2024-07-10T18:17:59.782Z"
      },
      {
        "duration": 21,
        "start_time": "2024-07-10T18:17:59.843Z"
      },
      {
        "duration": 9,
        "start_time": "2024-07-10T18:17:59.866Z"
      },
      {
        "duration": 13,
        "start_time": "2024-07-10T18:17:59.878Z"
      },
      {
        "duration": 40,
        "start_time": "2024-07-10T18:17:59.894Z"
      },
      {
        "duration": 8,
        "start_time": "2024-07-10T18:17:59.936Z"
      },
      {
        "duration": 18,
        "start_time": "2024-07-10T18:17:59.952Z"
      },
      {
        "duration": 12,
        "start_time": "2024-07-10T18:17:59.973Z"
      },
      {
        "duration": 67,
        "start_time": "2024-07-10T18:17:59.988Z"
      },
      {
        "duration": 1010,
        "start_time": "2024-07-10T18:18:00.058Z"
      },
      {
        "duration": 22,
        "start_time": "2024-07-10T20:37:21.293Z"
      },
      {
        "duration": 13,
        "start_time": "2024-07-10T20:51:38.885Z"
      },
      {
        "duration": 15,
        "start_time": "2024-07-10T20:51:51.992Z"
      },
      {
        "duration": 17,
        "start_time": "2024-07-10T20:52:47.093Z"
      },
      {
        "duration": 527,
        "start_time": "2024-07-10T20:55:03.164Z"
      },
      {
        "duration": 11,
        "start_time": "2024-07-10T20:57:29.592Z"
      },
      {
        "duration": 21,
        "start_time": "2024-07-10T20:58:42.632Z"
      },
      {
        "duration": 19,
        "start_time": "2024-07-10T21:04:41.781Z"
      },
      {
        "duration": 26,
        "start_time": "2024-07-10T21:06:12.137Z"
      },
      {
        "duration": 21,
        "start_time": "2024-07-10T21:11:58.980Z"
      },
      {
        "duration": 19,
        "start_time": "2024-07-10T21:12:43.328Z"
      },
      {
        "duration": 8,
        "start_time": "2024-07-10T21:16:34.759Z"
      },
      {
        "duration": 10,
        "start_time": "2024-07-10T21:17:00.557Z"
      },
      {
        "duration": 9,
        "start_time": "2024-07-10T21:18:40.566Z"
      },
      {
        "duration": 18,
        "start_time": "2024-07-10T21:20:46.543Z"
      },
      {
        "duration": 18,
        "start_time": "2024-07-10T21:22:26.693Z"
      },
      {
        "duration": 22,
        "start_time": "2024-07-10T21:26:13.351Z"
      },
      {
        "duration": 18,
        "start_time": "2024-07-10T21:26:27.924Z"
      },
      {
        "duration": 21,
        "start_time": "2024-07-10T21:27:01.252Z"
      },
      {
        "duration": 18,
        "start_time": "2024-07-10T21:27:26.741Z"
      },
      {
        "duration": 5,
        "start_time": "2024-07-10T21:27:33.794Z"
      },
      {
        "duration": 15,
        "start_time": "2024-07-10T21:28:04.241Z"
      },
      {
        "duration": 4,
        "start_time": "2024-07-10T21:29:49.820Z"
      },
      {
        "duration": 14,
        "start_time": "2024-07-10T21:31:12.454Z"
      },
      {
        "duration": 409,
        "start_time": "2024-07-10T21:33:39.561Z"
      },
      {
        "duration": 21,
        "start_time": "2024-07-10T21:35:09.367Z"
      },
      {
        "duration": 589,
        "start_time": "2024-07-10T21:35:21.315Z"
      },
      {
        "duration": 146,
        "start_time": "2024-07-10T21:35:30.604Z"
      },
      {
        "duration": 14,
        "start_time": "2024-07-10T21:42:22.316Z"
      },
      {
        "duration": 38,
        "start_time": "2024-07-10T21:43:49.169Z"
      },
      {
        "duration": 300,
        "start_time": "2024-07-10T21:45:42.257Z"
      },
      {
        "duration": 6,
        "start_time": "2024-07-10T21:46:50.559Z"
      },
      {
        "duration": 9,
        "start_time": "2024-07-10T21:49:30.119Z"
      },
      {
        "duration": 14,
        "start_time": "2024-07-10T21:50:54.311Z"
      },
      {
        "duration": 16,
        "start_time": "2024-07-10T21:54:29.929Z"
      },
      {
        "duration": 13,
        "start_time": "2024-07-10T21:55:22.213Z"
      },
      {
        "duration": 15,
        "start_time": "2024-07-10T21:56:11.248Z"
      },
      {
        "duration": 6,
        "start_time": "2024-07-10T21:58:24.413Z"
      },
      {
        "duration": 21,
        "start_time": "2024-07-10T21:59:34.252Z"
      },
      {
        "duration": 283,
        "start_time": "2024-07-10T22:02:32.352Z"
      },
      {
        "duration": 75,
        "start_time": "2024-07-10T22:19:38.972Z"
      },
      {
        "duration": 202,
        "start_time": "2024-07-10T22:21:26.086Z"
      },
      {
        "duration": 241,
        "start_time": "2024-07-10T22:22:41.432Z"
      },
      {
        "duration": 383,
        "start_time": "2024-07-10T22:24:32.212Z"
      },
      {
        "duration": 163,
        "start_time": "2024-07-10T22:31:24.907Z"
      },
      {
        "duration": 147,
        "start_time": "2024-07-10T22:38:36.121Z"
      },
      {
        "duration": 145,
        "start_time": "2024-07-10T22:39:49.070Z"
      },
      {
        "duration": 149,
        "start_time": "2024-07-10T22:47:49.485Z"
      },
      {
        "duration": 22,
        "start_time": "2024-07-11T22:43:58.772Z"
      },
      {
        "duration": 22,
        "start_time": "2024-07-11T22:45:44.179Z"
      },
      {
        "duration": 1364,
        "start_time": "2024-07-11T22:46:53.327Z"
      },
      {
        "duration": 1418,
        "start_time": "2024-07-11T22:47:27.445Z"
      },
      {
        "duration": 59,
        "start_time": "2024-07-11T22:47:28.867Z"
      },
      {
        "duration": 27,
        "start_time": "2024-07-11T22:47:28.928Z"
      },
      {
        "duration": 41,
        "start_time": "2024-07-11T22:47:28.960Z"
      },
      {
        "duration": 5,
        "start_time": "2024-07-11T22:47:29.006Z"
      },
      {
        "duration": 8,
        "start_time": "2024-07-11T22:47:29.014Z"
      },
      {
        "duration": 25,
        "start_time": "2024-07-11T22:47:29.024Z"
      },
      {
        "duration": 6,
        "start_time": "2024-07-11T22:47:29.053Z"
      },
      {
        "duration": 58,
        "start_time": "2024-07-11T22:47:29.062Z"
      },
      {
        "duration": 6,
        "start_time": "2024-07-11T22:47:29.124Z"
      },
      {
        "duration": 16,
        "start_time": "2024-07-11T22:47:29.133Z"
      },
      {
        "duration": 53,
        "start_time": "2024-07-11T22:47:29.152Z"
      },
      {
        "duration": 8,
        "start_time": "2024-07-11T22:47:29.209Z"
      },
      {
        "duration": 8,
        "start_time": "2024-07-11T22:47:29.225Z"
      },
      {
        "duration": 15,
        "start_time": "2024-07-11T22:47:29.237Z"
      },
      {
        "duration": 9421,
        "start_time": "2024-07-11T22:47:29.256Z"
      },
      {
        "duration": 22,
        "start_time": "2024-07-11T22:47:38.680Z"
      },
      {
        "duration": 10,
        "start_time": "2024-07-11T22:47:38.705Z"
      },
      {
        "duration": 19,
        "start_time": "2024-07-11T22:47:38.718Z"
      },
      {
        "duration": 16,
        "start_time": "2024-07-11T22:47:38.741Z"
      },
      {
        "duration": 54,
        "start_time": "2024-07-11T22:47:38.761Z"
      },
      {
        "duration": 21,
        "start_time": "2024-07-11T22:47:38.818Z"
      },
      {
        "duration": 23,
        "start_time": "2024-07-11T22:47:38.843Z"
      },
      {
        "duration": 49,
        "start_time": "2024-07-11T22:47:38.869Z"
      },
      {
        "duration": 561,
        "start_time": "2024-07-11T22:47:38.925Z"
      },
      {
        "duration": 27,
        "start_time": "2024-07-11T22:47:39.492Z"
      },
      {
        "duration": 4,
        "start_time": "2024-07-11T22:47:39.529Z"
      },
      {
        "duration": 15,
        "start_time": "2024-07-11T22:47:39.536Z"
      },
      {
        "duration": 50,
        "start_time": "2024-07-11T22:47:39.554Z"
      },
      {
        "duration": 21,
        "start_time": "2024-07-11T22:47:39.607Z"
      },
      {
        "duration": 17,
        "start_time": "2024-07-11T22:47:39.631Z"
      },
      {
        "duration": 6,
        "start_time": "2024-07-11T22:47:39.651Z"
      },
      {
        "duration": 102,
        "start_time": "2024-07-11T22:47:39.661Z"
      },
      {
        "duration": 16,
        "start_time": "2024-07-11T22:47:39.766Z"
      },
      {
        "duration": 166,
        "start_time": "2024-07-11T22:47:39.803Z"
      },
      {
        "duration": 31,
        "start_time": "2024-07-11T22:47:39.973Z"
      },
      {
        "duration": 47,
        "start_time": "2024-07-11T22:47:40.008Z"
      },
      {
        "duration": 8,
        "start_time": "2024-07-11T22:47:40.059Z"
      },
      {
        "duration": 318,
        "start_time": "2024-07-11T22:47:40.069Z"
      },
      {
        "duration": 16,
        "start_time": "2024-07-11T22:47:40.391Z"
      },
      {
        "duration": 14,
        "start_time": "2024-07-11T22:47:40.416Z"
      },
      {
        "duration": 18,
        "start_time": "2024-07-11T22:47:40.433Z"
      },
      {
        "duration": 61,
        "start_time": "2024-07-11T22:47:40.455Z"
      },
      {
        "duration": 223,
        "start_time": "2024-07-11T22:47:40.519Z"
      },
      {
        "duration": 232,
        "start_time": "2024-07-11T22:47:40.745Z"
      },
      {
        "duration": 252,
        "start_time": "2024-07-11T22:47:40.980Z"
      },
      {
        "duration": 393,
        "start_time": "2024-07-11T22:47:41.236Z"
      },
      {
        "duration": 169,
        "start_time": "2024-07-11T22:47:41.632Z"
      },
      {
        "duration": 167,
        "start_time": "2024-07-11T22:47:41.804Z"
      },
      {
        "duration": 163,
        "start_time": "2024-07-11T22:47:41.974Z"
      },
      {
        "duration": 189,
        "start_time": "2024-07-11T22:47:42.140Z"
      },
      {
        "duration": 235,
        "start_time": "2024-07-11T22:47:42.332Z"
      },
      {
        "duration": 203,
        "start_time": "2024-07-11T22:53:35.078Z"
      },
      {
        "duration": 15,
        "start_time": "2024-07-11T22:58:57.726Z"
      },
      {
        "duration": 499,
        "start_time": "2024-07-11T23:01:27.023Z"
      },
      {
        "duration": 40,
        "start_time": "2024-07-11T23:02:08.698Z"
      },
      {
        "duration": 42,
        "start_time": "2024-07-11T23:02:39.641Z"
      },
      {
        "duration": 20,
        "start_time": "2024-07-11T23:03:21.087Z"
      },
      {
        "duration": 30,
        "start_time": "2024-07-11T23:03:25.111Z"
      },
      {
        "duration": 7,
        "start_time": "2024-07-11T23:15:00.582Z"
      },
      {
        "duration": 12,
        "start_time": "2024-07-11T23:15:02.217Z"
      },
      {
        "duration": 11,
        "start_time": "2024-07-11T23:17:29.054Z"
      },
      {
        "duration": 12,
        "start_time": "2024-07-11T23:18:09.412Z"
      },
      {
        "duration": 13,
        "start_time": "2024-07-11T23:18:43.376Z"
      },
      {
        "duration": 15,
        "start_time": "2024-07-11T23:24:03.582Z"
      },
      {
        "duration": 1359,
        "start_time": "2024-07-12T17:32:34.490Z"
      },
      {
        "duration": 58,
        "start_time": "2024-07-12T17:32:35.852Z"
      },
      {
        "duration": 26,
        "start_time": "2024-07-12T17:32:35.913Z"
      },
      {
        "duration": 25,
        "start_time": "2024-07-12T17:32:35.949Z"
      },
      {
        "duration": 26,
        "start_time": "2024-07-12T17:32:35.978Z"
      },
      {
        "duration": 10,
        "start_time": "2024-07-12T17:32:36.008Z"
      },
      {
        "duration": 24,
        "start_time": "2024-07-12T17:32:36.021Z"
      },
      {
        "duration": 6,
        "start_time": "2024-07-12T17:32:36.048Z"
      },
      {
        "duration": 60,
        "start_time": "2024-07-12T17:32:36.057Z"
      },
      {
        "duration": 5,
        "start_time": "2024-07-12T17:32:36.123Z"
      },
      {
        "duration": 14,
        "start_time": "2024-07-12T17:32:36.131Z"
      },
      {
        "duration": 13,
        "start_time": "2024-07-12T17:32:36.147Z"
      },
      {
        "duration": 9,
        "start_time": "2024-07-12T17:32:36.204Z"
      },
      {
        "duration": 0,
        "start_time": "2024-07-12T17:32:36.219Z"
      },
      {
        "duration": 0,
        "start_time": "2024-07-12T17:32:36.222Z"
      },
      {
        "duration": 0,
        "start_time": "2024-07-12T17:32:36.225Z"
      },
      {
        "duration": 0,
        "start_time": "2024-07-12T17:32:36.227Z"
      },
      {
        "duration": 0,
        "start_time": "2024-07-12T17:32:36.229Z"
      },
      {
        "duration": 0,
        "start_time": "2024-07-12T17:32:36.231Z"
      },
      {
        "duration": 0,
        "start_time": "2024-07-12T17:32:36.233Z"
      },
      {
        "duration": 0,
        "start_time": "2024-07-12T17:32:36.235Z"
      },
      {
        "duration": 0,
        "start_time": "2024-07-12T17:32:36.238Z"
      },
      {
        "duration": 0,
        "start_time": "2024-07-12T17:32:36.240Z"
      },
      {
        "duration": 0,
        "start_time": "2024-07-12T17:32:36.242Z"
      },
      {
        "duration": 0,
        "start_time": "2024-07-12T17:32:36.244Z"
      },
      {
        "duration": 0,
        "start_time": "2024-07-12T17:32:36.245Z"
      },
      {
        "duration": 0,
        "start_time": "2024-07-12T17:32:36.247Z"
      },
      {
        "duration": 0,
        "start_time": "2024-07-12T17:32:36.249Z"
      },
      {
        "duration": 0,
        "start_time": "2024-07-12T17:32:36.303Z"
      },
      {
        "duration": 0,
        "start_time": "2024-07-12T17:32:36.308Z"
      },
      {
        "duration": 0,
        "start_time": "2024-07-12T17:32:36.315Z"
      },
      {
        "duration": 0,
        "start_time": "2024-07-12T17:32:36.318Z"
      },
      {
        "duration": 0,
        "start_time": "2024-07-12T17:32:36.320Z"
      },
      {
        "duration": 0,
        "start_time": "2024-07-12T17:32:36.321Z"
      },
      {
        "duration": 0,
        "start_time": "2024-07-12T17:32:36.323Z"
      },
      {
        "duration": 0,
        "start_time": "2024-07-12T17:32:36.325Z"
      },
      {
        "duration": 0,
        "start_time": "2024-07-12T17:32:36.327Z"
      },
      {
        "duration": 0,
        "start_time": "2024-07-12T17:32:36.329Z"
      },
      {
        "duration": 0,
        "start_time": "2024-07-12T17:32:36.331Z"
      },
      {
        "duration": 0,
        "start_time": "2024-07-12T17:32:36.333Z"
      },
      {
        "duration": 0,
        "start_time": "2024-07-12T17:32:36.334Z"
      },
      {
        "duration": 0,
        "start_time": "2024-07-12T17:32:36.335Z"
      },
      {
        "duration": 0,
        "start_time": "2024-07-12T17:32:36.337Z"
      },
      {
        "duration": 0,
        "start_time": "2024-07-12T17:32:36.338Z"
      },
      {
        "duration": 0,
        "start_time": "2024-07-12T17:32:36.341Z"
      },
      {
        "duration": 0,
        "start_time": "2024-07-12T17:32:36.343Z"
      },
      {
        "duration": 0,
        "start_time": "2024-07-12T17:32:36.344Z"
      },
      {
        "duration": 0,
        "start_time": "2024-07-12T17:32:36.347Z"
      },
      {
        "duration": 0,
        "start_time": "2024-07-12T17:32:36.402Z"
      },
      {
        "duration": 0,
        "start_time": "2024-07-12T17:32:36.404Z"
      },
      {
        "duration": 0,
        "start_time": "2024-07-12T17:32:36.406Z"
      },
      {
        "duration": 0,
        "start_time": "2024-07-12T17:32:36.407Z"
      },
      {
        "duration": 0,
        "start_time": "2024-07-12T17:32:36.409Z"
      },
      {
        "duration": 0,
        "start_time": "2024-07-12T17:32:36.411Z"
      },
      {
        "duration": 0,
        "start_time": "2024-07-12T17:32:36.413Z"
      },
      {
        "duration": 0,
        "start_time": "2024-07-12T17:32:36.414Z"
      },
      {
        "duration": 0,
        "start_time": "2024-07-12T17:32:36.416Z"
      },
      {
        "duration": 0,
        "start_time": "2024-07-12T17:32:36.418Z"
      },
      {
        "duration": 0,
        "start_time": "2024-07-12T17:32:36.420Z"
      },
      {
        "duration": 0,
        "start_time": "2024-07-12T17:32:36.421Z"
      },
      {
        "duration": 0,
        "start_time": "2024-07-12T17:32:36.423Z"
      },
      {
        "duration": 0,
        "start_time": "2024-07-12T17:32:36.425Z"
      },
      {
        "duration": 1373,
        "start_time": "2024-07-12T17:33:55.397Z"
      },
      {
        "duration": 51,
        "start_time": "2024-07-12T17:33:56.774Z"
      },
      {
        "duration": 24,
        "start_time": "2024-07-12T17:33:56.828Z"
      },
      {
        "duration": 20,
        "start_time": "2024-07-12T17:33:56.855Z"
      },
      {
        "duration": 5,
        "start_time": "2024-07-12T17:33:56.906Z"
      },
      {
        "duration": 6,
        "start_time": "2024-07-12T17:33:56.914Z"
      },
      {
        "duration": 26,
        "start_time": "2024-07-12T17:33:56.923Z"
      },
      {
        "duration": 6,
        "start_time": "2024-07-12T17:33:56.952Z"
      },
      {
        "duration": 21,
        "start_time": "2024-07-12T17:33:57.001Z"
      },
      {
        "duration": 6,
        "start_time": "2024-07-12T17:33:57.027Z"
      },
      {
        "duration": 13,
        "start_time": "2024-07-12T17:33:57.036Z"
      },
      {
        "duration": 56,
        "start_time": "2024-07-12T17:33:57.052Z"
      },
      {
        "duration": 6,
        "start_time": "2024-07-12T17:33:57.110Z"
      },
      {
        "duration": 0,
        "start_time": "2024-07-12T17:33:57.122Z"
      },
      {
        "duration": 0,
        "start_time": "2024-07-12T17:33:57.125Z"
      },
      {
        "duration": 0,
        "start_time": "2024-07-12T17:33:57.127Z"
      },
      {
        "duration": 0,
        "start_time": "2024-07-12T17:33:57.129Z"
      },
      {
        "duration": 0,
        "start_time": "2024-07-12T17:33:57.131Z"
      },
      {
        "duration": 0,
        "start_time": "2024-07-12T17:33:57.135Z"
      },
      {
        "duration": 0,
        "start_time": "2024-07-12T17:33:57.137Z"
      },
      {
        "duration": 0,
        "start_time": "2024-07-12T17:33:57.140Z"
      },
      {
        "duration": 0,
        "start_time": "2024-07-12T17:33:57.142Z"
      },
      {
        "duration": 0,
        "start_time": "2024-07-12T17:33:57.145Z"
      },
      {
        "duration": 0,
        "start_time": "2024-07-12T17:33:57.146Z"
      },
      {
        "duration": 0,
        "start_time": "2024-07-12T17:33:57.149Z"
      },
      {
        "duration": 0,
        "start_time": "2024-07-12T17:33:57.203Z"
      },
      {
        "duration": 0,
        "start_time": "2024-07-12T17:33:57.204Z"
      },
      {
        "duration": 0,
        "start_time": "2024-07-12T17:33:57.206Z"
      },
      {
        "duration": 0,
        "start_time": "2024-07-12T17:33:57.209Z"
      },
      {
        "duration": 0,
        "start_time": "2024-07-12T17:33:57.211Z"
      },
      {
        "duration": 0,
        "start_time": "2024-07-12T17:33:57.213Z"
      },
      {
        "duration": 0,
        "start_time": "2024-07-12T17:33:57.216Z"
      },
      {
        "duration": 0,
        "start_time": "2024-07-12T17:33:57.218Z"
      },
      {
        "duration": 0,
        "start_time": "2024-07-12T17:33:57.220Z"
      },
      {
        "duration": 0,
        "start_time": "2024-07-12T17:33:57.223Z"
      },
      {
        "duration": 0,
        "start_time": "2024-07-12T17:33:57.225Z"
      },
      {
        "duration": 0,
        "start_time": "2024-07-12T17:33:57.231Z"
      },
      {
        "duration": 0,
        "start_time": "2024-07-12T17:33:57.234Z"
      },
      {
        "duration": 0,
        "start_time": "2024-07-12T17:33:57.236Z"
      },
      {
        "duration": 0,
        "start_time": "2024-07-12T17:33:57.238Z"
      },
      {
        "duration": 0,
        "start_time": "2024-07-12T17:33:57.241Z"
      },
      {
        "duration": 0,
        "start_time": "2024-07-12T17:33:57.243Z"
      },
      {
        "duration": 0,
        "start_time": "2024-07-12T17:33:57.301Z"
      },
      {
        "duration": 0,
        "start_time": "2024-07-12T17:33:57.304Z"
      },
      {
        "duration": 0,
        "start_time": "2024-07-12T17:33:57.307Z"
      },
      {
        "duration": 0,
        "start_time": "2024-07-12T17:33:57.309Z"
      },
      {
        "duration": 0,
        "start_time": "2024-07-12T17:33:57.311Z"
      },
      {
        "duration": 0,
        "start_time": "2024-07-12T17:33:57.314Z"
      },
      {
        "duration": 0,
        "start_time": "2024-07-12T17:33:57.317Z"
      },
      {
        "duration": 0,
        "start_time": "2024-07-12T17:33:57.319Z"
      },
      {
        "duration": 0,
        "start_time": "2024-07-12T17:33:57.321Z"
      },
      {
        "duration": 0,
        "start_time": "2024-07-12T17:33:57.323Z"
      },
      {
        "duration": 0,
        "start_time": "2024-07-12T17:33:57.326Z"
      },
      {
        "duration": 0,
        "start_time": "2024-07-12T17:33:57.327Z"
      },
      {
        "duration": 0,
        "start_time": "2024-07-12T17:33:57.330Z"
      },
      {
        "duration": 0,
        "start_time": "2024-07-12T17:33:57.332Z"
      },
      {
        "duration": 0,
        "start_time": "2024-07-12T17:33:57.334Z"
      },
      {
        "duration": 0,
        "start_time": "2024-07-12T17:33:57.336Z"
      },
      {
        "duration": 0,
        "start_time": "2024-07-12T17:33:57.338Z"
      },
      {
        "duration": 0,
        "start_time": "2024-07-12T17:33:57.340Z"
      },
      {
        "duration": 1,
        "start_time": "2024-07-12T17:33:57.401Z"
      },
      {
        "duration": 0,
        "start_time": "2024-07-12T17:33:57.403Z"
      },
      {
        "duration": 1350,
        "start_time": "2024-07-12T17:34:51.720Z"
      },
      {
        "duration": 49,
        "start_time": "2024-07-12T17:34:53.074Z"
      },
      {
        "duration": 29,
        "start_time": "2024-07-12T17:34:53.127Z"
      },
      {
        "duration": 20,
        "start_time": "2024-07-12T17:34:53.161Z"
      },
      {
        "duration": 4,
        "start_time": "2024-07-12T17:34:53.203Z"
      },
      {
        "duration": 7,
        "start_time": "2024-07-12T17:34:53.210Z"
      },
      {
        "duration": 24,
        "start_time": "2024-07-12T17:34:53.220Z"
      },
      {
        "duration": 7,
        "start_time": "2024-07-12T17:34:53.247Z"
      },
      {
        "duration": 22,
        "start_time": "2024-07-12T17:34:53.302Z"
      },
      {
        "duration": 5,
        "start_time": "2024-07-12T17:34:53.331Z"
      },
      {
        "duration": 13,
        "start_time": "2024-07-12T17:34:53.339Z"
      },
      {
        "duration": 53,
        "start_time": "2024-07-12T17:34:53.355Z"
      },
      {
        "duration": 8,
        "start_time": "2024-07-12T17:34:53.410Z"
      },
      {
        "duration": 9,
        "start_time": "2024-07-12T17:34:53.421Z"
      },
      {
        "duration": 7,
        "start_time": "2024-07-12T17:34:53.433Z"
      },
      {
        "duration": 5626,
        "start_time": "2024-07-12T17:34:53.443Z"
      },
      {
        "duration": 6,
        "start_time": "2024-07-12T17:34:59.072Z"
      },
      {
        "duration": 28,
        "start_time": "2024-07-12T17:34:59.081Z"
      },
      {
        "duration": 19,
        "start_time": "2024-07-12T17:34:59.112Z"
      },
      {
        "duration": 16,
        "start_time": "2024-07-12T17:34:59.134Z"
      },
      {
        "duration": 54,
        "start_time": "2024-07-12T17:34:59.153Z"
      },
      {
        "duration": 28,
        "start_time": "2024-07-12T17:34:59.210Z"
      },
      {
        "duration": 25,
        "start_time": "2024-07-12T17:34:59.241Z"
      },
      {
        "duration": 48,
        "start_time": "2024-07-12T17:34:59.270Z"
      },
      {
        "duration": 551,
        "start_time": "2024-07-12T17:34:59.321Z"
      },
      {
        "duration": 30,
        "start_time": "2024-07-12T17:34:59.875Z"
      },
      {
        "duration": 3,
        "start_time": "2024-07-12T17:34:59.908Z"
      },
      {
        "duration": 14,
        "start_time": "2024-07-12T17:34:59.921Z"
      },
      {
        "duration": 23,
        "start_time": "2024-07-12T17:34:59.938Z"
      },
      {
        "duration": 18,
        "start_time": "2024-07-12T17:35:00.002Z"
      },
      {
        "duration": 16,
        "start_time": "2024-07-12T17:35:00.023Z"
      },
      {
        "duration": 5,
        "start_time": "2024-07-12T17:35:00.042Z"
      },
      {
        "duration": 6,
        "start_time": "2024-07-12T17:35:00.050Z"
      },
      {
        "duration": 55,
        "start_time": "2024-07-12T17:35:00.059Z"
      },
      {
        "duration": 170,
        "start_time": "2024-07-12T17:35:00.116Z"
      },
      {
        "duration": 25,
        "start_time": "2024-07-12T17:35:00.289Z"
      },
      {
        "duration": 39,
        "start_time": "2024-07-12T17:35:00.319Z"
      },
      {
        "duration": 7,
        "start_time": "2024-07-12T17:35:00.361Z"
      },
      {
        "duration": 290,
        "start_time": "2024-07-12T17:35:00.402Z"
      },
      {
        "duration": 13,
        "start_time": "2024-07-12T17:35:00.695Z"
      },
      {
        "duration": 15,
        "start_time": "2024-07-12T17:35:00.711Z"
      },
      {
        "duration": 15,
        "start_time": "2024-07-12T17:35:00.730Z"
      },
      {
        "duration": 61,
        "start_time": "2024-07-12T17:35:00.748Z"
      },
      {
        "duration": 231,
        "start_time": "2024-07-12T17:35:00.812Z"
      },
      {
        "duration": 218,
        "start_time": "2024-07-12T17:35:01.046Z"
      },
      {
        "duration": 229,
        "start_time": "2024-07-12T17:35:01.267Z"
      },
      {
        "duration": 389,
        "start_time": "2024-07-12T17:35:01.503Z"
      },
      {
        "duration": 171,
        "start_time": "2024-07-12T17:35:01.903Z"
      },
      {
        "duration": 164,
        "start_time": "2024-07-12T17:35:02.076Z"
      },
      {
        "duration": 173,
        "start_time": "2024-07-12T17:35:02.243Z"
      },
      {
        "duration": 169,
        "start_time": "2024-07-12T17:35:02.419Z"
      },
      {
        "duration": 236,
        "start_time": "2024-07-12T17:35:02.591Z"
      },
      {
        "duration": 225,
        "start_time": "2024-07-12T17:35:02.830Z"
      },
      {
        "duration": 12,
        "start_time": "2024-07-12T17:35:03.059Z"
      },
      {
        "duration": 43,
        "start_time": "2024-07-12T17:35:03.074Z"
      },
      {
        "duration": 30,
        "start_time": "2024-07-12T17:35:03.120Z"
      },
      {
        "duration": 57,
        "start_time": "2024-07-12T17:35:03.153Z"
      },
      {
        "duration": 6,
        "start_time": "2024-07-12T17:35:03.213Z"
      },
      {
        "duration": 11,
        "start_time": "2024-07-12T17:35:03.223Z"
      },
      {
        "duration": 13,
        "start_time": "2024-07-12T17:35:03.238Z"
      },
      {
        "duration": 51,
        "start_time": "2024-07-12T17:35:03.257Z"
      },
      {
        "duration": 15,
        "start_time": "2024-07-12T17:35:03.311Z"
      },
      {
        "duration": 5565,
        "start_time": "2024-07-12T17:35:48.888Z"
      },
      {
        "duration": 1332,
        "start_time": "2024-07-12T17:41:06.181Z"
      },
      {
        "duration": 39,
        "start_time": "2024-07-12T17:41:07.517Z"
      },
      {
        "duration": 43,
        "start_time": "2024-07-12T17:41:07.558Z"
      },
      {
        "duration": 18,
        "start_time": "2024-07-12T17:41:07.605Z"
      },
      {
        "duration": 4,
        "start_time": "2024-07-12T17:41:07.626Z"
      },
      {
        "duration": 6,
        "start_time": "2024-07-12T17:41:07.633Z"
      },
      {
        "duration": 65,
        "start_time": "2024-07-12T17:41:07.642Z"
      },
      {
        "duration": 6,
        "start_time": "2024-07-12T17:41:07.710Z"
      },
      {
        "duration": 19,
        "start_time": "2024-07-12T17:41:07.719Z"
      },
      {
        "duration": 6,
        "start_time": "2024-07-12T17:41:07.743Z"
      },
      {
        "duration": 49,
        "start_time": "2024-07-12T17:41:07.753Z"
      },
      {
        "duration": 12,
        "start_time": "2024-07-12T17:41:07.806Z"
      },
      {
        "duration": 7,
        "start_time": "2024-07-12T17:41:07.821Z"
      },
      {
        "duration": 7,
        "start_time": "2024-07-12T17:41:07.832Z"
      },
      {
        "duration": 7,
        "start_time": "2024-07-12T17:41:07.842Z"
      },
      {
        "duration": 9453,
        "start_time": "2024-07-12T17:41:07.852Z"
      },
      {
        "duration": 7,
        "start_time": "2024-07-12T17:41:17.307Z"
      },
      {
        "duration": 11,
        "start_time": "2024-07-12T17:41:17.317Z"
      },
      {
        "duration": 18,
        "start_time": "2024-07-12T17:41:17.331Z"
      },
      {
        "duration": 55,
        "start_time": "2024-07-12T17:41:17.352Z"
      },
      {
        "duration": 16,
        "start_time": "2024-07-12T17:41:17.410Z"
      },
      {
        "duration": 23,
        "start_time": "2024-07-12T17:41:17.429Z"
      },
      {
        "duration": 56,
        "start_time": "2024-07-12T17:41:17.454Z"
      },
      {
        "duration": 17,
        "start_time": "2024-07-12T17:41:17.513Z"
      },
      {
        "duration": 550,
        "start_time": "2024-07-12T17:41:17.533Z"
      },
      {
        "duration": 25,
        "start_time": "2024-07-12T17:41:18.088Z"
      },
      {
        "duration": 4,
        "start_time": "2024-07-12T17:41:18.116Z"
      },
      {
        "duration": 14,
        "start_time": "2024-07-12T17:41:18.128Z"
      },
      {
        "duration": 53,
        "start_time": "2024-07-12T17:41:18.150Z"
      },
      {
        "duration": 96,
        "start_time": "2024-07-12T17:41:18.206Z"
      },
      {
        "duration": 15,
        "start_time": "2024-07-12T17:41:18.305Z"
      },
      {
        "duration": 6,
        "start_time": "2024-07-12T17:41:18.323Z"
      },
      {
        "duration": 6,
        "start_time": "2024-07-12T17:41:18.332Z"
      },
      {
        "duration": 15,
        "start_time": "2024-07-12T17:41:18.340Z"
      },
      {
        "duration": 154,
        "start_time": "2024-07-12T17:41:18.401Z"
      },
      {
        "duration": 13,
        "start_time": "2024-07-12T17:41:18.558Z"
      },
      {
        "duration": 56,
        "start_time": "2024-07-12T17:41:18.574Z"
      },
      {
        "duration": 7,
        "start_time": "2024-07-12T17:41:18.633Z"
      },
      {
        "duration": 325,
        "start_time": "2024-07-12T17:41:18.644Z"
      },
      {
        "duration": 8,
        "start_time": "2024-07-12T17:41:18.972Z"
      },
      {
        "duration": 31,
        "start_time": "2024-07-12T17:41:18.983Z"
      },
      {
        "duration": 15,
        "start_time": "2024-07-12T17:41:19.017Z"
      },
      {
        "duration": 21,
        "start_time": "2024-07-12T17:41:19.035Z"
      },
      {
        "duration": 258,
        "start_time": "2024-07-12T17:41:19.059Z"
      },
      {
        "duration": 214,
        "start_time": "2024-07-12T17:41:19.320Z"
      },
      {
        "duration": 243,
        "start_time": "2024-07-12T17:41:19.537Z"
      },
      {
        "duration": 409,
        "start_time": "2024-07-12T17:41:19.783Z"
      },
      {
        "duration": 158,
        "start_time": "2024-07-12T17:41:20.195Z"
      },
      {
        "duration": 169,
        "start_time": "2024-07-12T17:41:20.356Z"
      },
      {
        "duration": 157,
        "start_time": "2024-07-12T17:41:20.528Z"
      },
      {
        "duration": 158,
        "start_time": "2024-07-12T17:41:20.701Z"
      },
      {
        "duration": 242,
        "start_time": "2024-07-12T17:41:20.861Z"
      },
      {
        "duration": 214,
        "start_time": "2024-07-12T17:41:21.106Z"
      },
      {
        "duration": 11,
        "start_time": "2024-07-12T17:41:21.323Z"
      },
      {
        "duration": 19,
        "start_time": "2024-07-12T17:41:21.337Z"
      },
      {
        "duration": 64,
        "start_time": "2024-07-12T17:41:21.358Z"
      },
      {
        "duration": 31,
        "start_time": "2024-07-12T17:41:21.426Z"
      },
      {
        "duration": 6,
        "start_time": "2024-07-12T17:41:21.460Z"
      },
      {
        "duration": 11,
        "start_time": "2024-07-12T17:41:21.501Z"
      },
      {
        "duration": 12,
        "start_time": "2024-07-12T17:41:21.515Z"
      },
      {
        "duration": 11,
        "start_time": "2024-07-12T17:41:21.530Z"
      },
      {
        "duration": 12,
        "start_time": "2024-07-12T17:41:21.544Z"
      },
      {
        "duration": 7,
        "start_time": "2024-07-12T18:19:27.857Z"
      },
      {
        "duration": 6,
        "start_time": "2024-07-12T18:19:53.098Z"
      },
      {
        "duration": 22,
        "start_time": "2024-07-12T19:03:56.668Z"
      },
      {
        "duration": 300,
        "start_time": "2024-07-13T19:11:37.826Z"
      },
      {
        "duration": 4111,
        "start_time": "2024-07-13T19:12:06.280Z"
      },
      {
        "duration": 4099,
        "start_time": "2024-07-13T19:13:06.278Z"
      },
      {
        "duration": 4075,
        "start_time": "2024-07-13T19:13:24.966Z"
      },
      {
        "duration": 7,
        "start_time": "2024-07-13T19:17:07.541Z"
      },
      {
        "duration": 7,
        "start_time": "2024-07-13T19:17:22.190Z"
      },
      {
        "duration": 4101,
        "start_time": "2024-07-13T19:17:37.010Z"
      },
      {
        "duration": 4077,
        "start_time": "2024-07-13T19:17:44.377Z"
      },
      {
        "duration": 4187,
        "start_time": "2024-07-13T19:18:04.410Z"
      },
      {
        "duration": 3990,
        "start_time": "2024-07-13T19:19:41.019Z"
      },
      {
        "duration": 4220,
        "start_time": "2024-07-13T19:22:39.181Z"
      },
      {
        "duration": 683,
        "start_time": "2024-07-13T19:25:18.133Z"
      },
      {
        "duration": 9613,
        "start_time": "2024-07-13T19:27:30.334Z"
      },
      {
        "duration": 1354,
        "start_time": "2024-07-13T19:28:13.526Z"
      },
      {
        "duration": 41,
        "start_time": "2024-07-13T19:28:14.883Z"
      },
      {
        "duration": 26,
        "start_time": "2024-07-13T19:28:14.927Z"
      },
      {
        "duration": 19,
        "start_time": "2024-07-13T19:28:14.957Z"
      },
      {
        "duration": 25,
        "start_time": "2024-07-13T19:28:14.979Z"
      },
      {
        "duration": 7,
        "start_time": "2024-07-13T19:28:15.008Z"
      },
      {
        "duration": 25,
        "start_time": "2024-07-13T19:28:15.018Z"
      },
      {
        "duration": 6,
        "start_time": "2024-07-13T19:28:15.046Z"
      },
      {
        "duration": 61,
        "start_time": "2024-07-13T19:28:15.055Z"
      },
      {
        "duration": 5,
        "start_time": "2024-07-13T19:28:15.121Z"
      },
      {
        "duration": 13,
        "start_time": "2024-07-13T19:28:15.129Z"
      },
      {
        "duration": 16,
        "start_time": "2024-07-13T19:28:15.144Z"
      },
      {
        "duration": 44,
        "start_time": "2024-07-13T19:28:15.163Z"
      },
      {
        "duration": 7,
        "start_time": "2024-07-13T19:28:15.210Z"
      },
      {
        "duration": 9305,
        "start_time": "2024-07-13T19:28:15.220Z"
      },
      {
        "duration": 7,
        "start_time": "2024-07-13T19:28:24.527Z"
      },
      {
        "duration": 8,
        "start_time": "2024-07-13T19:28:24.537Z"
      },
      {
        "duration": 12,
        "start_time": "2024-07-13T19:28:24.549Z"
      },
      {
        "duration": 53,
        "start_time": "2024-07-13T19:28:24.564Z"
      },
      {
        "duration": 18,
        "start_time": "2024-07-13T19:28:24.621Z"
      },
      {
        "duration": 22,
        "start_time": "2024-07-13T19:28:24.643Z"
      },
      {
        "duration": 63,
        "start_time": "2024-07-13T19:28:24.668Z"
      },
      {
        "duration": 26,
        "start_time": "2024-07-13T19:28:24.735Z"
      },
      {
        "duration": 51,
        "start_time": "2024-07-13T19:28:24.765Z"
      },
      {
        "duration": 662,
        "start_time": "2024-07-13T19:28:24.819Z"
      },
      {
        "duration": 34,
        "start_time": "2024-07-13T19:28:25.485Z"
      },
      {
        "duration": 4,
        "start_time": "2024-07-13T19:28:25.523Z"
      },
      {
        "duration": 18,
        "start_time": "2024-07-13T19:28:25.538Z"
      },
      {
        "duration": 65,
        "start_time": "2024-07-13T19:28:25.559Z"
      },
      {
        "duration": 105,
        "start_time": "2024-07-13T19:28:25.631Z"
      },
      {
        "duration": 16,
        "start_time": "2024-07-13T19:28:25.739Z"
      },
      {
        "duration": 6,
        "start_time": "2024-07-13T19:28:25.757Z"
      },
      {
        "duration": 5,
        "start_time": "2024-07-13T19:28:25.766Z"
      },
      {
        "duration": 14,
        "start_time": "2024-07-13T19:28:25.803Z"
      },
      {
        "duration": 200,
        "start_time": "2024-07-13T19:28:25.820Z"
      },
      {
        "duration": 18,
        "start_time": "2024-07-13T19:28:26.023Z"
      },
      {
        "duration": 69,
        "start_time": "2024-07-13T19:28:26.045Z"
      },
      {
        "duration": 9,
        "start_time": "2024-07-13T19:28:26.117Z"
      },
      {
        "duration": 357,
        "start_time": "2024-07-13T19:28:26.130Z"
      },
      {
        "duration": 20,
        "start_time": "2024-07-13T19:28:26.490Z"
      },
      {
        "duration": 15,
        "start_time": "2024-07-13T19:28:26.513Z"
      },
      {
        "duration": 14,
        "start_time": "2024-07-13T19:28:26.531Z"
      },
      {
        "duration": 65,
        "start_time": "2024-07-13T19:28:26.548Z"
      },
      {
        "duration": 234,
        "start_time": "2024-07-13T19:28:26.618Z"
      },
      {
        "duration": 254,
        "start_time": "2024-07-13T19:28:26.855Z"
      },
      {
        "duration": 249,
        "start_time": "2024-07-13T19:28:27.112Z"
      },
      {
        "duration": 422,
        "start_time": "2024-07-13T19:28:27.365Z"
      },
      {
        "duration": 189,
        "start_time": "2024-07-13T19:28:27.790Z"
      },
      {
        "duration": 186,
        "start_time": "2024-07-13T19:28:27.982Z"
      },
      {
        "duration": 182,
        "start_time": "2024-07-13T19:28:28.175Z"
      },
      {
        "duration": 184,
        "start_time": "2024-07-13T19:28:28.360Z"
      },
      {
        "duration": 247,
        "start_time": "2024-07-13T19:28:28.548Z"
      },
      {
        "duration": 260,
        "start_time": "2024-07-13T19:28:28.801Z"
      },
      {
        "duration": 17,
        "start_time": "2024-07-13T19:28:29.065Z"
      },
      {
        "duration": 27,
        "start_time": "2024-07-13T19:28:29.103Z"
      },
      {
        "duration": 41,
        "start_time": "2024-07-13T19:28:29.133Z"
      },
      {
        "duration": 41,
        "start_time": "2024-07-13T19:28:29.201Z"
      },
      {
        "duration": 9,
        "start_time": "2024-07-13T19:28:29.246Z"
      },
      {
        "duration": 14,
        "start_time": "2024-07-13T19:28:29.258Z"
      },
      {
        "duration": 37,
        "start_time": "2024-07-13T19:28:29.276Z"
      },
      {
        "duration": 14,
        "start_time": "2024-07-13T19:28:29.316Z"
      },
      {
        "duration": 16,
        "start_time": "2024-07-13T19:28:29.333Z"
      },
      {
        "duration": 316,
        "start_time": "2024-07-13T19:32:12.763Z"
      },
      {
        "duration": 33676,
        "start_time": "2024-07-13T19:40:50.424Z"
      },
      {
        "duration": 217,
        "start_time": "2024-07-13T19:45:03.792Z"
      },
      {
        "duration": 260,
        "start_time": "2024-07-13T19:47:09.690Z"
      },
      {
        "duration": 39,
        "start_time": "2024-07-13T19:47:21.856Z"
      },
      {
        "duration": 15,
        "start_time": "2024-07-13T19:54:12.434Z"
      },
      {
        "duration": 14,
        "start_time": "2024-07-13T19:59:58.912Z"
      },
      {
        "duration": 15,
        "start_time": "2024-07-13T20:02:54.348Z"
      },
      {
        "duration": 85014,
        "start_time": "2024-07-13T20:02:57.392Z"
      },
      {
        "duration": 19,
        "start_time": "2024-07-13T20:27:09.763Z"
      },
      {
        "duration": 39,
        "start_time": "2024-07-13T20:27:36.828Z"
      },
      {
        "duration": 23,
        "start_time": "2024-07-13T20:27:46.920Z"
      },
      {
        "duration": 21,
        "start_time": "2024-07-13T20:44:49.680Z"
      },
      {
        "duration": 20,
        "start_time": "2024-07-13T20:46:19.946Z"
      },
      {
        "duration": 20,
        "start_time": "2024-07-13T20:49:57.610Z"
      },
      {
        "duration": 5,
        "start_time": "2024-07-13T20:52:33.174Z"
      },
      {
        "duration": 144,
        "start_time": "2024-07-13T20:55:40.248Z"
      },
      {
        "duration": 15,
        "start_time": "2024-07-13T21:04:05.666Z"
      },
      {
        "duration": 16,
        "start_time": "2024-07-13T21:04:25.973Z"
      },
      {
        "duration": 18,
        "start_time": "2024-07-13T21:06:25.590Z"
      },
      {
        "duration": 19,
        "start_time": "2024-07-13T21:07:34.184Z"
      },
      {
        "duration": 40,
        "start_time": "2024-07-13T21:09:38.102Z"
      },
      {
        "duration": 281,
        "start_time": "2024-07-13T21:20:34.034Z"
      },
      {
        "duration": 258,
        "start_time": "2024-07-13T21:25:41.774Z"
      },
      {
        "duration": 261,
        "start_time": "2024-07-13T21:26:32.409Z"
      },
      {
        "duration": 1224,
        "start_time": "2024-07-13T21:27:08.738Z"
      },
      {
        "duration": 258,
        "start_time": "2024-07-13T21:45:44.538Z"
      },
      {
        "duration": 19,
        "start_time": "2024-07-13T21:52:11.886Z"
      },
      {
        "duration": 15,
        "start_time": "2024-07-13T21:52:43.526Z"
      },
      {
        "duration": 208,
        "start_time": "2024-07-13T21:53:40.683Z"
      },
      {
        "duration": 257,
        "start_time": "2024-07-13T21:54:38.314Z"
      },
      {
        "duration": 26,
        "start_time": "2024-07-13T22:20:43.011Z"
      },
      {
        "duration": 31,
        "start_time": "2024-07-13T22:27:27.581Z"
      },
      {
        "duration": 23,
        "start_time": "2024-07-13T22:28:41.680Z"
      },
      {
        "duration": 20,
        "start_time": "2024-07-13T22:28:43.897Z"
      },
      {
        "duration": 31,
        "start_time": "2024-07-13T22:35:31.898Z"
      },
      {
        "duration": 30,
        "start_time": "2024-07-13T22:38:19.138Z"
      },
      {
        "duration": 34,
        "start_time": "2024-07-13T22:42:30.417Z"
      },
      {
        "duration": 349,
        "start_time": "2024-07-15T21:47:45.307Z"
      },
      {
        "duration": 32,
        "start_time": "2024-07-15T21:49:21.382Z"
      },
      {
        "duration": 27,
        "start_time": "2024-07-15T22:45:16.366Z"
      },
      {
        "duration": 5479,
        "start_time": "2024-07-15T22:46:00.651Z"
      },
      {
        "duration": 65,
        "start_time": "2024-07-15T22:46:06.134Z"
      },
      {
        "duration": 25,
        "start_time": "2024-07-15T22:46:06.201Z"
      },
      {
        "duration": 20,
        "start_time": "2024-07-15T22:46:06.231Z"
      },
      {
        "duration": 8,
        "start_time": "2024-07-15T22:46:06.255Z"
      },
      {
        "duration": 6,
        "start_time": "2024-07-15T22:46:06.266Z"
      },
      {
        "duration": 65,
        "start_time": "2024-07-15T22:46:06.275Z"
      },
      {
        "duration": 6,
        "start_time": "2024-07-15T22:46:06.345Z"
      },
      {
        "duration": 22,
        "start_time": "2024-07-15T22:46:06.355Z"
      },
      {
        "duration": 10,
        "start_time": "2024-07-15T22:46:06.380Z"
      },
      {
        "duration": 48,
        "start_time": "2024-07-15T22:46:06.392Z"
      },
      {
        "duration": 19,
        "start_time": "2024-07-15T22:46:06.443Z"
      },
      {
        "duration": 9,
        "start_time": "2024-07-15T22:46:06.465Z"
      },
      {
        "duration": 6,
        "start_time": "2024-07-15T22:46:06.483Z"
      },
      {
        "duration": 9314,
        "start_time": "2024-07-15T22:46:06.492Z"
      },
      {
        "duration": 20,
        "start_time": "2024-07-15T22:46:15.810Z"
      },
      {
        "duration": 6,
        "start_time": "2024-07-15T22:46:15.834Z"
      },
      {
        "duration": 11,
        "start_time": "2024-07-15T22:46:15.843Z"
      },
      {
        "duration": 19,
        "start_time": "2024-07-15T22:46:15.857Z"
      },
      {
        "duration": 54,
        "start_time": "2024-07-15T22:46:15.878Z"
      },
      {
        "duration": 16,
        "start_time": "2024-07-15T22:46:15.935Z"
      },
      {
        "duration": 22,
        "start_time": "2024-07-15T22:46:15.955Z"
      },
      {
        "duration": 56,
        "start_time": "2024-07-15T22:46:15.980Z"
      },
      {
        "duration": 20,
        "start_time": "2024-07-15T22:46:16.039Z"
      },
      {
        "duration": 558,
        "start_time": "2024-07-15T22:46:16.063Z"
      },
      {
        "duration": 334,
        "start_time": "2024-07-15T22:46:16.631Z"
      },
      {
        "duration": 19,
        "start_time": "2024-07-15T22:46:16.967Z"
      },
      {
        "duration": 19,
        "start_time": "2024-07-15T22:46:52.389Z"
      },
      {
        "duration": 45,
        "start_time": "2024-07-15T22:46:52.410Z"
      },
      {
        "duration": 21,
        "start_time": "2024-07-15T22:46:52.458Z"
      },
      {
        "duration": 47,
        "start_time": "2024-07-15T22:46:52.482Z"
      },
      {
        "duration": 6,
        "start_time": "2024-07-15T22:46:52.532Z"
      },
      {
        "duration": 5,
        "start_time": "2024-07-15T22:46:52.544Z"
      },
      {
        "duration": 17,
        "start_time": "2024-07-15T22:46:52.553Z"
      },
      {
        "duration": 7,
        "start_time": "2024-07-15T22:46:52.573Z"
      },
      {
        "duration": 0,
        "start_time": "2024-07-15T22:46:52.588Z"
      },
      {
        "duration": 0,
        "start_time": "2024-07-15T22:46:52.631Z"
      },
      {
        "duration": 0,
        "start_time": "2024-07-15T22:46:52.632Z"
      },
      {
        "duration": 0,
        "start_time": "2024-07-15T22:46:52.635Z"
      },
      {
        "duration": 0,
        "start_time": "2024-07-15T22:46:52.637Z"
      },
      {
        "duration": 0,
        "start_time": "2024-07-15T22:46:52.639Z"
      },
      {
        "duration": 0,
        "start_time": "2024-07-15T22:46:52.641Z"
      },
      {
        "duration": 0,
        "start_time": "2024-07-15T22:46:52.643Z"
      },
      {
        "duration": 0,
        "start_time": "2024-07-15T22:46:52.645Z"
      },
      {
        "duration": 0,
        "start_time": "2024-07-15T22:46:52.647Z"
      },
      {
        "duration": 0,
        "start_time": "2024-07-15T22:46:52.650Z"
      },
      {
        "duration": 0,
        "start_time": "2024-07-15T22:46:52.653Z"
      },
      {
        "duration": 0,
        "start_time": "2024-07-15T22:46:52.655Z"
      },
      {
        "duration": 0,
        "start_time": "2024-07-15T22:46:52.657Z"
      },
      {
        "duration": 0,
        "start_time": "2024-07-15T22:46:52.659Z"
      },
      {
        "duration": 0,
        "start_time": "2024-07-15T22:46:52.661Z"
      },
      {
        "duration": 1,
        "start_time": "2024-07-15T22:46:52.662Z"
      },
      {
        "duration": 0,
        "start_time": "2024-07-15T22:46:52.665Z"
      },
      {
        "duration": 0,
        "start_time": "2024-07-15T22:46:52.667Z"
      },
      {
        "duration": 0,
        "start_time": "2024-07-15T22:46:52.669Z"
      },
      {
        "duration": 0,
        "start_time": "2024-07-15T22:46:52.671Z"
      },
      {
        "duration": 0,
        "start_time": "2024-07-15T22:46:52.672Z"
      },
      {
        "duration": 0,
        "start_time": "2024-07-15T22:46:52.674Z"
      },
      {
        "duration": 0,
        "start_time": "2024-07-15T22:46:52.676Z"
      },
      {
        "duration": 0,
        "start_time": "2024-07-15T22:46:52.677Z"
      },
      {
        "duration": 0,
        "start_time": "2024-07-15T22:46:52.735Z"
      },
      {
        "duration": 0,
        "start_time": "2024-07-15T22:46:52.737Z"
      },
      {
        "duration": 1,
        "start_time": "2024-07-15T22:46:52.738Z"
      },
      {
        "duration": 0,
        "start_time": "2024-07-15T22:46:52.740Z"
      },
      {
        "duration": 0,
        "start_time": "2024-07-15T22:46:52.744Z"
      },
      {
        "duration": 0,
        "start_time": "2024-07-15T22:46:52.745Z"
      },
      {
        "duration": 0,
        "start_time": "2024-07-15T22:46:52.747Z"
      },
      {
        "duration": 0,
        "start_time": "2024-07-15T22:46:52.749Z"
      },
      {
        "duration": 0,
        "start_time": "2024-07-15T22:46:52.752Z"
      },
      {
        "duration": 0,
        "start_time": "2024-07-15T22:46:52.755Z"
      },
      {
        "duration": 0,
        "start_time": "2024-07-15T22:46:52.757Z"
      },
      {
        "duration": 0,
        "start_time": "2024-07-15T22:46:52.760Z"
      },
      {
        "duration": 1626,
        "start_time": "2024-07-15T22:47:13.027Z"
      },
      {
        "duration": 58,
        "start_time": "2024-07-15T22:47:14.657Z"
      },
      {
        "duration": 33,
        "start_time": "2024-07-15T22:47:14.724Z"
      },
      {
        "duration": 21,
        "start_time": "2024-07-15T22:47:14.762Z"
      },
      {
        "duration": 9,
        "start_time": "2024-07-15T22:47:14.788Z"
      },
      {
        "duration": 31,
        "start_time": "2024-07-15T22:47:14.801Z"
      },
      {
        "duration": 37,
        "start_time": "2024-07-15T22:47:14.835Z"
      },
      {
        "duration": 10,
        "start_time": "2024-07-15T22:47:14.875Z"
      },
      {
        "duration": 45,
        "start_time": "2024-07-15T22:47:14.889Z"
      },
      {
        "duration": 7,
        "start_time": "2024-07-15T22:47:14.941Z"
      },
      {
        "duration": 14,
        "start_time": "2024-07-15T22:47:14.952Z"
      },
      {
        "duration": 14,
        "start_time": "2024-07-15T22:47:14.969Z"
      },
      {
        "duration": 47,
        "start_time": "2024-07-15T22:47:14.986Z"
      },
      {
        "duration": 6,
        "start_time": "2024-07-15T22:47:15.037Z"
      },
      {
        "duration": 9869,
        "start_time": "2024-07-15T22:47:15.046Z"
      },
      {
        "duration": 5,
        "start_time": "2024-07-15T22:47:24.929Z"
      },
      {
        "duration": 7,
        "start_time": "2024-07-15T22:47:24.937Z"
      },
      {
        "duration": 12,
        "start_time": "2024-07-15T22:47:24.948Z"
      },
      {
        "duration": 17,
        "start_time": "2024-07-15T22:47:24.963Z"
      },
      {
        "duration": 54,
        "start_time": "2024-07-15T22:47:24.983Z"
      },
      {
        "duration": 18,
        "start_time": "2024-07-15T22:47:25.041Z"
      },
      {
        "duration": 21,
        "start_time": "2024-07-15T22:47:25.062Z"
      },
      {
        "duration": 55,
        "start_time": "2024-07-15T22:47:25.087Z"
      },
      {
        "duration": 18,
        "start_time": "2024-07-15T22:47:25.146Z"
      },
      {
        "duration": 638,
        "start_time": "2024-07-15T22:47:25.170Z"
      },
      {
        "duration": 385,
        "start_time": "2024-07-15T22:47:25.812Z"
      },
      {
        "duration": 30,
        "start_time": "2024-07-15T22:47:26.200Z"
      },
      {
        "duration": 33282,
        "start_time": "2024-07-15T22:47:26.242Z"
      },
      {
        "duration": 20,
        "start_time": "2024-07-15T22:47:59.527Z"
      },
      {
        "duration": 22,
        "start_time": "2024-07-15T22:47:59.551Z"
      },
      {
        "duration": 56,
        "start_time": "2024-07-15T22:47:59.576Z"
      },
      {
        "duration": 21,
        "start_time": "2024-07-15T22:47:59.635Z"
      },
      {
        "duration": 6,
        "start_time": "2024-07-15T22:47:59.661Z"
      },
      {
        "duration": 6,
        "start_time": "2024-07-15T22:47:59.671Z"
      },
      {
        "duration": 51,
        "start_time": "2024-07-15T22:47:59.680Z"
      },
      {
        "duration": 5,
        "start_time": "2024-07-15T22:47:59.734Z"
      },
      {
        "duration": 0,
        "start_time": "2024-07-15T22:47:59.742Z"
      },
      {
        "duration": 0,
        "start_time": "2024-07-15T22:47:59.744Z"
      },
      {
        "duration": 0,
        "start_time": "2024-07-15T22:47:59.746Z"
      },
      {
        "duration": 0,
        "start_time": "2024-07-15T22:47:59.748Z"
      },
      {
        "duration": 0,
        "start_time": "2024-07-15T22:47:59.751Z"
      },
      {
        "duration": 0,
        "start_time": "2024-07-15T22:47:59.753Z"
      },
      {
        "duration": 0,
        "start_time": "2024-07-15T22:47:59.755Z"
      },
      {
        "duration": 0,
        "start_time": "2024-07-15T22:47:59.758Z"
      },
      {
        "duration": 0,
        "start_time": "2024-07-15T22:47:59.760Z"
      },
      {
        "duration": 0,
        "start_time": "2024-07-15T22:47:59.762Z"
      },
      {
        "duration": 0,
        "start_time": "2024-07-15T22:47:59.764Z"
      },
      {
        "duration": 0,
        "start_time": "2024-07-15T22:47:59.768Z"
      },
      {
        "duration": 0,
        "start_time": "2024-07-15T22:47:59.770Z"
      },
      {
        "duration": 0,
        "start_time": "2024-07-15T22:47:59.774Z"
      },
      {
        "duration": 0,
        "start_time": "2024-07-15T22:47:59.832Z"
      },
      {
        "duration": 0,
        "start_time": "2024-07-15T22:47:59.834Z"
      },
      {
        "duration": 0,
        "start_time": "2024-07-15T22:47:59.837Z"
      },
      {
        "duration": 0,
        "start_time": "2024-07-15T22:47:59.839Z"
      },
      {
        "duration": 0,
        "start_time": "2024-07-15T22:47:59.843Z"
      },
      {
        "duration": 0,
        "start_time": "2024-07-15T22:47:59.846Z"
      },
      {
        "duration": 0,
        "start_time": "2024-07-15T22:47:59.849Z"
      },
      {
        "duration": 0,
        "start_time": "2024-07-15T22:47:59.851Z"
      },
      {
        "duration": 0,
        "start_time": "2024-07-15T22:47:59.854Z"
      },
      {
        "duration": 1,
        "start_time": "2024-07-15T22:47:59.857Z"
      },
      {
        "duration": 0,
        "start_time": "2024-07-15T22:47:59.860Z"
      },
      {
        "duration": 0,
        "start_time": "2024-07-15T22:47:59.862Z"
      },
      {
        "duration": 1,
        "start_time": "2024-07-15T22:47:59.865Z"
      },
      {
        "duration": 0,
        "start_time": "2024-07-15T22:47:59.868Z"
      },
      {
        "duration": 0,
        "start_time": "2024-07-15T22:47:59.870Z"
      },
      {
        "duration": 0,
        "start_time": "2024-07-15T22:47:59.931Z"
      },
      {
        "duration": 0,
        "start_time": "2024-07-15T22:47:59.933Z"
      },
      {
        "duration": 0,
        "start_time": "2024-07-15T22:47:59.935Z"
      },
      {
        "duration": 0,
        "start_time": "2024-07-15T22:47:59.937Z"
      },
      {
        "duration": 0,
        "start_time": "2024-07-15T22:47:59.939Z"
      },
      {
        "duration": 0,
        "start_time": "2024-07-15T22:47:59.941Z"
      },
      {
        "duration": 0,
        "start_time": "2024-07-15T22:47:59.943Z"
      },
      {
        "duration": 24,
        "start_time": "2024-07-15T22:49:41.166Z"
      },
      {
        "duration": 160,
        "start_time": "2024-07-15T23:03:47.820Z"
      },
      {
        "duration": 8,
        "start_time": "2024-07-15T23:03:51.565Z"
      },
      {
        "duration": 3,
        "start_time": "2024-07-15T23:04:09.566Z"
      },
      {
        "duration": 17,
        "start_time": "2024-07-15T23:11:09.038Z"
      },
      {
        "duration": 16,
        "start_time": "2024-07-15T23:11:16.909Z"
      },
      {
        "duration": 34,
        "start_time": "2024-07-15T23:13:10.935Z"
      },
      {
        "duration": 54,
        "start_time": "2024-07-15T23:13:26.048Z"
      },
      {
        "duration": 18,
        "start_time": "2024-07-15T23:13:48.406Z"
      },
      {
        "duration": 46,
        "start_time": "2024-07-15T23:13:50.324Z"
      },
      {
        "duration": 7,
        "start_time": "2024-07-15T23:15:11.816Z"
      },
      {
        "duration": 292,
        "start_time": "2024-07-15T23:15:25.303Z"
      },
      {
        "duration": 313,
        "start_time": "2024-07-15T23:15:32.850Z"
      },
      {
        "duration": 298,
        "start_time": "2024-07-15T23:15:39.163Z"
      },
      {
        "duration": 2357,
        "start_time": "2024-07-15T23:16:00.395Z"
      },
      {
        "duration": 298,
        "start_time": "2024-07-15T23:16:11.954Z"
      },
      {
        "duration": 290,
        "start_time": "2024-07-15T23:16:16.624Z"
      },
      {
        "duration": 13,
        "start_time": "2024-07-15T23:16:24.010Z"
      },
      {
        "duration": 27,
        "start_time": "2024-07-15T23:16:29.302Z"
      },
      {
        "duration": 445,
        "start_time": "2024-07-15T23:18:09.576Z"
      },
      {
        "duration": 334,
        "start_time": "2024-07-15T23:18:18.122Z"
      },
      {
        "duration": 369,
        "start_time": "2024-07-15T23:19:13.263Z"
      },
      {
        "duration": 319,
        "start_time": "2024-07-15T23:19:58.910Z"
      },
      {
        "duration": 315,
        "start_time": "2024-07-15T23:20:51.494Z"
      },
      {
        "duration": 407,
        "start_time": "2024-07-15T23:21:22.329Z"
      },
      {
        "duration": 32,
        "start_time": "2024-07-15T23:26:10.724Z"
      },
      {
        "duration": 17,
        "start_time": "2024-07-15T23:26:36.108Z"
      },
      {
        "duration": 27,
        "start_time": "2024-07-15T23:27:29.119Z"
      },
      {
        "duration": 216,
        "start_time": "2024-07-15T23:28:35.029Z"
      },
      {
        "duration": 212,
        "start_time": "2024-07-15T23:30:58.437Z"
      },
      {
        "duration": 238,
        "start_time": "2024-07-15T23:31:03.279Z"
      },
      {
        "duration": 386,
        "start_time": "2024-07-15T23:31:06.650Z"
      },
      {
        "duration": 173,
        "start_time": "2024-07-15T23:31:22.331Z"
      },
      {
        "duration": 159,
        "start_time": "2024-07-15T23:33:53.599Z"
      },
      {
        "duration": 168,
        "start_time": "2024-07-15T23:34:25.493Z"
      },
      {
        "duration": 158,
        "start_time": "2024-07-15T23:34:59.255Z"
      },
      {
        "duration": 226,
        "start_time": "2024-07-15T23:35:35.764Z"
      },
      {
        "duration": 249,
        "start_time": "2024-07-15T23:40:01.936Z"
      },
      {
        "duration": 219,
        "start_time": "2024-07-15T23:40:48.544Z"
      },
      {
        "duration": 278,
        "start_time": "2024-07-15T23:41:40.100Z"
      },
      {
        "duration": 209,
        "start_time": "2024-07-15T23:42:59.026Z"
      },
      {
        "duration": 204,
        "start_time": "2024-07-15T23:44:08.054Z"
      },
      {
        "duration": 226,
        "start_time": "2024-07-15T23:44:22.558Z"
      },
      {
        "duration": 226,
        "start_time": "2024-07-15T23:48:17.494Z"
      },
      {
        "duration": 244,
        "start_time": "2024-07-15T23:48:41.933Z"
      },
      {
        "duration": 324,
        "start_time": "2024-07-15T23:53:23.975Z"
      },
      {
        "duration": 210,
        "start_time": "2024-07-15T23:54:23.375Z"
      },
      {
        "duration": 293,
        "start_time": "2024-07-15T23:55:29.666Z"
      },
      {
        "duration": 291,
        "start_time": "2024-07-15T23:56:28.123Z"
      },
      {
        "duration": 25,
        "start_time": "2024-07-15T23:59:47.114Z"
      },
      {
        "duration": 34,
        "start_time": "2024-07-16T00:00:00.714Z"
      },
      {
        "duration": 36,
        "start_time": "2024-07-16T00:01:20.368Z"
      },
      {
        "duration": 41,
        "start_time": "2024-07-16T00:04:32.492Z"
      },
      {
        "duration": 978,
        "start_time": "2024-07-16T00:08:09.302Z"
      },
      {
        "duration": 114,
        "start_time": "2024-07-16T00:08:53.605Z"
      },
      {
        "duration": 35,
        "start_time": "2024-07-16T00:15:37.741Z"
      },
      {
        "duration": 58,
        "start_time": "2024-07-16T00:19:07.942Z"
      },
      {
        "duration": 48,
        "start_time": "2024-07-16T00:19:58.501Z"
      },
      {
        "duration": 48,
        "start_time": "2024-07-16T00:23:01.259Z"
      },
      {
        "duration": 128,
        "start_time": "2024-07-16T00:23:33.001Z"
      },
      {
        "duration": 142,
        "start_time": "2024-07-16T00:26:19.736Z"
      },
      {
        "duration": 38,
        "start_time": "2024-07-16T00:27:41.091Z"
      },
      {
        "duration": 41,
        "start_time": "2024-07-16T00:32:07.974Z"
      },
      {
        "duration": 6,
        "start_time": "2024-07-16T00:33:30.570Z"
      },
      {
        "duration": 6,
        "start_time": "2024-07-16T00:34:03.569Z"
      },
      {
        "duration": 39,
        "start_time": "2024-07-16T00:34:15.213Z"
      },
      {
        "duration": 12,
        "start_time": "2024-07-16T00:34:26.225Z"
      },
      {
        "duration": 10,
        "start_time": "2024-07-16T00:34:31.514Z"
      },
      {
        "duration": 11,
        "start_time": "2024-07-16T00:34:35.746Z"
      },
      {
        "duration": 43,
        "start_time": "2024-07-16T00:42:48.984Z"
      },
      {
        "duration": 12,
        "start_time": "2024-07-16T00:43:22.877Z"
      },
      {
        "duration": 10,
        "start_time": "2024-07-16T00:44:08.572Z"
      },
      {
        "duration": 11,
        "start_time": "2024-07-16T00:44:49.906Z"
      },
      {
        "duration": 13,
        "start_time": "2024-07-16T00:45:50.968Z"
      },
      {
        "duration": 12,
        "start_time": "2024-07-16T00:47:25.568Z"
      },
      {
        "duration": 11,
        "start_time": "2024-07-16T00:47:27.849Z"
      },
      {
        "duration": 14,
        "start_time": "2024-07-16T00:48:25.776Z"
      },
      {
        "duration": 12,
        "start_time": "2024-07-16T00:49:04.153Z"
      },
      {
        "duration": 13,
        "start_time": "2024-07-16T00:49:48.037Z"
      },
      {
        "duration": 14,
        "start_time": "2024-07-16T01:07:48.547Z"
      },
      {
        "duration": 9,
        "start_time": "2024-07-16T01:40:52.530Z"
      },
      {
        "duration": 15,
        "start_time": "2024-07-16T01:40:54.676Z"
      },
      {
        "duration": 16,
        "start_time": "2024-07-16T13:31:46.522Z"
      },
      {
        "duration": 1393,
        "start_time": "2024-07-16T13:35:01.027Z"
      },
      {
        "duration": 50,
        "start_time": "2024-07-16T13:35:02.425Z"
      },
      {
        "duration": 28,
        "start_time": "2024-07-16T13:35:02.478Z"
      },
      {
        "duration": 40,
        "start_time": "2024-07-16T13:35:02.509Z"
      },
      {
        "duration": 4,
        "start_time": "2024-07-16T13:35:02.556Z"
      },
      {
        "duration": 7,
        "start_time": "2024-07-16T13:35:02.564Z"
      },
      {
        "duration": 57,
        "start_time": "2024-07-16T13:35:02.574Z"
      },
      {
        "duration": 12,
        "start_time": "2024-07-16T13:35:02.634Z"
      },
      {
        "duration": 23,
        "start_time": "2024-07-16T13:35:02.650Z"
      },
      {
        "duration": 7,
        "start_time": "2024-07-16T13:35:02.676Z"
      },
      {
        "duration": 48,
        "start_time": "2024-07-16T13:35:02.687Z"
      },
      {
        "duration": 16,
        "start_time": "2024-07-16T13:35:02.739Z"
      },
      {
        "duration": 8,
        "start_time": "2024-07-16T13:35:02.758Z"
      },
      {
        "duration": 7,
        "start_time": "2024-07-16T13:35:02.776Z"
      },
      {
        "duration": 9674,
        "start_time": "2024-07-16T13:35:02.788Z"
      },
      {
        "duration": 9,
        "start_time": "2024-07-16T13:35:12.466Z"
      },
      {
        "duration": 9,
        "start_time": "2024-07-16T13:35:12.478Z"
      },
      {
        "duration": 12,
        "start_time": "2024-07-16T13:35:12.491Z"
      },
      {
        "duration": 25,
        "start_time": "2024-07-16T13:35:12.532Z"
      },
      {
        "duration": 18,
        "start_time": "2024-07-16T13:35:12.562Z"
      },
      {
        "duration": 19,
        "start_time": "2024-07-16T13:35:12.583Z"
      },
      {
        "duration": 26,
        "start_time": "2024-07-16T13:35:12.632Z"
      },
      {
        "duration": 20,
        "start_time": "2024-07-16T13:35:12.662Z"
      },
      {
        "duration": 54,
        "start_time": "2024-07-16T13:35:12.685Z"
      },
      {
        "duration": 606,
        "start_time": "2024-07-16T13:35:12.743Z"
      },
      {
        "duration": 394,
        "start_time": "2024-07-16T13:35:13.354Z"
      },
      {
        "duration": 18,
        "start_time": "2024-07-16T13:35:13.750Z"
      },
      {
        "duration": 34227,
        "start_time": "2024-07-16T13:35:13.771Z"
      },
      {
        "duration": 33,
        "start_time": "2024-07-16T13:35:48.001Z"
      },
      {
        "duration": 28,
        "start_time": "2024-07-16T13:35:48.037Z"
      },
      {
        "duration": 21,
        "start_time": "2024-07-16T13:35:48.071Z"
      },
      {
        "duration": 45,
        "start_time": "2024-07-16T13:35:48.095Z"
      },
      {
        "duration": 6,
        "start_time": "2024-07-16T13:35:48.144Z"
      },
      {
        "duration": 7,
        "start_time": "2024-07-16T13:35:48.154Z"
      },
      {
        "duration": 21,
        "start_time": "2024-07-16T13:35:48.163Z"
      },
      {
        "duration": 207,
        "start_time": "2024-07-16T13:35:48.190Z"
      },
      {
        "duration": 17,
        "start_time": "2024-07-16T13:35:48.400Z"
      },
      {
        "duration": 17,
        "start_time": "2024-07-16T13:35:48.434Z"
      },
      {
        "duration": 78,
        "start_time": "2024-07-16T13:35:48.455Z"
      },
      {
        "duration": 8,
        "start_time": "2024-07-16T13:35:48.537Z"
      },
      {
        "duration": 322,
        "start_time": "2024-07-16T13:35:48.565Z"
      },
      {
        "duration": 309,
        "start_time": "2024-07-16T13:35:48.891Z"
      },
      {
        "duration": 305,
        "start_time": "2024-07-16T13:35:49.204Z"
      },
      {
        "duration": 2216,
        "start_time": "2024-07-16T13:35:49.512Z"
      },
      {
        "duration": 331,
        "start_time": "2024-07-16T13:35:51.731Z"
      },
      {
        "duration": 376,
        "start_time": "2024-07-16T13:35:52.066Z"
      },
      {
        "duration": 13,
        "start_time": "2024-07-16T13:35:52.447Z"
      },
      {
        "duration": 23,
        "start_time": "2024-07-16T13:35:52.468Z"
      },
      {
        "duration": 18,
        "start_time": "2024-07-16T13:35:52.494Z"
      },
      {
        "duration": 27,
        "start_time": "2024-07-16T13:35:52.532Z"
      },
      {
        "duration": 242,
        "start_time": "2024-07-16T13:35:52.562Z"
      },
      {
        "duration": 232,
        "start_time": "2024-07-16T13:35:52.807Z"
      },
      {
        "duration": 251,
        "start_time": "2024-07-16T13:35:53.044Z"
      },
      {
        "duration": 432,
        "start_time": "2024-07-16T13:35:53.299Z"
      },
      {
        "duration": 163,
        "start_time": "2024-07-16T13:35:53.734Z"
      },
      {
        "duration": 189,
        "start_time": "2024-07-16T13:35:53.900Z"
      },
      {
        "duration": 166,
        "start_time": "2024-07-16T13:35:54.095Z"
      },
      {
        "duration": 180,
        "start_time": "2024-07-16T13:35:54.265Z"
      },
      {
        "duration": 246,
        "start_time": "2024-07-16T13:35:54.448Z"
      },
      {
        "duration": 247,
        "start_time": "2024-07-16T13:35:54.698Z"
      },
      {
        "duration": 226,
        "start_time": "2024-07-16T13:35:54.948Z"
      },
      {
        "duration": 336,
        "start_time": "2024-07-16T13:35:55.177Z"
      },
      {
        "duration": 226,
        "start_time": "2024-07-16T13:35:55.516Z"
      },
      {
        "duration": 257,
        "start_time": "2024-07-16T13:35:55.745Z"
      },
      {
        "duration": 226,
        "start_time": "2024-07-16T13:35:56.006Z"
      },
      {
        "duration": 257,
        "start_time": "2024-07-16T13:35:56.235Z"
      },
      {
        "duration": 15,
        "start_time": "2024-07-16T13:35:56.496Z"
      },
      {
        "duration": 25,
        "start_time": "2024-07-16T13:35:56.531Z"
      },
      {
        "duration": 40,
        "start_time": "2024-07-16T13:35:56.560Z"
      },
      {
        "duration": 63,
        "start_time": "2024-07-16T13:35:56.603Z"
      },
      {
        "duration": 41,
        "start_time": "2024-07-16T13:35:56.669Z"
      },
      {
        "duration": 40,
        "start_time": "2024-07-16T13:35:56.730Z"
      },
      {
        "duration": 61,
        "start_time": "2024-07-16T13:35:56.773Z"
      },
      {
        "duration": 13,
        "start_time": "2024-07-16T13:35:56.838Z"
      },
      {
        "duration": 14,
        "start_time": "2024-07-16T13:35:56.854Z"
      },
      {
        "duration": 14,
        "start_time": "2024-07-16T13:35:56.872Z"
      },
      {
        "duration": 52,
        "start_time": "2024-07-16T13:35:56.889Z"
      },
      {
        "duration": 13,
        "start_time": "2024-07-16T13:35:56.945Z"
      },
      {
        "duration": 15,
        "start_time": "2024-07-16T13:35:56.962Z"
      },
      {
        "duration": 53,
        "start_time": "2024-07-16T13:35:56.980Z"
      },
      {
        "duration": 14,
        "start_time": "2024-07-16T13:35:57.036Z"
      },
      {
        "duration": 14,
        "start_time": "2024-07-16T13:35:57.053Z"
      },
      {
        "duration": 13,
        "start_time": "2024-07-16T13:35:57.070Z"
      },
      {
        "duration": 52,
        "start_time": "2024-07-16T13:35:57.087Z"
      },
      {
        "duration": 13,
        "start_time": "2024-07-16T13:35:57.143Z"
      },
      {
        "duration": 15,
        "start_time": "2024-07-16T13:35:57.159Z"
      },
      {
        "duration": 57,
        "start_time": "2024-07-16T13:35:57.177Z"
      },
      {
        "duration": 22,
        "start_time": "2024-07-16T13:35:57.237Z"
      },
      {
        "duration": 443,
        "start_time": "2024-07-16T13:42:23.156Z"
      },
      {
        "duration": 29,
        "start_time": "2024-07-16T13:42:44.184Z"
      },
      {
        "duration": 15,
        "start_time": "2024-07-16T13:45:15.002Z"
      },
      {
        "duration": 9,
        "start_time": "2024-07-16T13:45:20.186Z"
      },
      {
        "duration": 11,
        "start_time": "2024-07-16T14:04:08.607Z"
      },
      {
        "duration": 35,
        "start_time": "2024-07-16T14:04:33.898Z"
      },
      {
        "duration": 44,
        "start_time": "2024-07-16T14:05:33.239Z"
      },
      {
        "duration": 4,
        "start_time": "2024-07-16T21:23:04.047Z"
      },
      {
        "duration": 34,
        "start_time": "2024-07-16T21:23:06.646Z"
      },
      {
        "duration": 17,
        "start_time": "2024-07-16T21:23:10.604Z"
      },
      {
        "duration": 18,
        "start_time": "2024-07-16T21:23:17.072Z"
      },
      {
        "duration": 4,
        "start_time": "2024-07-16T21:23:23.622Z"
      },
      {
        "duration": 4,
        "start_time": "2024-07-16T21:23:26.538Z"
      },
      {
        "duration": 5,
        "start_time": "2024-07-16T21:23:30.899Z"
      },
      {
        "duration": 21,
        "start_time": "2024-07-16T21:23:36.705Z"
      },
      {
        "duration": 6,
        "start_time": "2024-07-16T21:23:48.684Z"
      },
      {
        "duration": 25,
        "start_time": "2024-07-16T21:23:54.428Z"
      },
      {
        "duration": 5,
        "start_time": "2024-07-16T21:24:01.837Z"
      },
      {
        "duration": 13,
        "start_time": "2024-07-16T21:24:12.535Z"
      },
      {
        "duration": 12,
        "start_time": "2024-07-16T21:24:26.363Z"
      },
      {
        "duration": 7,
        "start_time": "2024-07-16T21:24:30.963Z"
      },
      {
        "duration": 7,
        "start_time": "2024-07-16T21:24:34.061Z"
      },
      {
        "duration": 9909,
        "start_time": "2024-07-16T21:25:06.738Z"
      },
      {
        "duration": 10,
        "start_time": "2024-07-16T21:39:24.356Z"
      },
      {
        "duration": 9,
        "start_time": "2024-07-16T21:42:34.919Z"
      },
      {
        "duration": 7,
        "start_time": "2024-07-16T21:46:13.063Z"
      },
      {
        "duration": 17,
        "start_time": "2024-07-16T21:47:14.794Z"
      },
      {
        "duration": 1310,
        "start_time": "2024-07-16T21:47:23.052Z"
      },
      {
        "duration": 40,
        "start_time": "2024-07-16T21:47:24.364Z"
      },
      {
        "duration": 36,
        "start_time": "2024-07-16T21:47:24.409Z"
      },
      {
        "duration": 18,
        "start_time": "2024-07-16T21:47:24.449Z"
      },
      {
        "duration": 5,
        "start_time": "2024-07-16T21:47:24.470Z"
      },
      {
        "duration": 6,
        "start_time": "2024-07-16T21:47:24.478Z"
      },
      {
        "duration": 66,
        "start_time": "2024-07-16T21:47:24.487Z"
      },
      {
        "duration": 6,
        "start_time": "2024-07-16T21:47:24.558Z"
      },
      {
        "duration": 24,
        "start_time": "2024-07-16T21:47:24.568Z"
      },
      {
        "duration": 35,
        "start_time": "2024-07-16T21:47:24.598Z"
      },
      {
        "duration": 14,
        "start_time": "2024-07-16T21:47:24.636Z"
      },
      {
        "duration": 13,
        "start_time": "2024-07-16T21:47:24.656Z"
      },
      {
        "duration": 8,
        "start_time": "2024-07-16T21:47:24.672Z"
      },
      {
        "duration": 49,
        "start_time": "2024-07-16T21:47:24.683Z"
      },
      {
        "duration": 9308,
        "start_time": "2024-07-16T21:47:24.736Z"
      },
      {
        "duration": 4,
        "start_time": "2024-07-16T21:47:34.048Z"
      },
      {
        "duration": 8,
        "start_time": "2024-07-16T21:47:34.055Z"
      },
      {
        "duration": 10,
        "start_time": "2024-07-16T21:47:34.066Z"
      },
      {
        "duration": 57,
        "start_time": "2024-07-16T21:47:34.081Z"
      },
      {
        "duration": 14,
        "start_time": "2024-07-16T21:47:34.141Z"
      },
      {
        "duration": 16,
        "start_time": "2024-07-16T21:47:34.159Z"
      },
      {
        "duration": 53,
        "start_time": "2024-07-16T21:47:34.177Z"
      },
      {
        "duration": 21,
        "start_time": "2024-07-16T21:47:34.233Z"
      },
      {
        "duration": 17,
        "start_time": "2024-07-16T21:47:34.257Z"
      },
      {
        "duration": 565,
        "start_time": "2024-07-16T21:47:34.277Z"
      },
      {
        "duration": 389,
        "start_time": "2024-07-16T21:47:34.845Z"
      },
      {
        "duration": 19,
        "start_time": "2024-07-16T21:47:35.236Z"
      },
      {
        "duration": 31611,
        "start_time": "2024-07-16T21:47:35.265Z"
      },
      {
        "duration": 16,
        "start_time": "2024-07-16T21:48:06.879Z"
      },
      {
        "duration": 37,
        "start_time": "2024-07-16T21:48:06.898Z"
      },
      {
        "duration": 20,
        "start_time": "2024-07-16T21:48:06.938Z"
      },
      {
        "duration": 19,
        "start_time": "2024-07-16T21:48:06.963Z"
      },
      {
        "duration": 45,
        "start_time": "2024-07-16T21:48:06.985Z"
      },
      {
        "duration": 5,
        "start_time": "2024-07-16T21:48:07.033Z"
      },
      {
        "duration": 15,
        "start_time": "2024-07-16T21:48:07.041Z"
      },
      {
        "duration": 182,
        "start_time": "2024-07-16T21:48:07.059Z"
      },
      {
        "duration": 17,
        "start_time": "2024-07-16T21:48:07.250Z"
      },
      {
        "duration": 17,
        "start_time": "2024-07-16T21:48:07.270Z"
      },
      {
        "duration": 71,
        "start_time": "2024-07-16T21:48:07.291Z"
      },
      {
        "duration": 7,
        "start_time": "2024-07-16T21:48:07.365Z"
      },
      {
        "duration": 293,
        "start_time": "2024-07-16T21:48:07.375Z"
      },
      {
        "duration": 296,
        "start_time": "2024-07-16T21:48:07.671Z"
      },
      {
        "duration": 296,
        "start_time": "2024-07-16T21:48:07.970Z"
      },
      {
        "duration": 2226,
        "start_time": "2024-07-16T21:48:08.270Z"
      },
      {
        "duration": 291,
        "start_time": "2024-07-16T21:48:10.498Z"
      },
      {
        "duration": 283,
        "start_time": "2024-07-16T21:48:10.792Z"
      },
      {
        "duration": 10,
        "start_time": "2024-07-16T21:48:11.077Z"
      },
      {
        "duration": 41,
        "start_time": "2024-07-16T21:48:11.089Z"
      },
      {
        "duration": 16,
        "start_time": "2024-07-16T21:48:11.133Z"
      },
      {
        "duration": 21,
        "start_time": "2024-07-16T21:48:11.152Z"
      },
      {
        "duration": 253,
        "start_time": "2024-07-16T21:48:11.177Z"
      },
      {
        "duration": 215,
        "start_time": "2024-07-16T21:48:11.433Z"
      },
      {
        "duration": 253,
        "start_time": "2024-07-16T21:48:11.651Z"
      },
      {
        "duration": 397,
        "start_time": "2024-07-16T21:48:11.907Z"
      },
      {
        "duration": 171,
        "start_time": "2024-07-16T21:48:12.306Z"
      },
      {
        "duration": 166,
        "start_time": "2024-07-16T21:48:12.483Z"
      },
      {
        "duration": 180,
        "start_time": "2024-07-16T21:48:12.651Z"
      },
      {
        "duration": 187,
        "start_time": "2024-07-16T21:48:12.834Z"
      },
      {
        "duration": 228,
        "start_time": "2024-07-16T21:48:13.024Z"
      },
      {
        "duration": 218,
        "start_time": "2024-07-16T21:48:13.255Z"
      },
      {
        "duration": 222,
        "start_time": "2024-07-16T21:48:13.476Z"
      },
      {
        "duration": 321,
        "start_time": "2024-07-16T21:48:13.701Z"
      },
      {
        "duration": 242,
        "start_time": "2024-07-16T21:48:14.025Z"
      },
      {
        "duration": 215,
        "start_time": "2024-07-16T21:48:14.271Z"
      },
      {
        "duration": 213,
        "start_time": "2024-07-16T21:48:14.489Z"
      },
      {
        "duration": 231,
        "start_time": "2024-07-16T21:48:14.707Z"
      },
      {
        "duration": 12,
        "start_time": "2024-07-16T21:48:14.941Z"
      },
      {
        "duration": 20,
        "start_time": "2024-07-16T21:48:14.956Z"
      },
      {
        "duration": 71,
        "start_time": "2024-07-16T21:48:14.978Z"
      },
      {
        "duration": 31,
        "start_time": "2024-07-16T21:48:15.052Z"
      },
      {
        "duration": 63,
        "start_time": "2024-07-16T21:48:15.086Z"
      },
      {
        "duration": 38,
        "start_time": "2024-07-16T21:48:15.155Z"
      },
      {
        "duration": 59,
        "start_time": "2024-07-16T21:48:15.197Z"
      },
      {
        "duration": 13,
        "start_time": "2024-07-16T21:48:15.260Z"
      },
      {
        "duration": 11,
        "start_time": "2024-07-16T21:48:15.276Z"
      },
      {
        "duration": 43,
        "start_time": "2024-07-16T21:48:15.290Z"
      },
      {
        "duration": 12,
        "start_time": "2024-07-16T21:48:15.336Z"
      },
      {
        "duration": 11,
        "start_time": "2024-07-16T21:48:15.351Z"
      },
      {
        "duration": 11,
        "start_time": "2024-07-16T21:48:15.365Z"
      },
      {
        "duration": 55,
        "start_time": "2024-07-16T21:48:15.379Z"
      },
      {
        "duration": 11,
        "start_time": "2024-07-16T21:48:15.437Z"
      },
      {
        "duration": 15,
        "start_time": "2024-07-16T21:48:15.462Z"
      },
      {
        "duration": 13,
        "start_time": "2024-07-16T21:48:15.480Z"
      },
      {
        "duration": 46,
        "start_time": "2024-07-16T21:48:15.495Z"
      },
      {
        "duration": 13,
        "start_time": "2024-07-16T21:48:15.544Z"
      },
      {
        "duration": 24,
        "start_time": "2024-07-16T21:48:15.560Z"
      },
      {
        "duration": 51,
        "start_time": "2024-07-16T21:48:15.586Z"
      },
      {
        "duration": 15,
        "start_time": "2024-07-16T21:48:15.640Z"
      },
      {
        "duration": 7,
        "start_time": "2024-07-16T21:48:15.658Z"
      },
      {
        "duration": 16,
        "start_time": "2024-07-16T21:52:42.121Z"
      },
      {
        "duration": 8,
        "start_time": "2024-07-16T21:54:41.662Z"
      },
      {
        "duration": 8,
        "start_time": "2024-07-16T21:58:23.824Z"
      },
      {
        "duration": 9,
        "start_time": "2024-07-16T22:24:09.069Z"
      },
      {
        "duration": 20,
        "start_time": "2024-07-16T23:12:22.231Z"
      },
      {
        "duration": 8,
        "start_time": "2024-07-16T23:12:32.208Z"
      },
      {
        "duration": 8,
        "start_time": "2024-07-16T23:17:16.919Z"
      },
      {
        "duration": 8,
        "start_time": "2024-07-16T23:17:52.485Z"
      },
      {
        "duration": 16,
        "start_time": "2024-07-16T23:27:31.557Z"
      },
      {
        "duration": 8,
        "start_time": "2024-07-16T23:27:35.043Z"
      },
      {
        "duration": 7,
        "start_time": "2024-07-16T23:30:01.977Z"
      },
      {
        "duration": 1607,
        "start_time": "2024-07-17T11:23:38.683Z"
      },
      {
        "duration": 57,
        "start_time": "2024-07-17T11:23:40.295Z"
      },
      {
        "duration": 42,
        "start_time": "2024-07-17T11:23:40.355Z"
      },
      {
        "duration": 33,
        "start_time": "2024-07-17T11:23:40.403Z"
      },
      {
        "duration": 6,
        "start_time": "2024-07-17T11:23:40.439Z"
      },
      {
        "duration": 9,
        "start_time": "2024-07-17T11:23:40.449Z"
      },
      {
        "duration": 29,
        "start_time": "2024-07-17T11:23:40.462Z"
      },
      {
        "duration": 9,
        "start_time": "2024-07-17T11:23:40.532Z"
      },
      {
        "duration": 24,
        "start_time": "2024-07-17T11:23:40.544Z"
      },
      {
        "duration": 6,
        "start_time": "2024-07-17T11:23:40.575Z"
      },
      {
        "duration": 51,
        "start_time": "2024-07-17T11:23:40.585Z"
      },
      {
        "duration": 21,
        "start_time": "2024-07-17T11:23:40.640Z"
      },
      {
        "duration": 8,
        "start_time": "2024-07-17T11:23:40.665Z"
      },
      {
        "duration": 9,
        "start_time": "2024-07-17T11:23:40.678Z"
      },
      {
        "duration": 7,
        "start_time": "2024-07-17T11:23:40.733Z"
      },
      {
        "duration": 9,
        "start_time": "2024-07-17T11:23:40.744Z"
      },
      {
        "duration": 13,
        "start_time": "2024-07-17T11:23:40.756Z"
      },
      {
        "duration": 70,
        "start_time": "2024-07-17T11:23:40.773Z"
      },
      {
        "duration": 25,
        "start_time": "2024-07-17T11:23:40.847Z"
      },
      {
        "duration": 54,
        "start_time": "2024-07-17T11:23:40.877Z"
      },
      {
        "duration": 30,
        "start_time": "2024-07-17T11:23:40.935Z"
      },
      {
        "duration": 25,
        "start_time": "2024-07-17T11:23:40.970Z"
      },
      {
        "duration": 46,
        "start_time": "2024-07-17T11:23:41.002Z"
      },
      {
        "duration": 641,
        "start_time": "2024-07-17T11:23:41.051Z"
      },
      {
        "duration": 478,
        "start_time": "2024-07-17T11:23:41.696Z"
      },
      {
        "duration": 24,
        "start_time": "2024-07-17T11:23:42.177Z"
      },
      {
        "duration": 35382,
        "start_time": "2024-07-17T11:23:42.204Z"
      },
      {
        "duration": 37,
        "start_time": "2024-07-17T11:24:17.598Z"
      },
      {
        "duration": 28,
        "start_time": "2024-07-17T11:24:17.639Z"
      },
      {
        "duration": 23,
        "start_time": "2024-07-17T11:24:17.671Z"
      },
      {
        "duration": 53,
        "start_time": "2024-07-17T11:24:17.697Z"
      },
      {
        "duration": 8,
        "start_time": "2024-07-17T11:24:17.754Z"
      },
      {
        "duration": 6,
        "start_time": "2024-07-17T11:24:17.766Z"
      },
      {
        "duration": 68,
        "start_time": "2024-07-17T11:24:17.778Z"
      },
      {
        "duration": 216,
        "start_time": "2024-07-17T11:24:17.849Z"
      },
      {
        "duration": 21,
        "start_time": "2024-07-17T11:24:18.069Z"
      },
      {
        "duration": 43,
        "start_time": "2024-07-17T11:24:18.093Z"
      },
      {
        "duration": 64,
        "start_time": "2024-07-17T11:24:18.142Z"
      },
      {
        "duration": 9,
        "start_time": "2024-07-17T11:24:18.231Z"
      },
      {
        "duration": 378,
        "start_time": "2024-07-17T11:24:18.244Z"
      },
      {
        "duration": 334,
        "start_time": "2024-07-17T11:24:18.631Z"
      },
      {
        "duration": 339,
        "start_time": "2024-07-17T11:24:18.971Z"
      },
      {
        "duration": 2954,
        "start_time": "2024-07-17T11:24:19.314Z"
      },
      {
        "duration": 363,
        "start_time": "2024-07-17T11:24:22.273Z"
      },
      {
        "duration": 330,
        "start_time": "2024-07-17T11:24:22.640Z"
      },
      {
        "duration": 15,
        "start_time": "2024-07-17T11:24:22.975Z"
      },
      {
        "duration": 52,
        "start_time": "2024-07-17T11:24:22.993Z"
      },
      {
        "duration": 18,
        "start_time": "2024-07-17T11:24:23.049Z"
      },
      {
        "duration": 60,
        "start_time": "2024-07-17T11:24:23.071Z"
      },
      {
        "duration": 287,
        "start_time": "2024-07-17T11:24:23.135Z"
      },
      {
        "duration": 270,
        "start_time": "2024-07-17T11:24:23.432Z"
      },
      {
        "duration": 411,
        "start_time": "2024-07-17T11:24:23.707Z"
      },
      {
        "duration": 532,
        "start_time": "2024-07-17T11:24:24.130Z"
      },
      {
        "duration": 222,
        "start_time": "2024-07-17T11:24:24.666Z"
      },
      {
        "duration": 204,
        "start_time": "2024-07-17T11:24:24.893Z"
      },
      {
        "duration": 216,
        "start_time": "2024-07-17T11:24:25.101Z"
      },
      {
        "duration": 240,
        "start_time": "2024-07-17T11:24:25.322Z"
      },
      {
        "duration": 356,
        "start_time": "2024-07-17T11:24:25.570Z"
      },
      {
        "duration": 281,
        "start_time": "2024-07-17T11:24:25.933Z"
      },
      {
        "duration": 256,
        "start_time": "2024-07-17T11:24:26.218Z"
      },
      {
        "duration": 393,
        "start_time": "2024-07-17T11:24:26.479Z"
      },
      {
        "duration": 265,
        "start_time": "2024-07-17T11:24:26.875Z"
      },
      {
        "duration": 263,
        "start_time": "2024-07-17T11:24:27.147Z"
      },
      {
        "duration": 252,
        "start_time": "2024-07-17T11:24:27.413Z"
      },
      {
        "duration": 284,
        "start_time": "2024-07-17T11:24:27.669Z"
      },
      {
        "duration": 15,
        "start_time": "2024-07-17T11:24:27.957Z"
      },
      {
        "duration": 51,
        "start_time": "2024-07-17T11:24:27.979Z"
      },
      {
        "duration": 47,
        "start_time": "2024-07-17T11:24:28.035Z"
      },
      {
        "duration": 60,
        "start_time": "2024-07-17T11:24:28.085Z"
      },
      {
        "duration": 44,
        "start_time": "2024-07-17T11:24:28.148Z"
      },
      {
        "duration": 67,
        "start_time": "2024-07-17T11:24:28.196Z"
      },
      {
        "duration": 42,
        "start_time": "2024-07-17T11:24:28.268Z"
      },
      {
        "duration": 15,
        "start_time": "2024-07-17T11:24:28.331Z"
      },
      {
        "duration": 14,
        "start_time": "2024-07-17T11:24:28.349Z"
      },
      {
        "duration": 25,
        "start_time": "2024-07-17T11:24:28.367Z"
      },
      {
        "duration": 15,
        "start_time": "2024-07-17T11:24:28.430Z"
      },
      {
        "duration": 16,
        "start_time": "2024-07-17T11:24:28.450Z"
      },
      {
        "duration": 12,
        "start_time": "2024-07-17T11:24:28.470Z"
      },
      {
        "duration": 54,
        "start_time": "2024-07-17T11:24:28.486Z"
      },
      {
        "duration": 13,
        "start_time": "2024-07-17T11:24:28.545Z"
      },
      {
        "duration": 13,
        "start_time": "2024-07-17T11:24:28.561Z"
      },
      {
        "duration": 16,
        "start_time": "2024-07-17T11:24:28.630Z"
      },
      {
        "duration": 16,
        "start_time": "2024-07-17T11:24:28.649Z"
      },
      {
        "duration": 15,
        "start_time": "2024-07-17T11:24:28.669Z"
      },
      {
        "duration": 57,
        "start_time": "2024-07-17T11:24:28.688Z"
      },
      {
        "duration": 17,
        "start_time": "2024-07-17T11:24:28.749Z"
      },
      {
        "duration": 9,
        "start_time": "2024-07-17T11:24:28.770Z"
      },
      {
        "duration": 53,
        "start_time": "2024-07-17T11:24:28.784Z"
      },
      {
        "duration": 25,
        "start_time": "2024-07-17T11:24:28.841Z"
      },
      {
        "duration": 12,
        "start_time": "2024-07-17T11:24:28.869Z"
      },
      {
        "duration": 49,
        "start_time": "2024-07-17T11:24:28.884Z"
      },
      {
        "duration": 20,
        "start_time": "2024-07-17T11:24:28.938Z"
      },
      {
        "duration": 12,
        "start_time": "2024-07-17T11:24:28.963Z"
      },
      {
        "duration": 9,
        "start_time": "2024-07-17T11:24:28.979Z"
      }
    ],
    "kernelspec": {
      "display_name": "Python 3 (ipykernel)",
      "language": "python",
      "name": "python3"
    },
    "language_info": {
      "codemirror_mode": {
        "name": "ipython",
        "version": 3
      },
      "file_extension": ".py",
      "mimetype": "text/x-python",
      "name": "python",
      "nbconvert_exporter": "python",
      "pygments_lexer": "ipython3",
      "version": "3.9.19"
    },
    "toc": {
      "base_numbering": 1,
      "nav_menu": {},
      "number_sections": true,
      "sideBar": true,
      "skip_h1_title": true,
      "title_cell": "Table of Contents",
      "title_sidebar": "Contents",
      "toc_cell": false,
      "toc_position": {},
      "toc_section_display": true,
      "toc_window_display": false
    },
    "colab": {
      "provenance": []
    }
  },
  "nbformat": 4,
  "nbformat_minor": 0
}